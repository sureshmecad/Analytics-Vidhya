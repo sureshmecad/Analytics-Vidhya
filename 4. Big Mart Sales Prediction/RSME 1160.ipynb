{
 "cells": [
  {
   "cell_type": "markdown",
   "metadata": {},
   "source": [
    "## Sales Prediction for Big Mart Outlets\n",
    "- The data scientists at BigMart have collected 2013 sales data for 1559 products across 10 stores in different cities. Also, certain attributes of each product and store have been defined. The aim is to build a predictive model and predict the sales of each product at a particular outlet.\n",
    "\n",
    "\n",
    "- Using this model, BigMart will try to understand the properties of products and outlets which play a key role in increasing sales.\n",
    "\n",
    "\n",
    "- Please note that the data may have missing values as some stores might not report all the data due to technical glitches. Hence, it will be required to treat them accordingly. "
   ]
  },
  {
   "cell_type": "markdown",
   "metadata": {},
   "source": [
    "### Data Dictionary\n",
    "- We have train (8523) and test (5681) data set, train data set has both input and output variable(s). You need to predict the sales for test data set.\n",
    "\n",
    "\n",
    "\n",
    "- **Train file:** CSV containing the item outlet information with sales value\n",
    "\n",
    "|Variable\t                     |Description                                                                                 |\n",
    "|---------------------           |------------------------------------------------------------------------------------------- | \n",
    "|Item_Identifier\t             |Unique product ID                                                                           |\n",
    "|Item_Weight\t                 |Weight of product                                                                           |\n",
    "|Item_Fat_Content\t             |Whether the product is low fat or not                                                       |\n",
    "|Item_Visibility\t             |The % of total display area of all products in a store allocated to the particular product  |\n",
    "|Item_Type\t                     |The category to which the product belongs                                                   |\n",
    "|Item_MRP\t                     |Maximum Retail Price (list price) of the product                                            |\n",
    "|Outlet_Identifier\t             |Unique store ID                                                                             |\n",
    "|Outlet_Establishment_Year\t     |The year in which store was established                                                     |\n",
    "|Outlet_Size\t                 |The size of the store in terms of ground area covered                                       |\n",
    "|Outlet_Location_Type\t         |The type of city in which the store is located                                              |\n",
    "|Outlet_Type\t                 |Whether the outlet is just a grocery store or some sort of supermarket                      |\n",
    "|Item_Outlet_Sales\t             |Sales of the product in the particular store. This is the outcome variable to be predicted  |\n",
    "\n",
    "- **Test file:** CSV containing item outlet combinations for which sales need to be forecasted\n",
    "\n",
    "|Variable\t                     |Description                                                                                 |\n",
    "|------------------------------  |------------------------------------------------------------------------------------------  |\n",
    "|Item_Identifier\t             |Unique product ID                                                                           |\n",
    "|Item_Weight\t                 |Weight of product                                                                           |\n",
    "|Item_Fat_Content\t             |Whether the product is low fat or not                                                       |\n",
    "|Item_Visibility\t             |The % of total display area of all products in a store allocated to the particular product  |\n",
    "|Item_Type\t                     |The category to which the product belongs                                                   |\n",
    "|Item_MRP\t                     |Maximum Retail Price (list price) of the product                                            |\n",
    "|Outlet_Identifier\t             |Unique store ID                                                                             |\n",
    "|Outlet_Establishment_Year\t     |The year in which store was established                                                     |\n",
    "|Outlet_Size\t                 |The size of the store in terms of ground area covered                                       |\n",
    "|Outlet_Location_Type\t         |The type of city in which the store is located                                              |\n",
    "|Outlet_Type\t                 |Whether the outlet is just a grocery store or some sort of supermarket                      |\n",
    "\n",
    "\n",
    "- **Submission file format**\n",
    "\n",
    "|Variable\t                     |Description\n",
    "|----------------------------    |------------------------------------------------------------------------------------------- |\n",
    "|Item_Identifier\t             |Unique product ID                                                                           |\n",
    "|Outlet_Identifier\t             |Unique store ID                                                                             |\n",
    "|Item_Outlet_Sales\t             |Sales of the product in the particular store. This is the outcome variable to be predicted  |\n"
   ]
  },
  {
   "cell_type": "markdown",
   "metadata": {},
   "source": [
    "### Evaluation Metric\n",
    "- Your model performance will be evaluated on the basis of your prediction of the sales for the test data (test.csv), which contains similar data-points as train except for the sales to be predicted. Your submission needs to be in the format as shown in sample submission.\n",
    "\n",
    "\n",
    "- We at our end, have the actual sales for the test dataset, against which your predictions will be evaluated. We will use the Root Mean Square Error value to judge your response."
   ]
  },
  {
   "cell_type": "code",
   "execution_count": 1,
   "metadata": {},
   "outputs": [],
   "source": [
    "import numpy as np\n",
    "import pandas as pd\n",
    "\n",
    "import matplotlib.pyplot as plt\n",
    "%matplotlib inline\n",
    "import seaborn as sns\n",
    "\n",
    "sns.set_style(\"darkgrid\")"
   ]
  },
  {
   "cell_type": "code",
   "execution_count": 2,
   "metadata": {},
   "outputs": [],
   "source": [
    "train = pd.read_csv(\"train_v9rqX0R.csv\")\n",
    "test = pd.read_csv(\"test_AbJTz2l.csv\")\n",
    "submission = pd.read_csv(\"sample_submission_8RXa3c6.csv\")"
   ]
  },
  {
   "cell_type": "code",
   "execution_count": 3,
   "metadata": {},
   "outputs": [
    {
     "data": {
      "text/html": [
       "<div>\n",
       "<style scoped>\n",
       "    .dataframe tbody tr th:only-of-type {\n",
       "        vertical-align: middle;\n",
       "    }\n",
       "\n",
       "    .dataframe tbody tr th {\n",
       "        vertical-align: top;\n",
       "    }\n",
       "\n",
       "    .dataframe thead th {\n",
       "        text-align: right;\n",
       "    }\n",
       "</style>\n",
       "<table border=\"1\" class=\"dataframe\">\n",
       "  <thead>\n",
       "    <tr style=\"text-align: right;\">\n",
       "      <th></th>\n",
       "      <th>Item_Identifier</th>\n",
       "      <th>Item_Weight</th>\n",
       "      <th>Item_Fat_Content</th>\n",
       "      <th>Item_Visibility</th>\n",
       "      <th>Item_Type</th>\n",
       "      <th>Item_MRP</th>\n",
       "      <th>Outlet_Identifier</th>\n",
       "      <th>Outlet_Establishment_Year</th>\n",
       "      <th>Outlet_Size</th>\n",
       "      <th>Outlet_Location_Type</th>\n",
       "      <th>Outlet_Type</th>\n",
       "      <th>Item_Outlet_Sales</th>\n",
       "    </tr>\n",
       "  </thead>\n",
       "  <tbody>\n",
       "    <tr>\n",
       "      <th>0</th>\n",
       "      <td>FDA15</td>\n",
       "      <td>9.30</td>\n",
       "      <td>Low Fat</td>\n",
       "      <td>0.016047</td>\n",
       "      <td>Dairy</td>\n",
       "      <td>249.8092</td>\n",
       "      <td>OUT049</td>\n",
       "      <td>1999</td>\n",
       "      <td>Medium</td>\n",
       "      <td>Tier 1</td>\n",
       "      <td>Supermarket Type1</td>\n",
       "      <td>3735.1380</td>\n",
       "    </tr>\n",
       "    <tr>\n",
       "      <th>1</th>\n",
       "      <td>DRC01</td>\n",
       "      <td>5.92</td>\n",
       "      <td>Regular</td>\n",
       "      <td>0.019278</td>\n",
       "      <td>Soft Drinks</td>\n",
       "      <td>48.2692</td>\n",
       "      <td>OUT018</td>\n",
       "      <td>2009</td>\n",
       "      <td>Medium</td>\n",
       "      <td>Tier 3</td>\n",
       "      <td>Supermarket Type2</td>\n",
       "      <td>443.4228</td>\n",
       "    </tr>\n",
       "    <tr>\n",
       "      <th>2</th>\n",
       "      <td>FDN15</td>\n",
       "      <td>17.50</td>\n",
       "      <td>Low Fat</td>\n",
       "      <td>0.016760</td>\n",
       "      <td>Meat</td>\n",
       "      <td>141.6180</td>\n",
       "      <td>OUT049</td>\n",
       "      <td>1999</td>\n",
       "      <td>Medium</td>\n",
       "      <td>Tier 1</td>\n",
       "      <td>Supermarket Type1</td>\n",
       "      <td>2097.2700</td>\n",
       "    </tr>\n",
       "    <tr>\n",
       "      <th>3</th>\n",
       "      <td>FDX07</td>\n",
       "      <td>19.20</td>\n",
       "      <td>Regular</td>\n",
       "      <td>0.000000</td>\n",
       "      <td>Fruits and Vegetables</td>\n",
       "      <td>182.0950</td>\n",
       "      <td>OUT010</td>\n",
       "      <td>1998</td>\n",
       "      <td>NaN</td>\n",
       "      <td>Tier 3</td>\n",
       "      <td>Grocery Store</td>\n",
       "      <td>732.3800</td>\n",
       "    </tr>\n",
       "    <tr>\n",
       "      <th>4</th>\n",
       "      <td>NCD19</td>\n",
       "      <td>8.93</td>\n",
       "      <td>Low Fat</td>\n",
       "      <td>0.000000</td>\n",
       "      <td>Household</td>\n",
       "      <td>53.8614</td>\n",
       "      <td>OUT013</td>\n",
       "      <td>1987</td>\n",
       "      <td>High</td>\n",
       "      <td>Tier 3</td>\n",
       "      <td>Supermarket Type1</td>\n",
       "      <td>994.7052</td>\n",
       "    </tr>\n",
       "  </tbody>\n",
       "</table>\n",
       "</div>"
      ],
      "text/plain": [
       "  Item_Identifier  Item_Weight Item_Fat_Content  Item_Visibility  \\\n",
       "0           FDA15         9.30          Low Fat         0.016047   \n",
       "1           DRC01         5.92          Regular         0.019278   \n",
       "2           FDN15        17.50          Low Fat         0.016760   \n",
       "3           FDX07        19.20          Regular         0.000000   \n",
       "4           NCD19         8.93          Low Fat         0.000000   \n",
       "\n",
       "               Item_Type  Item_MRP Outlet_Identifier  \\\n",
       "0                  Dairy  249.8092            OUT049   \n",
       "1            Soft Drinks   48.2692            OUT018   \n",
       "2                   Meat  141.6180            OUT049   \n",
       "3  Fruits and Vegetables  182.0950            OUT010   \n",
       "4              Household   53.8614            OUT013   \n",
       "\n",
       "   Outlet_Establishment_Year Outlet_Size Outlet_Location_Type  \\\n",
       "0                       1999      Medium               Tier 1   \n",
       "1                       2009      Medium               Tier 3   \n",
       "2                       1999      Medium               Tier 1   \n",
       "3                       1998         NaN               Tier 3   \n",
       "4                       1987        High               Tier 3   \n",
       "\n",
       "         Outlet_Type  Item_Outlet_Sales  \n",
       "0  Supermarket Type1          3735.1380  \n",
       "1  Supermarket Type2           443.4228  \n",
       "2  Supermarket Type1          2097.2700  \n",
       "3      Grocery Store           732.3800  \n",
       "4  Supermarket Type1           994.7052  "
      ]
     },
     "metadata": {},
     "output_type": "display_data"
    },
    {
     "data": {
      "text/html": [
       "<div>\n",
       "<style scoped>\n",
       "    .dataframe tbody tr th:only-of-type {\n",
       "        vertical-align: middle;\n",
       "    }\n",
       "\n",
       "    .dataframe tbody tr th {\n",
       "        vertical-align: top;\n",
       "    }\n",
       "\n",
       "    .dataframe thead th {\n",
       "        text-align: right;\n",
       "    }\n",
       "</style>\n",
       "<table border=\"1\" class=\"dataframe\">\n",
       "  <thead>\n",
       "    <tr style=\"text-align: right;\">\n",
       "      <th></th>\n",
       "      <th>Item_Identifier</th>\n",
       "      <th>Item_Weight</th>\n",
       "      <th>Item_Fat_Content</th>\n",
       "      <th>Item_Visibility</th>\n",
       "      <th>Item_Type</th>\n",
       "      <th>Item_MRP</th>\n",
       "      <th>Outlet_Identifier</th>\n",
       "      <th>Outlet_Establishment_Year</th>\n",
       "      <th>Outlet_Size</th>\n",
       "      <th>Outlet_Location_Type</th>\n",
       "      <th>Outlet_Type</th>\n",
       "    </tr>\n",
       "  </thead>\n",
       "  <tbody>\n",
       "    <tr>\n",
       "      <th>0</th>\n",
       "      <td>FDW58</td>\n",
       "      <td>20.750</td>\n",
       "      <td>Low Fat</td>\n",
       "      <td>0.007565</td>\n",
       "      <td>Snack Foods</td>\n",
       "      <td>107.8622</td>\n",
       "      <td>OUT049</td>\n",
       "      <td>1999</td>\n",
       "      <td>Medium</td>\n",
       "      <td>Tier 1</td>\n",
       "      <td>Supermarket Type1</td>\n",
       "    </tr>\n",
       "    <tr>\n",
       "      <th>1</th>\n",
       "      <td>FDW14</td>\n",
       "      <td>8.300</td>\n",
       "      <td>reg</td>\n",
       "      <td>0.038428</td>\n",
       "      <td>Dairy</td>\n",
       "      <td>87.3198</td>\n",
       "      <td>OUT017</td>\n",
       "      <td>2007</td>\n",
       "      <td>NaN</td>\n",
       "      <td>Tier 2</td>\n",
       "      <td>Supermarket Type1</td>\n",
       "    </tr>\n",
       "    <tr>\n",
       "      <th>2</th>\n",
       "      <td>NCN55</td>\n",
       "      <td>14.600</td>\n",
       "      <td>Low Fat</td>\n",
       "      <td>0.099575</td>\n",
       "      <td>Others</td>\n",
       "      <td>241.7538</td>\n",
       "      <td>OUT010</td>\n",
       "      <td>1998</td>\n",
       "      <td>NaN</td>\n",
       "      <td>Tier 3</td>\n",
       "      <td>Grocery Store</td>\n",
       "    </tr>\n",
       "    <tr>\n",
       "      <th>3</th>\n",
       "      <td>FDQ58</td>\n",
       "      <td>7.315</td>\n",
       "      <td>Low Fat</td>\n",
       "      <td>0.015388</td>\n",
       "      <td>Snack Foods</td>\n",
       "      <td>155.0340</td>\n",
       "      <td>OUT017</td>\n",
       "      <td>2007</td>\n",
       "      <td>NaN</td>\n",
       "      <td>Tier 2</td>\n",
       "      <td>Supermarket Type1</td>\n",
       "    </tr>\n",
       "    <tr>\n",
       "      <th>4</th>\n",
       "      <td>FDY38</td>\n",
       "      <td>NaN</td>\n",
       "      <td>Regular</td>\n",
       "      <td>0.118599</td>\n",
       "      <td>Dairy</td>\n",
       "      <td>234.2300</td>\n",
       "      <td>OUT027</td>\n",
       "      <td>1985</td>\n",
       "      <td>Medium</td>\n",
       "      <td>Tier 3</td>\n",
       "      <td>Supermarket Type3</td>\n",
       "    </tr>\n",
       "  </tbody>\n",
       "</table>\n",
       "</div>"
      ],
      "text/plain": [
       "  Item_Identifier  Item_Weight Item_Fat_Content  Item_Visibility    Item_Type  \\\n",
       "0           FDW58       20.750          Low Fat         0.007565  Snack Foods   \n",
       "1           FDW14        8.300              reg         0.038428        Dairy   \n",
       "2           NCN55       14.600          Low Fat         0.099575       Others   \n",
       "3           FDQ58        7.315          Low Fat         0.015388  Snack Foods   \n",
       "4           FDY38          NaN          Regular         0.118599        Dairy   \n",
       "\n",
       "   Item_MRP Outlet_Identifier  Outlet_Establishment_Year Outlet_Size  \\\n",
       "0  107.8622            OUT049                       1999      Medium   \n",
       "1   87.3198            OUT017                       2007         NaN   \n",
       "2  241.7538            OUT010                       1998         NaN   \n",
       "3  155.0340            OUT017                       2007         NaN   \n",
       "4  234.2300            OUT027                       1985      Medium   \n",
       "\n",
       "  Outlet_Location_Type        Outlet_Type  \n",
       "0               Tier 1  Supermarket Type1  \n",
       "1               Tier 2  Supermarket Type1  \n",
       "2               Tier 3      Grocery Store  \n",
       "3               Tier 2  Supermarket Type1  \n",
       "4               Tier 3  Supermarket Type3  "
      ]
     },
     "metadata": {},
     "output_type": "display_data"
    },
    {
     "data": {
      "text/html": [
       "<div>\n",
       "<style scoped>\n",
       "    .dataframe tbody tr th:only-of-type {\n",
       "        vertical-align: middle;\n",
       "    }\n",
       "\n",
       "    .dataframe tbody tr th {\n",
       "        vertical-align: top;\n",
       "    }\n",
       "\n",
       "    .dataframe thead th {\n",
       "        text-align: right;\n",
       "    }\n",
       "</style>\n",
       "<table border=\"1\" class=\"dataframe\">\n",
       "  <thead>\n",
       "    <tr style=\"text-align: right;\">\n",
       "      <th></th>\n",
       "      <th>Item_Identifier</th>\n",
       "      <th>Outlet_Identifier</th>\n",
       "      <th>Item_Outlet_Sales</th>\n",
       "    </tr>\n",
       "  </thead>\n",
       "  <tbody>\n",
       "    <tr>\n",
       "      <th>0</th>\n",
       "      <td>FDW58</td>\n",
       "      <td>OUT049</td>\n",
       "      <td>1000</td>\n",
       "    </tr>\n",
       "    <tr>\n",
       "      <th>1</th>\n",
       "      <td>FDW14</td>\n",
       "      <td>OUT017</td>\n",
       "      <td>1000</td>\n",
       "    </tr>\n",
       "    <tr>\n",
       "      <th>2</th>\n",
       "      <td>NCN55</td>\n",
       "      <td>OUT010</td>\n",
       "      <td>1000</td>\n",
       "    </tr>\n",
       "    <tr>\n",
       "      <th>3</th>\n",
       "      <td>FDQ58</td>\n",
       "      <td>OUT017</td>\n",
       "      <td>1000</td>\n",
       "    </tr>\n",
       "    <tr>\n",
       "      <th>4</th>\n",
       "      <td>FDY38</td>\n",
       "      <td>OUT027</td>\n",
       "      <td>1000</td>\n",
       "    </tr>\n",
       "  </tbody>\n",
       "</table>\n",
       "</div>"
      ],
      "text/plain": [
       "  Item_Identifier Outlet_Identifier  Item_Outlet_Sales\n",
       "0           FDW58            OUT049               1000\n",
       "1           FDW14            OUT017               1000\n",
       "2           NCN55            OUT010               1000\n",
       "3           FDQ58            OUT017               1000\n",
       "4           FDY38            OUT027               1000"
      ]
     },
     "metadata": {},
     "output_type": "display_data"
    }
   ],
   "source": [
    "display(train.head())\n",
    "display(test.head())\n",
    "display(submission.head())"
   ]
  },
  {
   "cell_type": "code",
   "execution_count": 4,
   "metadata": {},
   "outputs": [
    {
     "data": {
      "text/plain": [
       "(8523, 12)"
      ]
     },
     "metadata": {},
     "output_type": "display_data"
    },
    {
     "data": {
      "text/plain": [
       "(5681, 11)"
      ]
     },
     "metadata": {},
     "output_type": "display_data"
    }
   ],
   "source": [
    "display(train.shape)\n",
    "display(test.shape)"
   ]
  },
  {
   "cell_type": "code",
   "execution_count": 5,
   "metadata": {},
   "outputs": [],
   "source": [
    "train_original = train.copy()\n",
    "test_original = test.copy()"
   ]
  },
  {
   "cell_type": "markdown",
   "metadata": {},
   "source": [
    "### Missing Values"
   ]
  },
  {
   "cell_type": "code",
   "execution_count": 6,
   "metadata": {},
   "outputs": [
    {
     "data": {
      "text/plain": [
       "Item_Identifier                 0\n",
       "Item_Weight                  1463\n",
       "Item_Fat_Content                0\n",
       "Item_Visibility                 0\n",
       "Item_Type                       0\n",
       "Item_MRP                        0\n",
       "Outlet_Identifier               0\n",
       "Outlet_Establishment_Year       0\n",
       "Outlet_Size                  2410\n",
       "Outlet_Location_Type            0\n",
       "Outlet_Type                     0\n",
       "Item_Outlet_Sales               0\n",
       "dtype: int64"
      ]
     },
     "metadata": {},
     "output_type": "display_data"
    },
    {
     "data": {
      "text/plain": [
       "Item_Identifier                 0\n",
       "Item_Weight                   976\n",
       "Item_Fat_Content                0\n",
       "Item_Visibility                 0\n",
       "Item_Type                       0\n",
       "Item_MRP                        0\n",
       "Outlet_Identifier               0\n",
       "Outlet_Establishment_Year       0\n",
       "Outlet_Size                  1606\n",
       "Outlet_Location_Type            0\n",
       "Outlet_Type                     0\n",
       "dtype: int64"
      ]
     },
     "metadata": {},
     "output_type": "display_data"
    }
   ],
   "source": [
    "display(train.isnull().sum())\n",
    "display(test.isnull().sum())"
   ]
  },
  {
   "cell_type": "code",
   "execution_count": 7,
   "metadata": {},
   "outputs": [
    {
     "data": {
      "text/plain": [
       "12.6"
      ]
     },
     "execution_count": 7,
     "metadata": {},
     "output_type": "execute_result"
    }
   ],
   "source": [
    "train['Item_Weight'].median()"
   ]
  },
  {
   "cell_type": "code",
   "execution_count": 8,
   "metadata": {},
   "outputs": [
    {
     "data": {
      "text/plain": [
       "12.5"
      ]
     },
     "execution_count": 8,
     "metadata": {},
     "output_type": "execute_result"
    }
   ],
   "source": [
    "test['Item_Weight'].median()"
   ]
  },
  {
   "cell_type": "code",
   "execution_count": 9,
   "metadata": {},
   "outputs": [],
   "source": [
    "train['Item_Weight'] = train['Item_Weight'].fillna(12.6)\n",
    "test['Item_Weight'] = test['Item_Weight'].fillna(12.5)"
   ]
  },
  {
   "cell_type": "code",
   "execution_count": 10,
   "metadata": {},
   "outputs": [],
   "source": [
    "train['Outlet_Size'] = train['Outlet_Size'].fillna(train['Outlet_Size'].mode()[0])\n",
    "test['Outlet_Size'] = test['Outlet_Size'].fillna(test['Outlet_Size'].mode()[0])"
   ]
  },
  {
   "cell_type": "code",
   "execution_count": 11,
   "metadata": {
    "scrolled": true
   },
   "outputs": [
    {
     "data": {
      "text/plain": [
       "Item_Identifier              0\n",
       "Item_Weight                  0\n",
       "Item_Fat_Content             0\n",
       "Item_Visibility              0\n",
       "Item_Type                    0\n",
       "Item_MRP                     0\n",
       "Outlet_Identifier            0\n",
       "Outlet_Establishment_Year    0\n",
       "Outlet_Size                  0\n",
       "Outlet_Location_Type         0\n",
       "Outlet_Type                  0\n",
       "Item_Outlet_Sales            0\n",
       "dtype: int64"
      ]
     },
     "metadata": {},
     "output_type": "display_data"
    },
    {
     "data": {
      "text/plain": [
       "Item_Identifier              0\n",
       "Item_Weight                  0\n",
       "Item_Fat_Content             0\n",
       "Item_Visibility              0\n",
       "Item_Type                    0\n",
       "Item_MRP                     0\n",
       "Outlet_Identifier            0\n",
       "Outlet_Establishment_Year    0\n",
       "Outlet_Size                  0\n",
       "Outlet_Location_Type         0\n",
       "Outlet_Type                  0\n",
       "dtype: int64"
      ]
     },
     "metadata": {},
     "output_type": "display_data"
    }
   ],
   "source": [
    "display(train.isnull().sum())\n",
    "display(test.isnull().sum())"
   ]
  },
  {
   "cell_type": "code",
   "execution_count": 12,
   "metadata": {},
   "outputs": [],
   "source": [
    "train.drop(['Item_Identifier', 'Outlet_Identifier'], axis=1, inplace=True)\n",
    "test.drop(['Item_Identifier', 'Outlet_Identifier'], axis=1, inplace=True)"
   ]
  },
  {
   "cell_type": "markdown",
   "metadata": {},
   "source": [
    "## EDA (Exploratory Data Analysis)"
   ]
  },
  {
   "cell_type": "markdown",
   "metadata": {},
   "source": [
    "### 1. Item_Fat_Content"
   ]
  },
  {
   "cell_type": "code",
   "execution_count": 13,
   "metadata": {
    "scrolled": true
   },
   "outputs": [
    {
     "data": {
      "text/plain": [
       "Low Fat    5089\n",
       "Regular    2889\n",
       "LF          316\n",
       "reg         117\n",
       "low fat     112\n",
       "Name: Item_Fat_Content, dtype: int64"
      ]
     },
     "metadata": {},
     "output_type": "display_data"
    },
    {
     "data": {
      "text/plain": [
       "Low Fat    3396\n",
       "Regular    1935\n",
       "LF          206\n",
       "reg          78\n",
       "low fat      66\n",
       "Name: Item_Fat_Content, dtype: int64"
      ]
     },
     "metadata": {},
     "output_type": "display_data"
    }
   ],
   "source": [
    "display(train['Item_Fat_Content'].value_counts())\n",
    "display(test['Item_Fat_Content'].value_counts())"
   ]
  },
  {
   "cell_type": "code",
   "execution_count": 14,
   "metadata": {},
   "outputs": [],
   "source": [
    "train['Item_Fat_Content'] = train['Item_Fat_Content'].str.replace('LF', 'Low Fat')\n",
    "test['Item_Fat_Content'] = test['Item_Fat_Content'].str.replace('LF', 'Low Fat')"
   ]
  },
  {
   "cell_type": "code",
   "execution_count": 15,
   "metadata": {},
   "outputs": [],
   "source": [
    "train['Item_Fat_Content'] = train['Item_Fat_Content'].str.replace('low fat', 'Low Fat')\n",
    "test['Item_Fat_Content'] = test['Item_Fat_Content'].str.replace('low fat', 'Low Fat')"
   ]
  },
  {
   "cell_type": "code",
   "execution_count": 16,
   "metadata": {},
   "outputs": [],
   "source": [
    "train['Item_Fat_Content'] = train['Item_Fat_Content'].str.replace('reg', 'Regular')\n",
    "test['Item_Fat_Content'] = test['Item_Fat_Content'].str.replace('reg', 'Regular')"
   ]
  },
  {
   "cell_type": "code",
   "execution_count": 17,
   "metadata": {
    "scrolled": false
   },
   "outputs": [
    {
     "data": {
      "text/plain": [
       "Low Fat    5517\n",
       "Regular    3006\n",
       "Name: Item_Fat_Content, dtype: int64"
      ]
     },
     "metadata": {},
     "output_type": "display_data"
    },
    {
     "data": {
      "text/plain": [
       "Low Fat    3668\n",
       "Regular    2013\n",
       "Name: Item_Fat_Content, dtype: int64"
      ]
     },
     "metadata": {},
     "output_type": "display_data"
    }
   ],
   "source": [
    "display(train['Item_Fat_Content'].value_counts())\n",
    "display(test['Item_Fat_Content'].value_counts())"
   ]
  },
  {
   "cell_type": "code",
   "execution_count": 18,
   "metadata": {},
   "outputs": [],
   "source": [
    "train['Item_Fat_Content'] = train['Item_Fat_Content'].map({'Low Fat':0, \"Regular\":1})\n",
    "test['Item_Fat_Content'] = test['Item_Fat_Content'].map({'Low Fat':0, \"Regular\":1})"
   ]
  },
  {
   "cell_type": "code",
   "execution_count": 19,
   "metadata": {},
   "outputs": [
    {
     "data": {
      "text/plain": [
       "0    5517\n",
       "1    3006\n",
       "Name: Item_Fat_Content, dtype: int64"
      ]
     },
     "metadata": {},
     "output_type": "display_data"
    },
    {
     "data": {
      "text/plain": [
       "0    3668\n",
       "1    2013\n",
       "Name: Item_Fat_Content, dtype: int64"
      ]
     },
     "metadata": {},
     "output_type": "display_data"
    }
   ],
   "source": [
    "display(train['Item_Fat_Content'].value_counts())\n",
    "display(test['Item_Fat_Content'].value_counts())"
   ]
  },
  {
   "cell_type": "markdown",
   "metadata": {},
   "source": [
    "### 1. Train Data"
   ]
  },
  {
   "cell_type": "markdown",
   "metadata": {},
   "source": [
    "### Numerical Columns"
   ]
  },
  {
   "cell_type": "code",
   "execution_count": 20,
   "metadata": {},
   "outputs": [
    {
     "data": {
      "text/html": [
       "<div>\n",
       "<style scoped>\n",
       "    .dataframe tbody tr th:only-of-type {\n",
       "        vertical-align: middle;\n",
       "    }\n",
       "\n",
       "    .dataframe tbody tr th {\n",
       "        vertical-align: top;\n",
       "    }\n",
       "\n",
       "    .dataframe thead th {\n",
       "        text-align: right;\n",
       "    }\n",
       "</style>\n",
       "<table border=\"1\" class=\"dataframe\">\n",
       "  <thead>\n",
       "    <tr style=\"text-align: right;\">\n",
       "      <th></th>\n",
       "      <th>Item_Weight</th>\n",
       "      <th>Item_Fat_Content</th>\n",
       "      <th>Item_Visibility</th>\n",
       "      <th>Item_MRP</th>\n",
       "      <th>Outlet_Establishment_Year</th>\n",
       "      <th>Item_Outlet_Sales</th>\n",
       "    </tr>\n",
       "  </thead>\n",
       "  <tbody>\n",
       "    <tr>\n",
       "      <th>0</th>\n",
       "      <td>9.30</td>\n",
       "      <td>0</td>\n",
       "      <td>0.016047</td>\n",
       "      <td>249.8092</td>\n",
       "      <td>1999</td>\n",
       "      <td>3735.1380</td>\n",
       "    </tr>\n",
       "    <tr>\n",
       "      <th>1</th>\n",
       "      <td>5.92</td>\n",
       "      <td>1</td>\n",
       "      <td>0.019278</td>\n",
       "      <td>48.2692</td>\n",
       "      <td>2009</td>\n",
       "      <td>443.4228</td>\n",
       "    </tr>\n",
       "    <tr>\n",
       "      <th>2</th>\n",
       "      <td>17.50</td>\n",
       "      <td>0</td>\n",
       "      <td>0.016760</td>\n",
       "      <td>141.6180</td>\n",
       "      <td>1999</td>\n",
       "      <td>2097.2700</td>\n",
       "    </tr>\n",
       "    <tr>\n",
       "      <th>3</th>\n",
       "      <td>19.20</td>\n",
       "      <td>1</td>\n",
       "      <td>0.000000</td>\n",
       "      <td>182.0950</td>\n",
       "      <td>1998</td>\n",
       "      <td>732.3800</td>\n",
       "    </tr>\n",
       "    <tr>\n",
       "      <th>4</th>\n",
       "      <td>8.93</td>\n",
       "      <td>0</td>\n",
       "      <td>0.000000</td>\n",
       "      <td>53.8614</td>\n",
       "      <td>1987</td>\n",
       "      <td>994.7052</td>\n",
       "    </tr>\n",
       "  </tbody>\n",
       "</table>\n",
       "</div>"
      ],
      "text/plain": [
       "   Item_Weight  Item_Fat_Content  Item_Visibility  Item_MRP  \\\n",
       "0         9.30                 0         0.016047  249.8092   \n",
       "1         5.92                 1         0.019278   48.2692   \n",
       "2        17.50                 0         0.016760  141.6180   \n",
       "3        19.20                 1         0.000000  182.0950   \n",
       "4         8.93                 0         0.000000   53.8614   \n",
       "\n",
       "   Outlet_Establishment_Year  Item_Outlet_Sales  \n",
       "0                       1999          3735.1380  \n",
       "1                       2009           443.4228  \n",
       "2                       1999          2097.2700  \n",
       "3                       1998           732.3800  \n",
       "4                       1987           994.7052  "
      ]
     },
     "metadata": {},
     "output_type": "display_data"
    },
    {
     "name": "stdout",
     "output_type": "stream",
     "text": [
      "\n",
      "\n"
     ]
    },
    {
     "data": {
      "text/plain": [
       "Index(['Item_Weight', 'Item_Fat_Content', 'Item_Visibility', 'Item_MRP',\n",
       "       'Outlet_Establishment_Year', 'Item_Outlet_Sales'],\n",
       "      dtype='object')"
      ]
     },
     "execution_count": 20,
     "metadata": {},
     "output_type": "execute_result"
    }
   ],
   "source": [
    "numeric_cols_train = train.select_dtypes(include=[np.number])\n",
    "display(numeric_cols_train.head())\n",
    "print('\\n')\n",
    "numeric_cols_train.columns"
   ]
  },
  {
   "cell_type": "code",
   "execution_count": 21,
   "metadata": {},
   "outputs": [
    {
     "data": {
      "text/plain": [
       "(8523, 6)"
      ]
     },
     "execution_count": 21,
     "metadata": {},
     "output_type": "execute_result"
    }
   ],
   "source": [
    "numeric_cols_train.shape"
   ]
  },
  {
   "cell_type": "markdown",
   "metadata": {},
   "source": [
    "### Categorical Columns"
   ]
  },
  {
   "cell_type": "code",
   "execution_count": 22,
   "metadata": {},
   "outputs": [
    {
     "data": {
      "text/html": [
       "<div>\n",
       "<style scoped>\n",
       "    .dataframe tbody tr th:only-of-type {\n",
       "        vertical-align: middle;\n",
       "    }\n",
       "\n",
       "    .dataframe tbody tr th {\n",
       "        vertical-align: top;\n",
       "    }\n",
       "\n",
       "    .dataframe thead th {\n",
       "        text-align: right;\n",
       "    }\n",
       "</style>\n",
       "<table border=\"1\" class=\"dataframe\">\n",
       "  <thead>\n",
       "    <tr style=\"text-align: right;\">\n",
       "      <th></th>\n",
       "      <th>Item_Type</th>\n",
       "      <th>Outlet_Size</th>\n",
       "      <th>Outlet_Location_Type</th>\n",
       "      <th>Outlet_Type</th>\n",
       "    </tr>\n",
       "  </thead>\n",
       "  <tbody>\n",
       "    <tr>\n",
       "      <th>0</th>\n",
       "      <td>Dairy</td>\n",
       "      <td>Medium</td>\n",
       "      <td>Tier 1</td>\n",
       "      <td>Supermarket Type1</td>\n",
       "    </tr>\n",
       "    <tr>\n",
       "      <th>1</th>\n",
       "      <td>Soft Drinks</td>\n",
       "      <td>Medium</td>\n",
       "      <td>Tier 3</td>\n",
       "      <td>Supermarket Type2</td>\n",
       "    </tr>\n",
       "    <tr>\n",
       "      <th>2</th>\n",
       "      <td>Meat</td>\n",
       "      <td>Medium</td>\n",
       "      <td>Tier 1</td>\n",
       "      <td>Supermarket Type1</td>\n",
       "    </tr>\n",
       "    <tr>\n",
       "      <th>3</th>\n",
       "      <td>Fruits and Vegetables</td>\n",
       "      <td>Medium</td>\n",
       "      <td>Tier 3</td>\n",
       "      <td>Grocery Store</td>\n",
       "    </tr>\n",
       "    <tr>\n",
       "      <th>4</th>\n",
       "      <td>Household</td>\n",
       "      <td>High</td>\n",
       "      <td>Tier 3</td>\n",
       "      <td>Supermarket Type1</td>\n",
       "    </tr>\n",
       "  </tbody>\n",
       "</table>\n",
       "</div>"
      ],
      "text/plain": [
       "               Item_Type Outlet_Size Outlet_Location_Type        Outlet_Type\n",
       "0                  Dairy      Medium               Tier 1  Supermarket Type1\n",
       "1            Soft Drinks      Medium               Tier 3  Supermarket Type2\n",
       "2                   Meat      Medium               Tier 1  Supermarket Type1\n",
       "3  Fruits and Vegetables      Medium               Tier 3      Grocery Store\n",
       "4              Household        High               Tier 3  Supermarket Type1"
      ]
     },
     "metadata": {},
     "output_type": "display_data"
    },
    {
     "name": "stdout",
     "output_type": "stream",
     "text": [
      "\n",
      "\n"
     ]
    },
    {
     "data": {
      "text/plain": [
       "Index(['Item_Type', 'Outlet_Size', 'Outlet_Location_Type', 'Outlet_Type'], dtype='object')"
      ]
     },
     "execution_count": 22,
     "metadata": {},
     "output_type": "execute_result"
    }
   ],
   "source": [
    "categorical_cols_train = train.select_dtypes(include=[np.object])\n",
    "display(categorical_cols_train.head())\n",
    "print('\\n')\n",
    "categorical_cols_train.columns"
   ]
  },
  {
   "cell_type": "code",
   "execution_count": 23,
   "metadata": {
    "scrolled": true
   },
   "outputs": [
    {
     "data": {
      "text/plain": [
       "(8523, 4)"
      ]
     },
     "execution_count": 23,
     "metadata": {},
     "output_type": "execute_result"
    }
   ],
   "source": [
    "categorical_cols_train.shape"
   ]
  },
  {
   "cell_type": "markdown",
   "metadata": {},
   "source": [
    "### 2. Test Data"
   ]
  },
  {
   "cell_type": "markdown",
   "metadata": {},
   "source": [
    "### Numerical"
   ]
  },
  {
   "cell_type": "code",
   "execution_count": 24,
   "metadata": {},
   "outputs": [
    {
     "data": {
      "text/html": [
       "<div>\n",
       "<style scoped>\n",
       "    .dataframe tbody tr th:only-of-type {\n",
       "        vertical-align: middle;\n",
       "    }\n",
       "\n",
       "    .dataframe tbody tr th {\n",
       "        vertical-align: top;\n",
       "    }\n",
       "\n",
       "    .dataframe thead th {\n",
       "        text-align: right;\n",
       "    }\n",
       "</style>\n",
       "<table border=\"1\" class=\"dataframe\">\n",
       "  <thead>\n",
       "    <tr style=\"text-align: right;\">\n",
       "      <th></th>\n",
       "      <th>Item_Weight</th>\n",
       "      <th>Item_Fat_Content</th>\n",
       "      <th>Item_Visibility</th>\n",
       "      <th>Item_MRP</th>\n",
       "      <th>Outlet_Establishment_Year</th>\n",
       "    </tr>\n",
       "  </thead>\n",
       "  <tbody>\n",
       "    <tr>\n",
       "      <th>0</th>\n",
       "      <td>20.750</td>\n",
       "      <td>0</td>\n",
       "      <td>0.007565</td>\n",
       "      <td>107.8622</td>\n",
       "      <td>1999</td>\n",
       "    </tr>\n",
       "    <tr>\n",
       "      <th>1</th>\n",
       "      <td>8.300</td>\n",
       "      <td>1</td>\n",
       "      <td>0.038428</td>\n",
       "      <td>87.3198</td>\n",
       "      <td>2007</td>\n",
       "    </tr>\n",
       "    <tr>\n",
       "      <th>2</th>\n",
       "      <td>14.600</td>\n",
       "      <td>0</td>\n",
       "      <td>0.099575</td>\n",
       "      <td>241.7538</td>\n",
       "      <td>1998</td>\n",
       "    </tr>\n",
       "    <tr>\n",
       "      <th>3</th>\n",
       "      <td>7.315</td>\n",
       "      <td>0</td>\n",
       "      <td>0.015388</td>\n",
       "      <td>155.0340</td>\n",
       "      <td>2007</td>\n",
       "    </tr>\n",
       "    <tr>\n",
       "      <th>4</th>\n",
       "      <td>12.500</td>\n",
       "      <td>1</td>\n",
       "      <td>0.118599</td>\n",
       "      <td>234.2300</td>\n",
       "      <td>1985</td>\n",
       "    </tr>\n",
       "  </tbody>\n",
       "</table>\n",
       "</div>"
      ],
      "text/plain": [
       "   Item_Weight  Item_Fat_Content  Item_Visibility  Item_MRP  \\\n",
       "0       20.750                 0         0.007565  107.8622   \n",
       "1        8.300                 1         0.038428   87.3198   \n",
       "2       14.600                 0         0.099575  241.7538   \n",
       "3        7.315                 0         0.015388  155.0340   \n",
       "4       12.500                 1         0.118599  234.2300   \n",
       "\n",
       "   Outlet_Establishment_Year  \n",
       "0                       1999  \n",
       "1                       2007  \n",
       "2                       1998  \n",
       "3                       2007  \n",
       "4                       1985  "
      ]
     },
     "metadata": {},
     "output_type": "display_data"
    },
    {
     "name": "stdout",
     "output_type": "stream",
     "text": [
      "\n",
      "\n"
     ]
    },
    {
     "data": {
      "text/plain": [
       "Index(['Item_Weight', 'Item_Fat_Content', 'Item_Visibility', 'Item_MRP',\n",
       "       'Outlet_Establishment_Year'],\n",
       "      dtype='object')"
      ]
     },
     "execution_count": 24,
     "metadata": {},
     "output_type": "execute_result"
    }
   ],
   "source": [
    "numeric_cols_test = test.select_dtypes(include=[np.number])\n",
    "display(numeric_cols_test.head())\n",
    "print('\\n')\n",
    "numeric_cols_test.columns"
   ]
  },
  {
   "cell_type": "code",
   "execution_count": 25,
   "metadata": {},
   "outputs": [
    {
     "data": {
      "text/plain": [
       "(5681, 5)"
      ]
     },
     "execution_count": 25,
     "metadata": {},
     "output_type": "execute_result"
    }
   ],
   "source": [
    "numeric_cols_test.shape"
   ]
  },
  {
   "cell_type": "markdown",
   "metadata": {},
   "source": [
    "### Categorical Columns"
   ]
  },
  {
   "cell_type": "code",
   "execution_count": 26,
   "metadata": {},
   "outputs": [
    {
     "data": {
      "text/html": [
       "<div>\n",
       "<style scoped>\n",
       "    .dataframe tbody tr th:only-of-type {\n",
       "        vertical-align: middle;\n",
       "    }\n",
       "\n",
       "    .dataframe tbody tr th {\n",
       "        vertical-align: top;\n",
       "    }\n",
       "\n",
       "    .dataframe thead th {\n",
       "        text-align: right;\n",
       "    }\n",
       "</style>\n",
       "<table border=\"1\" class=\"dataframe\">\n",
       "  <thead>\n",
       "    <tr style=\"text-align: right;\">\n",
       "      <th></th>\n",
       "      <th>Item_Type</th>\n",
       "      <th>Outlet_Size</th>\n",
       "      <th>Outlet_Location_Type</th>\n",
       "      <th>Outlet_Type</th>\n",
       "    </tr>\n",
       "  </thead>\n",
       "  <tbody>\n",
       "    <tr>\n",
       "      <th>0</th>\n",
       "      <td>Snack Foods</td>\n",
       "      <td>Medium</td>\n",
       "      <td>Tier 1</td>\n",
       "      <td>Supermarket Type1</td>\n",
       "    </tr>\n",
       "    <tr>\n",
       "      <th>1</th>\n",
       "      <td>Dairy</td>\n",
       "      <td>Medium</td>\n",
       "      <td>Tier 2</td>\n",
       "      <td>Supermarket Type1</td>\n",
       "    </tr>\n",
       "    <tr>\n",
       "      <th>2</th>\n",
       "      <td>Others</td>\n",
       "      <td>Medium</td>\n",
       "      <td>Tier 3</td>\n",
       "      <td>Grocery Store</td>\n",
       "    </tr>\n",
       "    <tr>\n",
       "      <th>3</th>\n",
       "      <td>Snack Foods</td>\n",
       "      <td>Medium</td>\n",
       "      <td>Tier 2</td>\n",
       "      <td>Supermarket Type1</td>\n",
       "    </tr>\n",
       "    <tr>\n",
       "      <th>4</th>\n",
       "      <td>Dairy</td>\n",
       "      <td>Medium</td>\n",
       "      <td>Tier 3</td>\n",
       "      <td>Supermarket Type3</td>\n",
       "    </tr>\n",
       "  </tbody>\n",
       "</table>\n",
       "</div>"
      ],
      "text/plain": [
       "     Item_Type Outlet_Size Outlet_Location_Type        Outlet_Type\n",
       "0  Snack Foods      Medium               Tier 1  Supermarket Type1\n",
       "1        Dairy      Medium               Tier 2  Supermarket Type1\n",
       "2       Others      Medium               Tier 3      Grocery Store\n",
       "3  Snack Foods      Medium               Tier 2  Supermarket Type1\n",
       "4        Dairy      Medium               Tier 3  Supermarket Type3"
      ]
     },
     "metadata": {},
     "output_type": "display_data"
    },
    {
     "name": "stdout",
     "output_type": "stream",
     "text": [
      "\n",
      "\n"
     ]
    },
    {
     "data": {
      "text/plain": [
       "Index(['Item_Type', 'Outlet_Size', 'Outlet_Location_Type', 'Outlet_Type'], dtype='object')"
      ]
     },
     "execution_count": 26,
     "metadata": {},
     "output_type": "execute_result"
    }
   ],
   "source": [
    "categorical_cols_test = test.select_dtypes(include=[np.object])\n",
    "display(categorical_cols_test.head())\n",
    "print('\\n')\n",
    "categorical_cols_test.columns"
   ]
  },
  {
   "cell_type": "code",
   "execution_count": 27,
   "metadata": {
    "scrolled": false
   },
   "outputs": [
    {
     "data": {
      "text/plain": [
       "(5681, 4)"
      ]
     },
     "execution_count": 27,
     "metadata": {},
     "output_type": "execute_result"
    }
   ],
   "source": [
    "categorical_cols_test.shape"
   ]
  },
  {
   "cell_type": "markdown",
   "metadata": {},
   "source": [
    "------------"
   ]
  },
  {
   "cell_type": "markdown",
   "metadata": {},
   "source": [
    "<h1 style=\"color:blue\" align=\"left\"> 1. Get Dummies All Features </h1>"
   ]
  },
  {
   "cell_type": "code",
   "execution_count": 29,
   "metadata": {
    "scrolled": true
   },
   "outputs": [],
   "source": [
    "categorical_cols_train_label = pd.get_dummies(categorical_cols_train, drop_first=True)\n",
    "categorical_cols_test_label = pd.get_dummies(categorical_cols_test, drop_first=True)"
   ]
  },
  {
   "cell_type": "code",
   "execution_count": 30,
   "metadata": {
    "scrolled": true
   },
   "outputs": [
    {
     "data": {
      "text/html": [
       "<div>\n",
       "<style scoped>\n",
       "    .dataframe tbody tr th:only-of-type {\n",
       "        vertical-align: middle;\n",
       "    }\n",
       "\n",
       "    .dataframe tbody tr th {\n",
       "        vertical-align: top;\n",
       "    }\n",
       "\n",
       "    .dataframe thead th {\n",
       "        text-align: right;\n",
       "    }\n",
       "</style>\n",
       "<table border=\"1\" class=\"dataframe\">\n",
       "  <thead>\n",
       "    <tr style=\"text-align: right;\">\n",
       "      <th></th>\n",
       "      <th>Item_Type_Breads</th>\n",
       "      <th>Item_Type_Breakfast</th>\n",
       "      <th>Item_Type_Canned</th>\n",
       "      <th>Item_Type_Dairy</th>\n",
       "      <th>Item_Type_Frozen Foods</th>\n",
       "      <th>Item_Type_Fruits and Vegetables</th>\n",
       "      <th>Item_Type_Hard Drinks</th>\n",
       "      <th>Item_Type_Health and Hygiene</th>\n",
       "      <th>Item_Type_Household</th>\n",
       "      <th>Item_Type_Meat</th>\n",
       "      <th>...</th>\n",
       "      <th>Item_Type_Snack Foods</th>\n",
       "      <th>Item_Type_Soft Drinks</th>\n",
       "      <th>Item_Type_Starchy Foods</th>\n",
       "      <th>Outlet_Size_Medium</th>\n",
       "      <th>Outlet_Size_Small</th>\n",
       "      <th>Outlet_Location_Type_Tier 2</th>\n",
       "      <th>Outlet_Location_Type_Tier 3</th>\n",
       "      <th>Outlet_Type_Supermarket Type1</th>\n",
       "      <th>Outlet_Type_Supermarket Type2</th>\n",
       "      <th>Outlet_Type_Supermarket Type3</th>\n",
       "    </tr>\n",
       "  </thead>\n",
       "  <tbody>\n",
       "    <tr>\n",
       "      <th>0</th>\n",
       "      <td>0</td>\n",
       "      <td>0</td>\n",
       "      <td>0</td>\n",
       "      <td>1</td>\n",
       "      <td>0</td>\n",
       "      <td>0</td>\n",
       "      <td>0</td>\n",
       "      <td>0</td>\n",
       "      <td>0</td>\n",
       "      <td>0</td>\n",
       "      <td>...</td>\n",
       "      <td>0</td>\n",
       "      <td>0</td>\n",
       "      <td>0</td>\n",
       "      <td>1</td>\n",
       "      <td>0</td>\n",
       "      <td>0</td>\n",
       "      <td>0</td>\n",
       "      <td>1</td>\n",
       "      <td>0</td>\n",
       "      <td>0</td>\n",
       "    </tr>\n",
       "    <tr>\n",
       "      <th>1</th>\n",
       "      <td>0</td>\n",
       "      <td>0</td>\n",
       "      <td>0</td>\n",
       "      <td>0</td>\n",
       "      <td>0</td>\n",
       "      <td>0</td>\n",
       "      <td>0</td>\n",
       "      <td>0</td>\n",
       "      <td>0</td>\n",
       "      <td>0</td>\n",
       "      <td>...</td>\n",
       "      <td>0</td>\n",
       "      <td>1</td>\n",
       "      <td>0</td>\n",
       "      <td>1</td>\n",
       "      <td>0</td>\n",
       "      <td>0</td>\n",
       "      <td>1</td>\n",
       "      <td>0</td>\n",
       "      <td>1</td>\n",
       "      <td>0</td>\n",
       "    </tr>\n",
       "    <tr>\n",
       "      <th>2</th>\n",
       "      <td>0</td>\n",
       "      <td>0</td>\n",
       "      <td>0</td>\n",
       "      <td>0</td>\n",
       "      <td>0</td>\n",
       "      <td>0</td>\n",
       "      <td>0</td>\n",
       "      <td>0</td>\n",
       "      <td>0</td>\n",
       "      <td>1</td>\n",
       "      <td>...</td>\n",
       "      <td>0</td>\n",
       "      <td>0</td>\n",
       "      <td>0</td>\n",
       "      <td>1</td>\n",
       "      <td>0</td>\n",
       "      <td>0</td>\n",
       "      <td>0</td>\n",
       "      <td>1</td>\n",
       "      <td>0</td>\n",
       "      <td>0</td>\n",
       "    </tr>\n",
       "    <tr>\n",
       "      <th>3</th>\n",
       "      <td>0</td>\n",
       "      <td>0</td>\n",
       "      <td>0</td>\n",
       "      <td>0</td>\n",
       "      <td>0</td>\n",
       "      <td>1</td>\n",
       "      <td>0</td>\n",
       "      <td>0</td>\n",
       "      <td>0</td>\n",
       "      <td>0</td>\n",
       "      <td>...</td>\n",
       "      <td>0</td>\n",
       "      <td>0</td>\n",
       "      <td>0</td>\n",
       "      <td>1</td>\n",
       "      <td>0</td>\n",
       "      <td>0</td>\n",
       "      <td>1</td>\n",
       "      <td>0</td>\n",
       "      <td>0</td>\n",
       "      <td>0</td>\n",
       "    </tr>\n",
       "    <tr>\n",
       "      <th>4</th>\n",
       "      <td>0</td>\n",
       "      <td>0</td>\n",
       "      <td>0</td>\n",
       "      <td>0</td>\n",
       "      <td>0</td>\n",
       "      <td>0</td>\n",
       "      <td>0</td>\n",
       "      <td>0</td>\n",
       "      <td>1</td>\n",
       "      <td>0</td>\n",
       "      <td>...</td>\n",
       "      <td>0</td>\n",
       "      <td>0</td>\n",
       "      <td>0</td>\n",
       "      <td>0</td>\n",
       "      <td>0</td>\n",
       "      <td>0</td>\n",
       "      <td>1</td>\n",
       "      <td>1</td>\n",
       "      <td>0</td>\n",
       "      <td>0</td>\n",
       "    </tr>\n",
       "  </tbody>\n",
       "</table>\n",
       "<p>5 rows × 22 columns</p>\n",
       "</div>"
      ],
      "text/plain": [
       "   Item_Type_Breads  Item_Type_Breakfast  Item_Type_Canned  Item_Type_Dairy  \\\n",
       "0                 0                    0                 0                1   \n",
       "1                 0                    0                 0                0   \n",
       "2                 0                    0                 0                0   \n",
       "3                 0                    0                 0                0   \n",
       "4                 0                    0                 0                0   \n",
       "\n",
       "   Item_Type_Frozen Foods  Item_Type_Fruits and Vegetables  \\\n",
       "0                       0                                0   \n",
       "1                       0                                0   \n",
       "2                       0                                0   \n",
       "3                       0                                1   \n",
       "4                       0                                0   \n",
       "\n",
       "   Item_Type_Hard Drinks  Item_Type_Health and Hygiene  Item_Type_Household  \\\n",
       "0                      0                             0                    0   \n",
       "1                      0                             0                    0   \n",
       "2                      0                             0                    0   \n",
       "3                      0                             0                    0   \n",
       "4                      0                             0                    1   \n",
       "\n",
       "   Item_Type_Meat  ...  Item_Type_Snack Foods  Item_Type_Soft Drinks  \\\n",
       "0               0  ...                      0                      0   \n",
       "1               0  ...                      0                      1   \n",
       "2               1  ...                      0                      0   \n",
       "3               0  ...                      0                      0   \n",
       "4               0  ...                      0                      0   \n",
       "\n",
       "   Item_Type_Starchy Foods  Outlet_Size_Medium  Outlet_Size_Small  \\\n",
       "0                        0                   1                  0   \n",
       "1                        0                   1                  0   \n",
       "2                        0                   1                  0   \n",
       "3                        0                   1                  0   \n",
       "4                        0                   0                  0   \n",
       "\n",
       "   Outlet_Location_Type_Tier 2  Outlet_Location_Type_Tier 3  \\\n",
       "0                            0                            0   \n",
       "1                            0                            1   \n",
       "2                            0                            0   \n",
       "3                            0                            1   \n",
       "4                            0                            1   \n",
       "\n",
       "   Outlet_Type_Supermarket Type1  Outlet_Type_Supermarket Type2  \\\n",
       "0                              1                              0   \n",
       "1                              0                              1   \n",
       "2                              1                              0   \n",
       "3                              0                              0   \n",
       "4                              1                              0   \n",
       "\n",
       "   Outlet_Type_Supermarket Type3  \n",
       "0                              0  \n",
       "1                              0  \n",
       "2                              0  \n",
       "3                              0  \n",
       "4                              0  \n",
       "\n",
       "[5 rows x 22 columns]"
      ]
     },
     "metadata": {},
     "output_type": "display_data"
    },
    {
     "data": {
      "text/html": [
       "<div>\n",
       "<style scoped>\n",
       "    .dataframe tbody tr th:only-of-type {\n",
       "        vertical-align: middle;\n",
       "    }\n",
       "\n",
       "    .dataframe tbody tr th {\n",
       "        vertical-align: top;\n",
       "    }\n",
       "\n",
       "    .dataframe thead th {\n",
       "        text-align: right;\n",
       "    }\n",
       "</style>\n",
       "<table border=\"1\" class=\"dataframe\">\n",
       "  <thead>\n",
       "    <tr style=\"text-align: right;\">\n",
       "      <th></th>\n",
       "      <th>Item_Type_Breads</th>\n",
       "      <th>Item_Type_Breakfast</th>\n",
       "      <th>Item_Type_Canned</th>\n",
       "      <th>Item_Type_Dairy</th>\n",
       "      <th>Item_Type_Frozen Foods</th>\n",
       "      <th>Item_Type_Fruits and Vegetables</th>\n",
       "      <th>Item_Type_Hard Drinks</th>\n",
       "      <th>Item_Type_Health and Hygiene</th>\n",
       "      <th>Item_Type_Household</th>\n",
       "      <th>Item_Type_Meat</th>\n",
       "      <th>...</th>\n",
       "      <th>Item_Type_Snack Foods</th>\n",
       "      <th>Item_Type_Soft Drinks</th>\n",
       "      <th>Item_Type_Starchy Foods</th>\n",
       "      <th>Outlet_Size_Medium</th>\n",
       "      <th>Outlet_Size_Small</th>\n",
       "      <th>Outlet_Location_Type_Tier 2</th>\n",
       "      <th>Outlet_Location_Type_Tier 3</th>\n",
       "      <th>Outlet_Type_Supermarket Type1</th>\n",
       "      <th>Outlet_Type_Supermarket Type2</th>\n",
       "      <th>Outlet_Type_Supermarket Type3</th>\n",
       "    </tr>\n",
       "  </thead>\n",
       "  <tbody>\n",
       "    <tr>\n",
       "      <th>0</th>\n",
       "      <td>0</td>\n",
       "      <td>0</td>\n",
       "      <td>0</td>\n",
       "      <td>0</td>\n",
       "      <td>0</td>\n",
       "      <td>0</td>\n",
       "      <td>0</td>\n",
       "      <td>0</td>\n",
       "      <td>0</td>\n",
       "      <td>0</td>\n",
       "      <td>...</td>\n",
       "      <td>1</td>\n",
       "      <td>0</td>\n",
       "      <td>0</td>\n",
       "      <td>1</td>\n",
       "      <td>0</td>\n",
       "      <td>0</td>\n",
       "      <td>0</td>\n",
       "      <td>1</td>\n",
       "      <td>0</td>\n",
       "      <td>0</td>\n",
       "    </tr>\n",
       "    <tr>\n",
       "      <th>1</th>\n",
       "      <td>0</td>\n",
       "      <td>0</td>\n",
       "      <td>0</td>\n",
       "      <td>1</td>\n",
       "      <td>0</td>\n",
       "      <td>0</td>\n",
       "      <td>0</td>\n",
       "      <td>0</td>\n",
       "      <td>0</td>\n",
       "      <td>0</td>\n",
       "      <td>...</td>\n",
       "      <td>0</td>\n",
       "      <td>0</td>\n",
       "      <td>0</td>\n",
       "      <td>1</td>\n",
       "      <td>0</td>\n",
       "      <td>1</td>\n",
       "      <td>0</td>\n",
       "      <td>1</td>\n",
       "      <td>0</td>\n",
       "      <td>0</td>\n",
       "    </tr>\n",
       "    <tr>\n",
       "      <th>2</th>\n",
       "      <td>0</td>\n",
       "      <td>0</td>\n",
       "      <td>0</td>\n",
       "      <td>0</td>\n",
       "      <td>0</td>\n",
       "      <td>0</td>\n",
       "      <td>0</td>\n",
       "      <td>0</td>\n",
       "      <td>0</td>\n",
       "      <td>0</td>\n",
       "      <td>...</td>\n",
       "      <td>0</td>\n",
       "      <td>0</td>\n",
       "      <td>0</td>\n",
       "      <td>1</td>\n",
       "      <td>0</td>\n",
       "      <td>0</td>\n",
       "      <td>1</td>\n",
       "      <td>0</td>\n",
       "      <td>0</td>\n",
       "      <td>0</td>\n",
       "    </tr>\n",
       "    <tr>\n",
       "      <th>3</th>\n",
       "      <td>0</td>\n",
       "      <td>0</td>\n",
       "      <td>0</td>\n",
       "      <td>0</td>\n",
       "      <td>0</td>\n",
       "      <td>0</td>\n",
       "      <td>0</td>\n",
       "      <td>0</td>\n",
       "      <td>0</td>\n",
       "      <td>0</td>\n",
       "      <td>...</td>\n",
       "      <td>1</td>\n",
       "      <td>0</td>\n",
       "      <td>0</td>\n",
       "      <td>1</td>\n",
       "      <td>0</td>\n",
       "      <td>1</td>\n",
       "      <td>0</td>\n",
       "      <td>1</td>\n",
       "      <td>0</td>\n",
       "      <td>0</td>\n",
       "    </tr>\n",
       "    <tr>\n",
       "      <th>4</th>\n",
       "      <td>0</td>\n",
       "      <td>0</td>\n",
       "      <td>0</td>\n",
       "      <td>1</td>\n",
       "      <td>0</td>\n",
       "      <td>0</td>\n",
       "      <td>0</td>\n",
       "      <td>0</td>\n",
       "      <td>0</td>\n",
       "      <td>0</td>\n",
       "      <td>...</td>\n",
       "      <td>0</td>\n",
       "      <td>0</td>\n",
       "      <td>0</td>\n",
       "      <td>1</td>\n",
       "      <td>0</td>\n",
       "      <td>0</td>\n",
       "      <td>1</td>\n",
       "      <td>0</td>\n",
       "      <td>0</td>\n",
       "      <td>1</td>\n",
       "    </tr>\n",
       "  </tbody>\n",
       "</table>\n",
       "<p>5 rows × 22 columns</p>\n",
       "</div>"
      ],
      "text/plain": [
       "   Item_Type_Breads  Item_Type_Breakfast  Item_Type_Canned  Item_Type_Dairy  \\\n",
       "0                 0                    0                 0                0   \n",
       "1                 0                    0                 0                1   \n",
       "2                 0                    0                 0                0   \n",
       "3                 0                    0                 0                0   \n",
       "4                 0                    0                 0                1   \n",
       "\n",
       "   Item_Type_Frozen Foods  Item_Type_Fruits and Vegetables  \\\n",
       "0                       0                                0   \n",
       "1                       0                                0   \n",
       "2                       0                                0   \n",
       "3                       0                                0   \n",
       "4                       0                                0   \n",
       "\n",
       "   Item_Type_Hard Drinks  Item_Type_Health and Hygiene  Item_Type_Household  \\\n",
       "0                      0                             0                    0   \n",
       "1                      0                             0                    0   \n",
       "2                      0                             0                    0   \n",
       "3                      0                             0                    0   \n",
       "4                      0                             0                    0   \n",
       "\n",
       "   Item_Type_Meat  ...  Item_Type_Snack Foods  Item_Type_Soft Drinks  \\\n",
       "0               0  ...                      1                      0   \n",
       "1               0  ...                      0                      0   \n",
       "2               0  ...                      0                      0   \n",
       "3               0  ...                      1                      0   \n",
       "4               0  ...                      0                      0   \n",
       "\n",
       "   Item_Type_Starchy Foods  Outlet_Size_Medium  Outlet_Size_Small  \\\n",
       "0                        0                   1                  0   \n",
       "1                        0                   1                  0   \n",
       "2                        0                   1                  0   \n",
       "3                        0                   1                  0   \n",
       "4                        0                   1                  0   \n",
       "\n",
       "   Outlet_Location_Type_Tier 2  Outlet_Location_Type_Tier 3  \\\n",
       "0                            0                            0   \n",
       "1                            1                            0   \n",
       "2                            0                            1   \n",
       "3                            1                            0   \n",
       "4                            0                            1   \n",
       "\n",
       "   Outlet_Type_Supermarket Type1  Outlet_Type_Supermarket Type2  \\\n",
       "0                              1                              0   \n",
       "1                              1                              0   \n",
       "2                              0                              0   \n",
       "3                              1                              0   \n",
       "4                              0                              0   \n",
       "\n",
       "   Outlet_Type_Supermarket Type3  \n",
       "0                              0  \n",
       "1                              0  \n",
       "2                              0  \n",
       "3                              0  \n",
       "4                              1  \n",
       "\n",
       "[5 rows x 22 columns]"
      ]
     },
     "metadata": {},
     "output_type": "display_data"
    }
   ],
   "source": [
    "display(categorical_cols_train_label.head())\n",
    "display(categorical_cols_test_label.head())"
   ]
  },
  {
   "cell_type": "code",
   "execution_count": 31,
   "metadata": {},
   "outputs": [],
   "source": [
    "train.drop(['Item_Type', 'Outlet_Size', 'Outlet_Location_Type', 'Outlet_Type'], axis=1, inplace=True)\n",
    "test.drop(['Item_Type', 'Outlet_Size', 'Outlet_Location_Type', 'Outlet_Type'], axis=1, inplace=True)"
   ]
  },
  {
   "cell_type": "code",
   "execution_count": 32,
   "metadata": {},
   "outputs": [
    {
     "data": {
      "text/html": [
       "<div>\n",
       "<style scoped>\n",
       "    .dataframe tbody tr th:only-of-type {\n",
       "        vertical-align: middle;\n",
       "    }\n",
       "\n",
       "    .dataframe tbody tr th {\n",
       "        vertical-align: top;\n",
       "    }\n",
       "\n",
       "    .dataframe thead th {\n",
       "        text-align: right;\n",
       "    }\n",
       "</style>\n",
       "<table border=\"1\" class=\"dataframe\">\n",
       "  <thead>\n",
       "    <tr style=\"text-align: right;\">\n",
       "      <th></th>\n",
       "      <th>Item_Weight</th>\n",
       "      <th>Item_Fat_Content</th>\n",
       "      <th>Item_Visibility</th>\n",
       "      <th>Item_MRP</th>\n",
       "      <th>Outlet_Establishment_Year</th>\n",
       "      <th>Item_Outlet_Sales</th>\n",
       "    </tr>\n",
       "  </thead>\n",
       "  <tbody>\n",
       "    <tr>\n",
       "      <th>0</th>\n",
       "      <td>9.30</td>\n",
       "      <td>0</td>\n",
       "      <td>0.016047</td>\n",
       "      <td>249.8092</td>\n",
       "      <td>1999</td>\n",
       "      <td>3735.1380</td>\n",
       "    </tr>\n",
       "    <tr>\n",
       "      <th>1</th>\n",
       "      <td>5.92</td>\n",
       "      <td>1</td>\n",
       "      <td>0.019278</td>\n",
       "      <td>48.2692</td>\n",
       "      <td>2009</td>\n",
       "      <td>443.4228</td>\n",
       "    </tr>\n",
       "    <tr>\n",
       "      <th>2</th>\n",
       "      <td>17.50</td>\n",
       "      <td>0</td>\n",
       "      <td>0.016760</td>\n",
       "      <td>141.6180</td>\n",
       "      <td>1999</td>\n",
       "      <td>2097.2700</td>\n",
       "    </tr>\n",
       "    <tr>\n",
       "      <th>3</th>\n",
       "      <td>19.20</td>\n",
       "      <td>1</td>\n",
       "      <td>0.000000</td>\n",
       "      <td>182.0950</td>\n",
       "      <td>1998</td>\n",
       "      <td>732.3800</td>\n",
       "    </tr>\n",
       "    <tr>\n",
       "      <th>4</th>\n",
       "      <td>8.93</td>\n",
       "      <td>0</td>\n",
       "      <td>0.000000</td>\n",
       "      <td>53.8614</td>\n",
       "      <td>1987</td>\n",
       "      <td>994.7052</td>\n",
       "    </tr>\n",
       "  </tbody>\n",
       "</table>\n",
       "</div>"
      ],
      "text/plain": [
       "   Item_Weight  Item_Fat_Content  Item_Visibility  Item_MRP  \\\n",
       "0         9.30                 0         0.016047  249.8092   \n",
       "1         5.92                 1         0.019278   48.2692   \n",
       "2        17.50                 0         0.016760  141.6180   \n",
       "3        19.20                 1         0.000000  182.0950   \n",
       "4         8.93                 0         0.000000   53.8614   \n",
       "\n",
       "   Outlet_Establishment_Year  Item_Outlet_Sales  \n",
       "0                       1999          3735.1380  \n",
       "1                       2009           443.4228  \n",
       "2                       1999          2097.2700  \n",
       "3                       1998           732.3800  \n",
       "4                       1987           994.7052  "
      ]
     },
     "metadata": {},
     "output_type": "display_data"
    },
    {
     "data": {
      "text/html": [
       "<div>\n",
       "<style scoped>\n",
       "    .dataframe tbody tr th:only-of-type {\n",
       "        vertical-align: middle;\n",
       "    }\n",
       "\n",
       "    .dataframe tbody tr th {\n",
       "        vertical-align: top;\n",
       "    }\n",
       "\n",
       "    .dataframe thead th {\n",
       "        text-align: right;\n",
       "    }\n",
       "</style>\n",
       "<table border=\"1\" class=\"dataframe\">\n",
       "  <thead>\n",
       "    <tr style=\"text-align: right;\">\n",
       "      <th></th>\n",
       "      <th>Item_Weight</th>\n",
       "      <th>Item_Fat_Content</th>\n",
       "      <th>Item_Visibility</th>\n",
       "      <th>Item_MRP</th>\n",
       "      <th>Outlet_Establishment_Year</th>\n",
       "    </tr>\n",
       "  </thead>\n",
       "  <tbody>\n",
       "    <tr>\n",
       "      <th>0</th>\n",
       "      <td>20.750</td>\n",
       "      <td>0</td>\n",
       "      <td>0.007565</td>\n",
       "      <td>107.8622</td>\n",
       "      <td>1999</td>\n",
       "    </tr>\n",
       "    <tr>\n",
       "      <th>1</th>\n",
       "      <td>8.300</td>\n",
       "      <td>1</td>\n",
       "      <td>0.038428</td>\n",
       "      <td>87.3198</td>\n",
       "      <td>2007</td>\n",
       "    </tr>\n",
       "    <tr>\n",
       "      <th>2</th>\n",
       "      <td>14.600</td>\n",
       "      <td>0</td>\n",
       "      <td>0.099575</td>\n",
       "      <td>241.7538</td>\n",
       "      <td>1998</td>\n",
       "    </tr>\n",
       "    <tr>\n",
       "      <th>3</th>\n",
       "      <td>7.315</td>\n",
       "      <td>0</td>\n",
       "      <td>0.015388</td>\n",
       "      <td>155.0340</td>\n",
       "      <td>2007</td>\n",
       "    </tr>\n",
       "    <tr>\n",
       "      <th>4</th>\n",
       "      <td>12.500</td>\n",
       "      <td>1</td>\n",
       "      <td>0.118599</td>\n",
       "      <td>234.2300</td>\n",
       "      <td>1985</td>\n",
       "    </tr>\n",
       "  </tbody>\n",
       "</table>\n",
       "</div>"
      ],
      "text/plain": [
       "   Item_Weight  Item_Fat_Content  Item_Visibility  Item_MRP  \\\n",
       "0       20.750                 0         0.007565  107.8622   \n",
       "1        8.300                 1         0.038428   87.3198   \n",
       "2       14.600                 0         0.099575  241.7538   \n",
       "3        7.315                 0         0.015388  155.0340   \n",
       "4       12.500                 1         0.118599  234.2300   \n",
       "\n",
       "   Outlet_Establishment_Year  \n",
       "0                       1999  \n",
       "1                       2007  \n",
       "2                       1998  \n",
       "3                       2007  \n",
       "4                       1985  "
      ]
     },
     "metadata": {},
     "output_type": "display_data"
    }
   ],
   "source": [
    "display(train.head())\n",
    "display(test.head())"
   ]
  },
  {
   "cell_type": "code",
   "execution_count": 33,
   "metadata": {},
   "outputs": [],
   "source": [
    "train_final = pd.concat([train, categorical_cols_train_label], axis=1)\n",
    "test_final = pd.concat([test, categorical_cols_test_label], axis=1)"
   ]
  },
  {
   "cell_type": "code",
   "execution_count": 34,
   "metadata": {},
   "outputs": [
    {
     "data": {
      "text/html": [
       "<div>\n",
       "<style scoped>\n",
       "    .dataframe tbody tr th:only-of-type {\n",
       "        vertical-align: middle;\n",
       "    }\n",
       "\n",
       "    .dataframe tbody tr th {\n",
       "        vertical-align: top;\n",
       "    }\n",
       "\n",
       "    .dataframe thead th {\n",
       "        text-align: right;\n",
       "    }\n",
       "</style>\n",
       "<table border=\"1\" class=\"dataframe\">\n",
       "  <thead>\n",
       "    <tr style=\"text-align: right;\">\n",
       "      <th></th>\n",
       "      <th>Item_Weight</th>\n",
       "      <th>Item_Fat_Content</th>\n",
       "      <th>Item_Visibility</th>\n",
       "      <th>Item_MRP</th>\n",
       "      <th>Outlet_Establishment_Year</th>\n",
       "      <th>Item_Outlet_Sales</th>\n",
       "      <th>Item_Type_Breads</th>\n",
       "      <th>Item_Type_Breakfast</th>\n",
       "      <th>Item_Type_Canned</th>\n",
       "      <th>Item_Type_Dairy</th>\n",
       "      <th>...</th>\n",
       "      <th>Item_Type_Snack Foods</th>\n",
       "      <th>Item_Type_Soft Drinks</th>\n",
       "      <th>Item_Type_Starchy Foods</th>\n",
       "      <th>Outlet_Size_Medium</th>\n",
       "      <th>Outlet_Size_Small</th>\n",
       "      <th>Outlet_Location_Type_Tier 2</th>\n",
       "      <th>Outlet_Location_Type_Tier 3</th>\n",
       "      <th>Outlet_Type_Supermarket Type1</th>\n",
       "      <th>Outlet_Type_Supermarket Type2</th>\n",
       "      <th>Outlet_Type_Supermarket Type3</th>\n",
       "    </tr>\n",
       "  </thead>\n",
       "  <tbody>\n",
       "    <tr>\n",
       "      <th>0</th>\n",
       "      <td>9.30</td>\n",
       "      <td>0</td>\n",
       "      <td>0.016047</td>\n",
       "      <td>249.8092</td>\n",
       "      <td>1999</td>\n",
       "      <td>3735.1380</td>\n",
       "      <td>0</td>\n",
       "      <td>0</td>\n",
       "      <td>0</td>\n",
       "      <td>1</td>\n",
       "      <td>...</td>\n",
       "      <td>0</td>\n",
       "      <td>0</td>\n",
       "      <td>0</td>\n",
       "      <td>1</td>\n",
       "      <td>0</td>\n",
       "      <td>0</td>\n",
       "      <td>0</td>\n",
       "      <td>1</td>\n",
       "      <td>0</td>\n",
       "      <td>0</td>\n",
       "    </tr>\n",
       "    <tr>\n",
       "      <th>1</th>\n",
       "      <td>5.92</td>\n",
       "      <td>1</td>\n",
       "      <td>0.019278</td>\n",
       "      <td>48.2692</td>\n",
       "      <td>2009</td>\n",
       "      <td>443.4228</td>\n",
       "      <td>0</td>\n",
       "      <td>0</td>\n",
       "      <td>0</td>\n",
       "      <td>0</td>\n",
       "      <td>...</td>\n",
       "      <td>0</td>\n",
       "      <td>1</td>\n",
       "      <td>0</td>\n",
       "      <td>1</td>\n",
       "      <td>0</td>\n",
       "      <td>0</td>\n",
       "      <td>1</td>\n",
       "      <td>0</td>\n",
       "      <td>1</td>\n",
       "      <td>0</td>\n",
       "    </tr>\n",
       "    <tr>\n",
       "      <th>2</th>\n",
       "      <td>17.50</td>\n",
       "      <td>0</td>\n",
       "      <td>0.016760</td>\n",
       "      <td>141.6180</td>\n",
       "      <td>1999</td>\n",
       "      <td>2097.2700</td>\n",
       "      <td>0</td>\n",
       "      <td>0</td>\n",
       "      <td>0</td>\n",
       "      <td>0</td>\n",
       "      <td>...</td>\n",
       "      <td>0</td>\n",
       "      <td>0</td>\n",
       "      <td>0</td>\n",
       "      <td>1</td>\n",
       "      <td>0</td>\n",
       "      <td>0</td>\n",
       "      <td>0</td>\n",
       "      <td>1</td>\n",
       "      <td>0</td>\n",
       "      <td>0</td>\n",
       "    </tr>\n",
       "    <tr>\n",
       "      <th>3</th>\n",
       "      <td>19.20</td>\n",
       "      <td>1</td>\n",
       "      <td>0.000000</td>\n",
       "      <td>182.0950</td>\n",
       "      <td>1998</td>\n",
       "      <td>732.3800</td>\n",
       "      <td>0</td>\n",
       "      <td>0</td>\n",
       "      <td>0</td>\n",
       "      <td>0</td>\n",
       "      <td>...</td>\n",
       "      <td>0</td>\n",
       "      <td>0</td>\n",
       "      <td>0</td>\n",
       "      <td>1</td>\n",
       "      <td>0</td>\n",
       "      <td>0</td>\n",
       "      <td>1</td>\n",
       "      <td>0</td>\n",
       "      <td>0</td>\n",
       "      <td>0</td>\n",
       "    </tr>\n",
       "    <tr>\n",
       "      <th>4</th>\n",
       "      <td>8.93</td>\n",
       "      <td>0</td>\n",
       "      <td>0.000000</td>\n",
       "      <td>53.8614</td>\n",
       "      <td>1987</td>\n",
       "      <td>994.7052</td>\n",
       "      <td>0</td>\n",
       "      <td>0</td>\n",
       "      <td>0</td>\n",
       "      <td>0</td>\n",
       "      <td>...</td>\n",
       "      <td>0</td>\n",
       "      <td>0</td>\n",
       "      <td>0</td>\n",
       "      <td>0</td>\n",
       "      <td>0</td>\n",
       "      <td>0</td>\n",
       "      <td>1</td>\n",
       "      <td>1</td>\n",
       "      <td>0</td>\n",
       "      <td>0</td>\n",
       "    </tr>\n",
       "  </tbody>\n",
       "</table>\n",
       "<p>5 rows × 28 columns</p>\n",
       "</div>"
      ],
      "text/plain": [
       "   Item_Weight  Item_Fat_Content  Item_Visibility  Item_MRP  \\\n",
       "0         9.30                 0         0.016047  249.8092   \n",
       "1         5.92                 1         0.019278   48.2692   \n",
       "2        17.50                 0         0.016760  141.6180   \n",
       "3        19.20                 1         0.000000  182.0950   \n",
       "4         8.93                 0         0.000000   53.8614   \n",
       "\n",
       "   Outlet_Establishment_Year  Item_Outlet_Sales  Item_Type_Breads  \\\n",
       "0                       1999          3735.1380                 0   \n",
       "1                       2009           443.4228                 0   \n",
       "2                       1999          2097.2700                 0   \n",
       "3                       1998           732.3800                 0   \n",
       "4                       1987           994.7052                 0   \n",
       "\n",
       "   Item_Type_Breakfast  Item_Type_Canned  Item_Type_Dairy  ...  \\\n",
       "0                    0                 0                1  ...   \n",
       "1                    0                 0                0  ...   \n",
       "2                    0                 0                0  ...   \n",
       "3                    0                 0                0  ...   \n",
       "4                    0                 0                0  ...   \n",
       "\n",
       "   Item_Type_Snack Foods  Item_Type_Soft Drinks  Item_Type_Starchy Foods  \\\n",
       "0                      0                      0                        0   \n",
       "1                      0                      1                        0   \n",
       "2                      0                      0                        0   \n",
       "3                      0                      0                        0   \n",
       "4                      0                      0                        0   \n",
       "\n",
       "   Outlet_Size_Medium  Outlet_Size_Small  Outlet_Location_Type_Tier 2  \\\n",
       "0                   1                  0                            0   \n",
       "1                   1                  0                            0   \n",
       "2                   1                  0                            0   \n",
       "3                   1                  0                            0   \n",
       "4                   0                  0                            0   \n",
       "\n",
       "   Outlet_Location_Type_Tier 3  Outlet_Type_Supermarket Type1  \\\n",
       "0                            0                              1   \n",
       "1                            1                              0   \n",
       "2                            0                              1   \n",
       "3                            1                              0   \n",
       "4                            1                              1   \n",
       "\n",
       "   Outlet_Type_Supermarket Type2  Outlet_Type_Supermarket Type3  \n",
       "0                              0                              0  \n",
       "1                              1                              0  \n",
       "2                              0                              0  \n",
       "3                              0                              0  \n",
       "4                              0                              0  \n",
       "\n",
       "[5 rows x 28 columns]"
      ]
     },
     "metadata": {},
     "output_type": "display_data"
    },
    {
     "data": {
      "text/html": [
       "<div>\n",
       "<style scoped>\n",
       "    .dataframe tbody tr th:only-of-type {\n",
       "        vertical-align: middle;\n",
       "    }\n",
       "\n",
       "    .dataframe tbody tr th {\n",
       "        vertical-align: top;\n",
       "    }\n",
       "\n",
       "    .dataframe thead th {\n",
       "        text-align: right;\n",
       "    }\n",
       "</style>\n",
       "<table border=\"1\" class=\"dataframe\">\n",
       "  <thead>\n",
       "    <tr style=\"text-align: right;\">\n",
       "      <th></th>\n",
       "      <th>Item_Weight</th>\n",
       "      <th>Item_Fat_Content</th>\n",
       "      <th>Item_Visibility</th>\n",
       "      <th>Item_MRP</th>\n",
       "      <th>Outlet_Establishment_Year</th>\n",
       "      <th>Item_Type_Breads</th>\n",
       "      <th>Item_Type_Breakfast</th>\n",
       "      <th>Item_Type_Canned</th>\n",
       "      <th>Item_Type_Dairy</th>\n",
       "      <th>Item_Type_Frozen Foods</th>\n",
       "      <th>...</th>\n",
       "      <th>Item_Type_Snack Foods</th>\n",
       "      <th>Item_Type_Soft Drinks</th>\n",
       "      <th>Item_Type_Starchy Foods</th>\n",
       "      <th>Outlet_Size_Medium</th>\n",
       "      <th>Outlet_Size_Small</th>\n",
       "      <th>Outlet_Location_Type_Tier 2</th>\n",
       "      <th>Outlet_Location_Type_Tier 3</th>\n",
       "      <th>Outlet_Type_Supermarket Type1</th>\n",
       "      <th>Outlet_Type_Supermarket Type2</th>\n",
       "      <th>Outlet_Type_Supermarket Type3</th>\n",
       "    </tr>\n",
       "  </thead>\n",
       "  <tbody>\n",
       "    <tr>\n",
       "      <th>0</th>\n",
       "      <td>20.750</td>\n",
       "      <td>0</td>\n",
       "      <td>0.007565</td>\n",
       "      <td>107.8622</td>\n",
       "      <td>1999</td>\n",
       "      <td>0</td>\n",
       "      <td>0</td>\n",
       "      <td>0</td>\n",
       "      <td>0</td>\n",
       "      <td>0</td>\n",
       "      <td>...</td>\n",
       "      <td>1</td>\n",
       "      <td>0</td>\n",
       "      <td>0</td>\n",
       "      <td>1</td>\n",
       "      <td>0</td>\n",
       "      <td>0</td>\n",
       "      <td>0</td>\n",
       "      <td>1</td>\n",
       "      <td>0</td>\n",
       "      <td>0</td>\n",
       "    </tr>\n",
       "    <tr>\n",
       "      <th>1</th>\n",
       "      <td>8.300</td>\n",
       "      <td>1</td>\n",
       "      <td>0.038428</td>\n",
       "      <td>87.3198</td>\n",
       "      <td>2007</td>\n",
       "      <td>0</td>\n",
       "      <td>0</td>\n",
       "      <td>0</td>\n",
       "      <td>1</td>\n",
       "      <td>0</td>\n",
       "      <td>...</td>\n",
       "      <td>0</td>\n",
       "      <td>0</td>\n",
       "      <td>0</td>\n",
       "      <td>1</td>\n",
       "      <td>0</td>\n",
       "      <td>1</td>\n",
       "      <td>0</td>\n",
       "      <td>1</td>\n",
       "      <td>0</td>\n",
       "      <td>0</td>\n",
       "    </tr>\n",
       "    <tr>\n",
       "      <th>2</th>\n",
       "      <td>14.600</td>\n",
       "      <td>0</td>\n",
       "      <td>0.099575</td>\n",
       "      <td>241.7538</td>\n",
       "      <td>1998</td>\n",
       "      <td>0</td>\n",
       "      <td>0</td>\n",
       "      <td>0</td>\n",
       "      <td>0</td>\n",
       "      <td>0</td>\n",
       "      <td>...</td>\n",
       "      <td>0</td>\n",
       "      <td>0</td>\n",
       "      <td>0</td>\n",
       "      <td>1</td>\n",
       "      <td>0</td>\n",
       "      <td>0</td>\n",
       "      <td>1</td>\n",
       "      <td>0</td>\n",
       "      <td>0</td>\n",
       "      <td>0</td>\n",
       "    </tr>\n",
       "    <tr>\n",
       "      <th>3</th>\n",
       "      <td>7.315</td>\n",
       "      <td>0</td>\n",
       "      <td>0.015388</td>\n",
       "      <td>155.0340</td>\n",
       "      <td>2007</td>\n",
       "      <td>0</td>\n",
       "      <td>0</td>\n",
       "      <td>0</td>\n",
       "      <td>0</td>\n",
       "      <td>0</td>\n",
       "      <td>...</td>\n",
       "      <td>1</td>\n",
       "      <td>0</td>\n",
       "      <td>0</td>\n",
       "      <td>1</td>\n",
       "      <td>0</td>\n",
       "      <td>1</td>\n",
       "      <td>0</td>\n",
       "      <td>1</td>\n",
       "      <td>0</td>\n",
       "      <td>0</td>\n",
       "    </tr>\n",
       "    <tr>\n",
       "      <th>4</th>\n",
       "      <td>12.500</td>\n",
       "      <td>1</td>\n",
       "      <td>0.118599</td>\n",
       "      <td>234.2300</td>\n",
       "      <td>1985</td>\n",
       "      <td>0</td>\n",
       "      <td>0</td>\n",
       "      <td>0</td>\n",
       "      <td>1</td>\n",
       "      <td>0</td>\n",
       "      <td>...</td>\n",
       "      <td>0</td>\n",
       "      <td>0</td>\n",
       "      <td>0</td>\n",
       "      <td>1</td>\n",
       "      <td>0</td>\n",
       "      <td>0</td>\n",
       "      <td>1</td>\n",
       "      <td>0</td>\n",
       "      <td>0</td>\n",
       "      <td>1</td>\n",
       "    </tr>\n",
       "  </tbody>\n",
       "</table>\n",
       "<p>5 rows × 27 columns</p>\n",
       "</div>"
      ],
      "text/plain": [
       "   Item_Weight  Item_Fat_Content  Item_Visibility  Item_MRP  \\\n",
       "0       20.750                 0         0.007565  107.8622   \n",
       "1        8.300                 1         0.038428   87.3198   \n",
       "2       14.600                 0         0.099575  241.7538   \n",
       "3        7.315                 0         0.015388  155.0340   \n",
       "4       12.500                 1         0.118599  234.2300   \n",
       "\n",
       "   Outlet_Establishment_Year  Item_Type_Breads  Item_Type_Breakfast  \\\n",
       "0                       1999                 0                    0   \n",
       "1                       2007                 0                    0   \n",
       "2                       1998                 0                    0   \n",
       "3                       2007                 0                    0   \n",
       "4                       1985                 0                    0   \n",
       "\n",
       "   Item_Type_Canned  Item_Type_Dairy  Item_Type_Frozen Foods  ...  \\\n",
       "0                 0                0                       0  ...   \n",
       "1                 0                1                       0  ...   \n",
       "2                 0                0                       0  ...   \n",
       "3                 0                0                       0  ...   \n",
       "4                 0                1                       0  ...   \n",
       "\n",
       "   Item_Type_Snack Foods  Item_Type_Soft Drinks  Item_Type_Starchy Foods  \\\n",
       "0                      1                      0                        0   \n",
       "1                      0                      0                        0   \n",
       "2                      0                      0                        0   \n",
       "3                      1                      0                        0   \n",
       "4                      0                      0                        0   \n",
       "\n",
       "   Outlet_Size_Medium  Outlet_Size_Small  Outlet_Location_Type_Tier 2  \\\n",
       "0                   1                  0                            0   \n",
       "1                   1                  0                            1   \n",
       "2                   1                  0                            0   \n",
       "3                   1                  0                            1   \n",
       "4                   1                  0                            0   \n",
       "\n",
       "   Outlet_Location_Type_Tier 3  Outlet_Type_Supermarket Type1  \\\n",
       "0                            0                              1   \n",
       "1                            0                              1   \n",
       "2                            1                              0   \n",
       "3                            0                              1   \n",
       "4                            1                              0   \n",
       "\n",
       "   Outlet_Type_Supermarket Type2  Outlet_Type_Supermarket Type3  \n",
       "0                              0                              0  \n",
       "1                              0                              0  \n",
       "2                              0                              0  \n",
       "3                              0                              0  \n",
       "4                              0                              1  \n",
       "\n",
       "[5 rows x 27 columns]"
      ]
     },
     "metadata": {},
     "output_type": "display_data"
    }
   ],
   "source": [
    "display(train_final.head())\n",
    "display(test_final.head())"
   ]
  },
  {
   "cell_type": "markdown",
   "metadata": {},
   "source": [
    "-----------------"
   ]
  },
  {
   "cell_type": "markdown",
   "metadata": {},
   "source": [
    "<h1 style=\"color:blue\" align=\"left\"> 2. Get Dummies_Individual </h1>"
   ]
  },
  {
   "cell_type": "markdown",
   "metadata": {},
   "source": [
    "### 2. Item_Type"
   ]
  },
  {
   "cell_type": "code",
   "execution_count": 28,
   "metadata": {
    "scrolled": true
   },
   "outputs": [
    {
     "data": {
      "text/plain": [
       "Fruits and Vegetables    1232\n",
       "Snack Foods              1200\n",
       "Household                 910\n",
       "Frozen Foods              856\n",
       "Dairy                     682\n",
       "Canned                    649\n",
       "Baking Goods              648\n",
       "Health and Hygiene        520\n",
       "Soft Drinks               445\n",
       "Meat                      425\n",
       "Breads                    251\n",
       "Hard Drinks               214\n",
       "Others                    169\n",
       "Starchy Foods             148\n",
       "Breakfast                 110\n",
       "Seafood                    64\n",
       "Name: Item_Type, dtype: int64"
      ]
     },
     "metadata": {},
     "output_type": "display_data"
    },
    {
     "data": {
      "text/plain": [
       "Snack Foods              789\n",
       "Fruits and Vegetables    781\n",
       "Household                638\n",
       "Frozen Foods             570\n",
       "Dairy                    454\n",
       "Baking Goods             438\n",
       "Canned                   435\n",
       "Health and Hygiene       338\n",
       "Meat                     311\n",
       "Soft Drinks              281\n",
       "Breads                   165\n",
       "Hard Drinks              148\n",
       "Starchy Foods            121\n",
       "Others                   111\n",
       "Breakfast                 76\n",
       "Seafood                   25\n",
       "Name: Item_Type, dtype: int64"
      ]
     },
     "metadata": {},
     "output_type": "display_data"
    }
   ],
   "source": [
    "display(train['Item_Type'].value_counts())\n",
    "display(test['Item_Type'].value_counts())"
   ]
  },
  {
   "cell_type": "code",
   "execution_count": 29,
   "metadata": {
    "scrolled": true
   },
   "outputs": [
    {
     "data": {
      "text/plain": [
       "array(['Dairy', 'Soft Drinks', 'Meat', 'Fruits and Vegetables',\n",
       "       'Household', 'Baking Goods', 'Snack Foods', 'Frozen Foods',\n",
       "       'Breakfast', 'Health and Hygiene', 'Hard Drinks', 'Canned',\n",
       "       'Breads', 'Starchy Foods', 'Others', 'Seafood'], dtype=object)"
      ]
     },
     "metadata": {},
     "output_type": "display_data"
    },
    {
     "data": {
      "text/plain": [
       "array(['Snack Foods', 'Dairy', 'Others', 'Fruits and Vegetables',\n",
       "       'Baking Goods', 'Health and Hygiene', 'Breads', 'Hard Drinks',\n",
       "       'Seafood', 'Soft Drinks', 'Household', 'Frozen Foods', 'Meat',\n",
       "       'Canned', 'Starchy Foods', 'Breakfast'], dtype=object)"
      ]
     },
     "metadata": {},
     "output_type": "display_data"
    }
   ],
   "source": [
    "display(train['Item_Type'].unique())\n",
    "display(test['Item_Type'].unique())"
   ]
  },
  {
   "cell_type": "code",
   "execution_count": 30,
   "metadata": {
    "scrolled": true
   },
   "outputs": [
    {
     "data": {
      "text/plain": [
       "16"
      ]
     },
     "metadata": {},
     "output_type": "display_data"
    },
    {
     "data": {
      "text/plain": [
       "16"
      ]
     },
     "metadata": {},
     "output_type": "display_data"
    }
   ],
   "source": [
    "display(train['Item_Type'].nunique())\n",
    "display(test['Item_Type'].nunique())"
   ]
  },
  {
   "cell_type": "code",
   "execution_count": 31,
   "metadata": {},
   "outputs": [],
   "source": [
    "train['Item_Type'] = train['Item_Type'].map({'Fruits and Vegetables':0, 'Household':1, 'Breakfast':2,'Soft Drinks':3,\n",
    "                                             'Hard Drinks':4, 'Frozen Foods':5, 'Meat':6, 'Breads':7, 'Seafood':8,\n",
    "                                             'Dairy':9, 'Starchy Foods':10, 'Baking Goods':11, 'Canned':12, 'Snack Foods':13,\n",
    "                                             'Health and Hygiene':14, 'Starchy Foods':15, 'Others':16})\n",
    "\n",
    "test['Item_Type'] = test['Item_Type'].map({'Fruits and Vegetables':0, 'Household':1, 'Breakfast':2,'Soft Drinks':3,\n",
    "                                             'Hard Drinks':4, 'Frozen Foods':5, 'Meat':6, 'Breads':7, 'Seafood':8,\n",
    "                                             'Dairy':9, 'Starchy Foods':10, 'Baking Goods':11, 'Canned':12, 'Snack Foods':13,\n",
    "                                             'Health and Hygiene':14, 'Starchy Foods':15, 'Others':16})"
   ]
  },
  {
   "cell_type": "markdown",
   "metadata": {},
   "source": [
    "### Outlet_Size"
   ]
  },
  {
   "cell_type": "code",
   "execution_count": 32,
   "metadata": {},
   "outputs": [
    {
     "data": {
      "text/plain": [
       "Medium    5203\n",
       "Small     2388\n",
       "High       932\n",
       "Name: Outlet_Size, dtype: int64"
      ]
     },
     "metadata": {},
     "output_type": "display_data"
    },
    {
     "data": {
      "text/plain": [
       "Medium    3468\n",
       "Small     1592\n",
       "High       621\n",
       "Name: Outlet_Size, dtype: int64"
      ]
     },
     "metadata": {},
     "output_type": "display_data"
    }
   ],
   "source": [
    "display(train['Outlet_Size'].value_counts())\n",
    "display(test['Outlet_Size'].value_counts())"
   ]
  },
  {
   "cell_type": "code",
   "execution_count": 33,
   "metadata": {},
   "outputs": [],
   "source": [
    "train['Outlet_Size'] = train['Outlet_Size'].map({'Small':0, 'Medium':1, \"High\":2})\n",
    "test['Outlet_Size'] = test['Outlet_Size'].map({'Small':0, 'Medium':1, \"High\":2})"
   ]
  },
  {
   "cell_type": "code",
   "execution_count": 34,
   "metadata": {},
   "outputs": [
    {
     "data": {
      "text/plain": [
       "1    5203\n",
       "0    2388\n",
       "2     932\n",
       "Name: Outlet_Size, dtype: int64"
      ]
     },
     "metadata": {},
     "output_type": "display_data"
    },
    {
     "data": {
      "text/plain": [
       "1    3468\n",
       "0    1592\n",
       "2     621\n",
       "Name: Outlet_Size, dtype: int64"
      ]
     },
     "metadata": {},
     "output_type": "display_data"
    }
   ],
   "source": [
    "display(train['Outlet_Size'].value_counts())\n",
    "display(test['Outlet_Size'].value_counts())"
   ]
  },
  {
   "cell_type": "markdown",
   "metadata": {},
   "source": [
    "### Outlet_Location_Type"
   ]
  },
  {
   "cell_type": "code",
   "execution_count": 35,
   "metadata": {},
   "outputs": [
    {
     "data": {
      "text/plain": [
       "Tier 3    3350\n",
       "Tier 2    2785\n",
       "Tier 1    2388\n",
       "Name: Outlet_Location_Type, dtype: int64"
      ]
     },
     "metadata": {},
     "output_type": "display_data"
    },
    {
     "data": {
      "text/plain": [
       "Tier 3    2233\n",
       "Tier 2    1856\n",
       "Tier 1    1592\n",
       "Name: Outlet_Location_Type, dtype: int64"
      ]
     },
     "metadata": {},
     "output_type": "display_data"
    }
   ],
   "source": [
    "display(train['Outlet_Location_Type'].value_counts())\n",
    "display(test['Outlet_Location_Type'].value_counts())"
   ]
  },
  {
   "cell_type": "code",
   "execution_count": 36,
   "metadata": {},
   "outputs": [],
   "source": [
    "train['Outlet_Location_Type'] = train['Outlet_Location_Type'].map({'Tier 1':0, 'Tier 2':1, 'Tier 3':2})\n",
    "test['Outlet_Location_Type'] = test['Outlet_Location_Type'].map({'Tier 1':0, 'Tier 2':1, 'Tier 3':2})"
   ]
  },
  {
   "cell_type": "code",
   "execution_count": 37,
   "metadata": {},
   "outputs": [
    {
     "data": {
      "text/plain": [
       "2    3350\n",
       "1    2785\n",
       "0    2388\n",
       "Name: Outlet_Location_Type, dtype: int64"
      ]
     },
     "metadata": {},
     "output_type": "display_data"
    },
    {
     "data": {
      "text/plain": [
       "2    2233\n",
       "1    1856\n",
       "0    1592\n",
       "Name: Outlet_Location_Type, dtype: int64"
      ]
     },
     "metadata": {},
     "output_type": "display_data"
    }
   ],
   "source": [
    "display(train['Outlet_Location_Type'].value_counts())\n",
    "display(test['Outlet_Location_Type'].value_counts())"
   ]
  },
  {
   "cell_type": "markdown",
   "metadata": {},
   "source": [
    "### Outlet_Type"
   ]
  },
  {
   "cell_type": "code",
   "execution_count": 38,
   "metadata": {},
   "outputs": [
    {
     "data": {
      "text/plain": [
       "Supermarket Type1    5577\n",
       "Grocery Store        1083\n",
       "Supermarket Type3     935\n",
       "Supermarket Type2     928\n",
       "Name: Outlet_Type, dtype: int64"
      ]
     },
     "metadata": {},
     "output_type": "display_data"
    },
    {
     "data": {
      "text/plain": [
       "Supermarket Type1    3717\n",
       "Grocery Store         722\n",
       "Supermarket Type3     624\n",
       "Supermarket Type2     618\n",
       "Name: Outlet_Type, dtype: int64"
      ]
     },
     "metadata": {},
     "output_type": "display_data"
    }
   ],
   "source": [
    "display(train['Outlet_Type'].value_counts())\n",
    "display(test['Outlet_Type'].value_counts())"
   ]
  },
  {
   "cell_type": "code",
   "execution_count": 39,
   "metadata": {},
   "outputs": [],
   "source": [
    "train['Outlet_Type'] = train['Outlet_Type'].map({'Grocery Store':0, 'Supermarket Type1':1, 'Supermarket Type2':2, 'Supermarket Type3':3})\n",
    "test['Outlet_Type'] = test['Outlet_Type'].map({'Grocery Store':0, 'Supermarket Type1':1, 'Supermarket Type2':2, 'Supermarket Type3':3})"
   ]
  },
  {
   "cell_type": "code",
   "execution_count": 40,
   "metadata": {},
   "outputs": [
    {
     "data": {
      "text/plain": [
       "1    5577\n",
       "0    1083\n",
       "3     935\n",
       "2     928\n",
       "Name: Outlet_Type, dtype: int64"
      ]
     },
     "metadata": {},
     "output_type": "display_data"
    },
    {
     "data": {
      "text/plain": [
       "1    3717\n",
       "0     722\n",
       "3     624\n",
       "2     618\n",
       "Name: Outlet_Type, dtype: int64"
      ]
     },
     "metadata": {},
     "output_type": "display_data"
    }
   ],
   "source": [
    "display(train['Outlet_Type'].value_counts())\n",
    "display(test['Outlet_Type'].value_counts())"
   ]
  },
  {
   "cell_type": "code",
   "execution_count": 41,
   "metadata": {
    "scrolled": false
   },
   "outputs": [
    {
     "data": {
      "text/html": [
       "<div>\n",
       "<style scoped>\n",
       "    .dataframe tbody tr th:only-of-type {\n",
       "        vertical-align: middle;\n",
       "    }\n",
       "\n",
       "    .dataframe tbody tr th {\n",
       "        vertical-align: top;\n",
       "    }\n",
       "\n",
       "    .dataframe thead th {\n",
       "        text-align: right;\n",
       "    }\n",
       "</style>\n",
       "<table border=\"1\" class=\"dataframe\">\n",
       "  <thead>\n",
       "    <tr style=\"text-align: right;\">\n",
       "      <th></th>\n",
       "      <th>Item_Weight</th>\n",
       "      <th>Item_Fat_Content</th>\n",
       "      <th>Item_Visibility</th>\n",
       "      <th>Item_Type</th>\n",
       "      <th>Item_MRP</th>\n",
       "      <th>Outlet_Establishment_Year</th>\n",
       "      <th>Outlet_Size</th>\n",
       "      <th>Outlet_Location_Type</th>\n",
       "      <th>Outlet_Type</th>\n",
       "      <th>Item_Outlet_Sales</th>\n",
       "    </tr>\n",
       "  </thead>\n",
       "  <tbody>\n",
       "    <tr>\n",
       "      <th>0</th>\n",
       "      <td>9.30</td>\n",
       "      <td>0</td>\n",
       "      <td>0.016047</td>\n",
       "      <td>9</td>\n",
       "      <td>249.8092</td>\n",
       "      <td>1999</td>\n",
       "      <td>1</td>\n",
       "      <td>0</td>\n",
       "      <td>1</td>\n",
       "      <td>3735.1380</td>\n",
       "    </tr>\n",
       "    <tr>\n",
       "      <th>1</th>\n",
       "      <td>5.92</td>\n",
       "      <td>1</td>\n",
       "      <td>0.019278</td>\n",
       "      <td>3</td>\n",
       "      <td>48.2692</td>\n",
       "      <td>2009</td>\n",
       "      <td>1</td>\n",
       "      <td>2</td>\n",
       "      <td>2</td>\n",
       "      <td>443.4228</td>\n",
       "    </tr>\n",
       "    <tr>\n",
       "      <th>2</th>\n",
       "      <td>17.50</td>\n",
       "      <td>0</td>\n",
       "      <td>0.016760</td>\n",
       "      <td>6</td>\n",
       "      <td>141.6180</td>\n",
       "      <td>1999</td>\n",
       "      <td>1</td>\n",
       "      <td>0</td>\n",
       "      <td>1</td>\n",
       "      <td>2097.2700</td>\n",
       "    </tr>\n",
       "    <tr>\n",
       "      <th>3</th>\n",
       "      <td>19.20</td>\n",
       "      <td>1</td>\n",
       "      <td>0.000000</td>\n",
       "      <td>0</td>\n",
       "      <td>182.0950</td>\n",
       "      <td>1998</td>\n",
       "      <td>1</td>\n",
       "      <td>2</td>\n",
       "      <td>0</td>\n",
       "      <td>732.3800</td>\n",
       "    </tr>\n",
       "    <tr>\n",
       "      <th>4</th>\n",
       "      <td>8.93</td>\n",
       "      <td>0</td>\n",
       "      <td>0.000000</td>\n",
       "      <td>1</td>\n",
       "      <td>53.8614</td>\n",
       "      <td>1987</td>\n",
       "      <td>2</td>\n",
       "      <td>2</td>\n",
       "      <td>1</td>\n",
       "      <td>994.7052</td>\n",
       "    </tr>\n",
       "  </tbody>\n",
       "</table>\n",
       "</div>"
      ],
      "text/plain": [
       "   Item_Weight  Item_Fat_Content  Item_Visibility  Item_Type  Item_MRP  \\\n",
       "0         9.30                 0         0.016047          9  249.8092   \n",
       "1         5.92                 1         0.019278          3   48.2692   \n",
       "2        17.50                 0         0.016760          6  141.6180   \n",
       "3        19.20                 1         0.000000          0  182.0950   \n",
       "4         8.93                 0         0.000000          1   53.8614   \n",
       "\n",
       "   Outlet_Establishment_Year  Outlet_Size  Outlet_Location_Type  Outlet_Type  \\\n",
       "0                       1999            1                     0            1   \n",
       "1                       2009            1                     2            2   \n",
       "2                       1999            1                     0            1   \n",
       "3                       1998            1                     2            0   \n",
       "4                       1987            2                     2            1   \n",
       "\n",
       "   Item_Outlet_Sales  \n",
       "0          3735.1380  \n",
       "1           443.4228  \n",
       "2          2097.2700  \n",
       "3           732.3800  \n",
       "4           994.7052  "
      ]
     },
     "metadata": {},
     "output_type": "display_data"
    },
    {
     "data": {
      "text/html": [
       "<div>\n",
       "<style scoped>\n",
       "    .dataframe tbody tr th:only-of-type {\n",
       "        vertical-align: middle;\n",
       "    }\n",
       "\n",
       "    .dataframe tbody tr th {\n",
       "        vertical-align: top;\n",
       "    }\n",
       "\n",
       "    .dataframe thead th {\n",
       "        text-align: right;\n",
       "    }\n",
       "</style>\n",
       "<table border=\"1\" class=\"dataframe\">\n",
       "  <thead>\n",
       "    <tr style=\"text-align: right;\">\n",
       "      <th></th>\n",
       "      <th>Item_Weight</th>\n",
       "      <th>Item_Fat_Content</th>\n",
       "      <th>Item_Visibility</th>\n",
       "      <th>Item_Type</th>\n",
       "      <th>Item_MRP</th>\n",
       "      <th>Outlet_Establishment_Year</th>\n",
       "      <th>Outlet_Size</th>\n",
       "      <th>Outlet_Location_Type</th>\n",
       "      <th>Outlet_Type</th>\n",
       "    </tr>\n",
       "  </thead>\n",
       "  <tbody>\n",
       "    <tr>\n",
       "      <th>0</th>\n",
       "      <td>20.750</td>\n",
       "      <td>0</td>\n",
       "      <td>0.007565</td>\n",
       "      <td>13</td>\n",
       "      <td>107.8622</td>\n",
       "      <td>1999</td>\n",
       "      <td>1</td>\n",
       "      <td>0</td>\n",
       "      <td>1</td>\n",
       "    </tr>\n",
       "    <tr>\n",
       "      <th>1</th>\n",
       "      <td>8.300</td>\n",
       "      <td>1</td>\n",
       "      <td>0.038428</td>\n",
       "      <td>9</td>\n",
       "      <td>87.3198</td>\n",
       "      <td>2007</td>\n",
       "      <td>1</td>\n",
       "      <td>1</td>\n",
       "      <td>1</td>\n",
       "    </tr>\n",
       "    <tr>\n",
       "      <th>2</th>\n",
       "      <td>14.600</td>\n",
       "      <td>0</td>\n",
       "      <td>0.099575</td>\n",
       "      <td>16</td>\n",
       "      <td>241.7538</td>\n",
       "      <td>1998</td>\n",
       "      <td>1</td>\n",
       "      <td>2</td>\n",
       "      <td>0</td>\n",
       "    </tr>\n",
       "    <tr>\n",
       "      <th>3</th>\n",
       "      <td>7.315</td>\n",
       "      <td>0</td>\n",
       "      <td>0.015388</td>\n",
       "      <td>13</td>\n",
       "      <td>155.0340</td>\n",
       "      <td>2007</td>\n",
       "      <td>1</td>\n",
       "      <td>1</td>\n",
       "      <td>1</td>\n",
       "    </tr>\n",
       "    <tr>\n",
       "      <th>4</th>\n",
       "      <td>12.500</td>\n",
       "      <td>1</td>\n",
       "      <td>0.118599</td>\n",
       "      <td>9</td>\n",
       "      <td>234.2300</td>\n",
       "      <td>1985</td>\n",
       "      <td>1</td>\n",
       "      <td>2</td>\n",
       "      <td>3</td>\n",
       "    </tr>\n",
       "  </tbody>\n",
       "</table>\n",
       "</div>"
      ],
      "text/plain": [
       "   Item_Weight  Item_Fat_Content  Item_Visibility  Item_Type  Item_MRP  \\\n",
       "0       20.750                 0         0.007565         13  107.8622   \n",
       "1        8.300                 1         0.038428          9   87.3198   \n",
       "2       14.600                 0         0.099575         16  241.7538   \n",
       "3        7.315                 0         0.015388         13  155.0340   \n",
       "4       12.500                 1         0.118599          9  234.2300   \n",
       "\n",
       "   Outlet_Establishment_Year  Outlet_Size  Outlet_Location_Type  Outlet_Type  \n",
       "0                       1999            1                     0            1  \n",
       "1                       2007            1                     1            1  \n",
       "2                       1998            1                     2            0  \n",
       "3                       2007            1                     1            1  \n",
       "4                       1985            1                     2            3  "
      ]
     },
     "metadata": {},
     "output_type": "display_data"
    }
   ],
   "source": [
    "display(train.head())\n",
    "display(test.head())"
   ]
  },
  {
   "cell_type": "code",
   "execution_count": 42,
   "metadata": {},
   "outputs": [
    {
     "data": {
      "text/plain": [
       "(8523, 10)"
      ]
     },
     "metadata": {},
     "output_type": "display_data"
    },
    {
     "data": {
      "text/plain": [
       "(5681, 9)"
      ]
     },
     "metadata": {},
     "output_type": "display_data"
    }
   ],
   "source": [
    "display(train.shape)\n",
    "display(test.shape)"
   ]
  },
  {
   "cell_type": "code",
   "execution_count": 43,
   "metadata": {
    "scrolled": true
   },
   "outputs": [
    {
     "data": {
      "text/plain": [
       "Item_Weight                  0\n",
       "Item_Fat_Content             0\n",
       "Item_Visibility              0\n",
       "Item_Type                    0\n",
       "Item_MRP                     0\n",
       "Outlet_Establishment_Year    0\n",
       "Outlet_Size                  0\n",
       "Outlet_Location_Type         0\n",
       "Outlet_Type                  0\n",
       "Item_Outlet_Sales            0\n",
       "dtype: int64"
      ]
     },
     "metadata": {},
     "output_type": "display_data"
    },
    {
     "data": {
      "text/plain": [
       "Item_Weight                  0\n",
       "Item_Fat_Content             0\n",
       "Item_Visibility              0\n",
       "Item_Type                    0\n",
       "Item_MRP                     0\n",
       "Outlet_Establishment_Year    0\n",
       "Outlet_Size                  0\n",
       "Outlet_Location_Type         0\n",
       "Outlet_Type                  0\n",
       "dtype: int64"
      ]
     },
     "metadata": {},
     "output_type": "display_data"
    }
   ],
   "source": [
    "display(train.isnull().sum())\n",
    "display(test.isnull().sum())"
   ]
  },
  {
   "cell_type": "markdown",
   "metadata": {},
   "source": [
    "-------------------"
   ]
  },
  {
   "cell_type": "code",
   "execution_count": 45,
   "metadata": {},
   "outputs": [],
   "source": [
    "X = train.iloc[:,:-1]\n",
    "y = train.iloc[:,-1]"
   ]
  },
  {
   "cell_type": "code",
   "execution_count": 46,
   "metadata": {},
   "outputs": [
    {
     "name": "stderr",
     "output_type": "stream",
     "text": [
      "C:\\Users\\deepusuresh\\Anaconda3\\lib\\site-packages\\dask\\config.py:168: YAMLLoadWarning: calling yaml.load() without Loader=... is deprecated, as the default Loader is unsafe. Please read https://msg.pyyaml.org/load for full details.\n",
      "  data = yaml.load(f.read()) or {}\n",
      "C:\\Users\\deepusuresh\\Anaconda3\\lib\\site-packages\\dask\\dataframe\\utils.py:13: FutureWarning: pandas.util.testing is deprecated. Use the functions in the public API at pandas.testing instead.\n",
      "  import pandas.util.testing as tm\n",
      "C:\\Users\\deepusuresh\\Anaconda3\\lib\\site-packages\\distributed\\config.py:20: YAMLLoadWarning: calling yaml.load() without Loader=... is deprecated, as the default Loader is unsafe. Please read https://msg.pyyaml.org/load for full details.\n",
      "  defaults = yaml.load(f)\n"
     ]
    }
   ],
   "source": [
    "from sklearn.model_selection import train_test_split\n",
    "import xgboost\n",
    "from xgboost import XGBRegressor\n",
    "from lightgbm import LGBMRegressor\n",
    "from sklearn.metrics import accuracy_score"
   ]
  },
  {
   "cell_type": "code",
   "execution_count": 47,
   "metadata": {},
   "outputs": [],
   "source": [
    "# split  data into training and testing sets of 80:20 ratio\n",
    "# 20% of test size selected\n",
    "# random_state is random seed\n",
    "X_train, X_test, y_train, y_test = train_test_split(X,y,test_size=0.2, random_state=4)"
   ]
  },
  {
   "cell_type": "code",
   "execution_count": 48,
   "metadata": {},
   "outputs": [
    {
     "name": "stdout",
     "output_type": "stream",
     "text": [
      "(6818, 9) (1705, 9) (6818,) (1705,)\n"
     ]
    }
   ],
   "source": [
    "# shape of X & Y test / train\n",
    "print(X_train.shape, X_test.shape, y_train.shape, y_test.shape)"
   ]
  },
  {
   "cell_type": "markdown",
   "metadata": {},
   "source": [
    "## 1. Random Forest Regression"
   ]
  },
  {
   "cell_type": "code",
   "execution_count": 49,
   "metadata": {},
   "outputs": [
    {
     "data": {
      "text/plain": [
       "RandomForestRegressor()"
      ]
     },
     "execution_count": 49,
     "metadata": {},
     "output_type": "execute_result"
    }
   ],
   "source": [
    "from sklearn.ensemble import RandomForestRegressor\n",
    "rfc = RandomForestRegressor(n_estimators=100)\n",
    "rfc.fit(X_train, y_train)"
   ]
  },
  {
   "cell_type": "code",
   "execution_count": 50,
   "metadata": {},
   "outputs": [],
   "source": [
    "y_pred_rfc = rfc.predict(X_test)"
   ]
  },
  {
   "cell_type": "code",
   "execution_count": 51,
   "metadata": {},
   "outputs": [
    {
     "name": "stdout",
     "output_type": "stream",
     "text": [
      "Train Score 0.94 & Test Score 0.55\n"
     ]
    }
   ],
   "source": [
    "print(\"Train Score {:.2f} & Test Score {:.2f}\".format(rfc.score(X_train,y_train), rfc.score(X_test,y_test)))"
   ]
  },
  {
   "cell_type": "code",
   "execution_count": 53,
   "metadata": {},
   "outputs": [],
   "source": [
    "from sklearn import metrics"
   ]
  },
  {
   "cell_type": "code",
   "execution_count": 54,
   "metadata": {},
   "outputs": [
    {
     "name": "stdout",
     "output_type": "stream",
     "text": [
      "RMSE : 428.3\n"
     ]
    }
   ],
   "source": [
    "print(\"RMSE : %.4g\" % np.sqrt(metrics.mean_squared_error(y_train, rfc.predict(X_train))))"
   ]
  },
  {
   "cell_type": "markdown",
   "metadata": {},
   "source": [
    "### Random"
   ]
  },
  {
   "cell_type": "code",
   "execution_count": 104,
   "metadata": {},
   "outputs": [
    {
     "data": {
      "text/plain": [
       "RandomForestRegressor(max_depth=60, min_samples_split=50, n_estimators=2500)"
      ]
     },
     "execution_count": 104,
     "metadata": {},
     "output_type": "execute_result"
    }
   ],
   "source": [
    "rfc1 = RandomForestRegressor(n_estimators=2500, min_samples_split=50,\n",
    "                            min_samples_leaf=1, max_features='auto', max_depth=60)\n",
    "rfc1.fit(X_train, y_train)"
   ]
  },
  {
   "cell_type": "code",
   "execution_count": 105,
   "metadata": {},
   "outputs": [],
   "source": [
    "y_pred_rfc1 = rfc1.predict(X_test)"
   ]
  },
  {
   "cell_type": "code",
   "execution_count": 106,
   "metadata": {},
   "outputs": [
    {
     "name": "stdout",
     "output_type": "stream",
     "text": [
      "Train Score 0.69 & Test Score 0.58\n"
     ]
    }
   ],
   "source": [
    "print(\"Train Score {:.2f} & Test Score {:.2f}\".format(rfc1.score(X_train,y_train), rfc1.score(X_test,y_test)))"
   ]
  },
  {
   "cell_type": "code",
   "execution_count": 107,
   "metadata": {},
   "outputs": [
    {
     "name": "stdout",
     "output_type": "stream",
     "text": [
      "RMSE : 953\n"
     ]
    }
   ],
   "source": [
    "print(\"RMSE : %.4g\" % np.sqrt(metrics.mean_squared_error(y_train, rfc1.predict(X_train))))"
   ]
  },
  {
   "cell_type": "markdown",
   "metadata": {},
   "source": [
    "### RSME : 1161.7"
   ]
  },
  {
   "cell_type": "markdown",
   "metadata": {},
   "source": [
    "## 2. XGBOOST"
   ]
  },
  {
   "cell_type": "code",
   "execution_count": 64,
   "metadata": {},
   "outputs": [
    {
     "data": {
      "text/plain": [
       "XGBRegressor(base_score=0.5, booster='gbtree', colsample_bylevel=1,\n",
       "             colsample_bynode=1, colsample_bytree=1, gamma=0, gpu_id=-1,\n",
       "             importance_type='gain', interaction_constraints='',\n",
       "             learning_rate=0.300000012, max_delta_step=0, max_depth=6,\n",
       "             min_child_weight=1, missing=nan, monotone_constraints='()',\n",
       "             n_estimators=100, n_jobs=0, num_parallel_tree=1, random_state=0,\n",
       "             reg_alpha=0, reg_lambda=1, scale_pos_weight=1, subsample=1,\n",
       "             tree_method='exact', validate_parameters=1, verbosity=None)"
      ]
     },
     "execution_count": 64,
     "metadata": {},
     "output_type": "execute_result"
    }
   ],
   "source": [
    "reg_xgb = xgboost.XGBRegressor()\n",
    "reg_xgb.fit(X_train, y_train)"
   ]
  },
  {
   "cell_type": "code",
   "execution_count": 65,
   "metadata": {},
   "outputs": [],
   "source": [
    "y_pred_xgb = reg_xgb.predict(X_test)"
   ]
  },
  {
   "cell_type": "code",
   "execution_count": 66,
   "metadata": {},
   "outputs": [
    {
     "name": "stdout",
     "output_type": "stream",
     "text": [
      "Train Score 0.86 & Test Score 0.53\n"
     ]
    }
   ],
   "source": [
    "print(\"Train Score {:.2f} & Test Score {:.2f}\".format(reg_xgb.score(X_train,y_train),reg_xgb.score(X_test,y_test)))"
   ]
  },
  {
   "cell_type": "code",
   "execution_count": 67,
   "metadata": {},
   "outputs": [
    {
     "name": "stdout",
     "output_type": "stream",
     "text": [
      "RMSE : 651.3\n"
     ]
    }
   ],
   "source": [
    "print(\"RMSE : %.4g\" % np.sqrt(metrics.mean_squared_error(y_train, reg_xgb.predict(X_train))))"
   ]
  },
  {
   "cell_type": "markdown",
   "metadata": {},
   "source": [
    "-------------"
   ]
  },
  {
   "cell_type": "code",
   "execution_count": 68,
   "metadata": {
    "scrolled": true
   },
   "outputs": [
    {
     "name": "stdout",
     "output_type": "stream",
     "text": [
      "[18:50:00] WARNING: C:/Users/Administrator/workspace/xgboost-win64_release_1.1.0/src/objective/regression_obj.cu:168: reg:linear is now deprecated in favor of reg:squarederror.\n",
      "[18:50:00] WARNING: C:\\Users\\Administrator\\workspace\\xgboost-win64_release_1.1.0\\src\\learner.cc:480: \n",
      "Parameters: { silent } might not be used.\n",
      "\n",
      "  This may not be accurate due to some parameters are only used in language bindings but\n",
      "  passed down to XGBoost core.  Or some parameters are not used but slip through this\n",
      "  verification. Please open an issue if you find above cases.\n",
      "\n",
      "\n",
      "[18:50:05] WARNING: C:/Users/Administrator/workspace/xgboost-win64_release_1.1.0/src/objective/regression_obj.cu:168: reg:linear is now deprecated in favor of reg:squarederror.\n"
     ]
    },
    {
     "data": {
      "text/plain": [
       "XGBRegressor(base_score=0.25, booster='gbtree', colsample_bylevel=1,\n",
       "             colsample_bynode=1, colsample_bytree=1, gamma=0, gpu_id=-1,\n",
       "             importance_type='gain', interaction_constraints='',\n",
       "             learning_rate=0.1, max_delta_step=0, max_depth=2,\n",
       "             min_child_weight=1, missing=None, monotone_constraints='()',\n",
       "             n_estimators=900, n_jobs=1, nthread=1, num_parallel_tree=1,\n",
       "             objective='reg:linear', random_state=0, reg_alpha=0, reg_lambda=1,\n",
       "             scale_pos_weight=1, seed=0, silent=True, subsample=1,\n",
       "             tree_method='exact', validate_parameters=1, verbosity=None)"
      ]
     },
     "execution_count": 68,
     "metadata": {},
     "output_type": "execute_result"
    }
   ],
   "source": [
    "reg_xgb1 = xgboost.XGBRegressor(base_score=0.25, booster='gbtree', colsample_bylevel=1,\n",
    "       colsample_bytree=1, gamma=0, learning_rate=0.1, max_delta_step=0,\n",
    "       max_depth=2, min_child_weight=1, missing=None, n_estimators=900,\n",
    "       n_jobs=1, nthread=None, objective='reg:linear', random_state=0,\n",
    "       reg_alpha=0, reg_lambda=1, scale_pos_weight=1, seed=None,\n",
    "       silent=True, subsample=1)\n",
    "reg_xgb1.fit(X_train, y_train)"
   ]
  },
  {
   "cell_type": "code",
   "execution_count": 69,
   "metadata": {},
   "outputs": [],
   "source": [
    "y_pred_xgb1 = reg_xgb1.predict(X_test)"
   ]
  },
  {
   "cell_type": "code",
   "execution_count": 70,
   "metadata": {},
   "outputs": [
    {
     "name": "stdout",
     "output_type": "stream",
     "text": [
      "Train Score 0.68 & Test Score 0.57\n"
     ]
    }
   ],
   "source": [
    "print(\"Train Score {:.2f} & Test Score {:.2f}\".format(reg_xgb1.score(X_train,y_train), reg_xgb1.score(X_test,y_test)))"
   ]
  },
  {
   "cell_type": "code",
   "execution_count": 71,
   "metadata": {
    "scrolled": true
   },
   "outputs": [
    {
     "name": "stdout",
     "output_type": "stream",
     "text": [
      "RMSE : 975\n"
     ]
    }
   ],
   "source": [
    "print(\"RMSE : %.4g\" % np.sqrt(metrics.mean_squared_error(y_train, reg_xgb1.predict(X_train))))"
   ]
  },
  {
   "cell_type": "markdown",
   "metadata": {},
   "source": [
    "### RSME : 1171.6"
   ]
  },
  {
   "cell_type": "markdown",
   "metadata": {},
   "source": [
    "## 3. LGBM"
   ]
  },
  {
   "cell_type": "code",
   "execution_count": 74,
   "metadata": {},
   "outputs": [
    {
     "data": {
      "text/plain": [
       "LGBMRegressor()"
      ]
     },
     "execution_count": 74,
     "metadata": {},
     "output_type": "execute_result"
    }
   ],
   "source": [
    "lgbm_model = LGBMRegressor()\n",
    "lgbm_model.fit(X_train, y_train)"
   ]
  },
  {
   "cell_type": "code",
   "execution_count": 75,
   "metadata": {},
   "outputs": [],
   "source": [
    "y_pred_lgbm = lgbm_model.predict(X_test)"
   ]
  },
  {
   "cell_type": "code",
   "execution_count": 76,
   "metadata": {},
   "outputs": [
    {
     "name": "stdout",
     "output_type": "stream",
     "text": [
      "Train Score 0.72 & Test Score 0.57\n"
     ]
    }
   ],
   "source": [
    "print(\"Train Score {:.2f} & Test Score {:.2f}\".format(lgbm_model.score(X_train,y_train),lgbm_model.score(X_test,y_test)))"
   ]
  },
  {
   "cell_type": "code",
   "execution_count": 77,
   "metadata": {},
   "outputs": [
    {
     "name": "stdout",
     "output_type": "stream",
     "text": [
      "RMSE : 906.8\n"
     ]
    }
   ],
   "source": [
    "print(\"RMSE : %.4g\" % np.sqrt(metrics.mean_squared_error(y_train, lgbm_model.predict(X_train))))"
   ]
  },
  {
   "cell_type": "markdown",
   "metadata": {},
   "source": [
    "### RSME : 1160"
   ]
  },
  {
   "cell_type": "markdown",
   "metadata": {},
   "source": [
    "## 4. CatBoost Regressor"
   ]
  },
  {
   "cell_type": "code",
   "execution_count": 80,
   "metadata": {},
   "outputs": [
    {
     "name": "stdout",
     "output_type": "stream",
     "text": [
      "Learning rate set to 0.054928\n",
      "0:\tlearn: 1667.6583845\ttotal: 890ms\tremaining: 14m 49s\n",
      "1:\tlearn: 1618.6869120\ttotal: 902ms\tremaining: 7m 29s\n",
      "2:\tlearn: 1573.4355230\ttotal: 1s\tremaining: 5m 33s\n",
      "3:\tlearn: 1533.4991538\ttotal: 1.1s\tremaining: 4m 33s\n",
      "4:\tlearn: 1494.5781181\ttotal: 1.1s\tremaining: 3m 39s\n",
      "5:\tlearn: 1458.7517277\ttotal: 1.15s\tremaining: 3m 11s\n",
      "6:\tlearn: 1425.0438464\ttotal: 1.16s\tremaining: 2m 44s\n",
      "7:\tlearn: 1394.1701032\ttotal: 1.19s\tremaining: 2m 27s\n",
      "8:\tlearn: 1366.5425310\ttotal: 1.25s\tremaining: 2m 17s\n",
      "9:\tlearn: 1340.4955670\ttotal: 1.31s\tremaining: 2m 9s\n",
      "10:\tlearn: 1316.9957251\ttotal: 1.36s\tremaining: 2m 2s\n",
      "11:\tlearn: 1296.4712956\ttotal: 1.36s\tremaining: 1m 52s\n",
      "12:\tlearn: 1277.7382309\ttotal: 1.41s\tremaining: 1m 47s\n",
      "13:\tlearn: 1259.3946487\ttotal: 1.42s\tremaining: 1m 39s\n",
      "14:\tlearn: 1242.7866425\ttotal: 1.44s\tremaining: 1m 34s\n",
      "15:\tlearn: 1227.7145356\ttotal: 1.49s\tremaining: 1m 31s\n",
      "16:\tlearn: 1214.3384701\ttotal: 1.5s\tremaining: 1m 26s\n",
      "17:\tlearn: 1202.4795275\ttotal: 1.54s\tremaining: 1m 24s\n",
      "18:\tlearn: 1190.9250067\ttotal: 1.56s\tremaining: 1m 20s\n",
      "19:\tlearn: 1180.1744677\ttotal: 1.65s\tremaining: 1m 20s\n",
      "20:\tlearn: 1170.8936687\ttotal: 1.65s\tremaining: 1m 16s\n",
      "21:\tlearn: 1162.1346986\ttotal: 1.65s\tremaining: 1m 13s\n",
      "22:\tlearn: 1155.0141108\ttotal: 1.7s\tremaining: 1m 12s\n",
      "23:\tlearn: 1148.3318858\ttotal: 1.7s\tremaining: 1m 9s\n",
      "24:\tlearn: 1140.9904395\ttotal: 1.75s\tremaining: 1m 8s\n",
      "25:\tlearn: 1134.7328985\ttotal: 1.76s\tremaining: 1m 5s\n",
      "26:\tlearn: 1129.1629511\ttotal: 1.76s\tremaining: 1m 3s\n",
      "27:\tlearn: 1124.1125604\ttotal: 1.77s\tremaining: 1m 1s\n",
      "28:\tlearn: 1119.4653150\ttotal: 1.77s\tremaining: 59.3s\n",
      "29:\tlearn: 1115.4845208\ttotal: 1.78s\tremaining: 57.5s\n",
      "30:\tlearn: 1111.8053589\ttotal: 1.81s\tremaining: 56.5s\n",
      "31:\tlearn: 1108.8942513\ttotal: 1.81s\tremaining: 54.8s\n",
      "32:\tlearn: 1105.4795864\ttotal: 1.81s\tremaining: 53.2s\n",
      "33:\tlearn: 1102.9489338\ttotal: 1.85s\tremaining: 52.6s\n",
      "34:\tlearn: 1100.2602318\ttotal: 1.85s\tremaining: 51.2s\n",
      "35:\tlearn: 1097.5004285\ttotal: 1.86s\tremaining: 49.8s\n",
      "36:\tlearn: 1095.2645151\ttotal: 1.86s\tremaining: 48.5s\n",
      "37:\tlearn: 1093.3500394\ttotal: 1.87s\tremaining: 47.3s\n",
      "38:\tlearn: 1091.6244266\ttotal: 1.87s\tremaining: 46.2s\n",
      "39:\tlearn: 1089.7254853\ttotal: 1.88s\tremaining: 45.1s\n",
      "40:\tlearn: 1087.9573384\ttotal: 1.88s\tremaining: 44.1s\n",
      "41:\tlearn: 1086.3881377\ttotal: 1.89s\tremaining: 43.1s\n",
      "42:\tlearn: 1084.7215402\ttotal: 1.89s\tremaining: 42.1s\n",
      "43:\tlearn: 1083.2662824\ttotal: 1.9s\tremaining: 41.2s\n",
      "44:\tlearn: 1082.3239045\ttotal: 1.9s\tremaining: 40.4s\n",
      "45:\tlearn: 1081.5608555\ttotal: 1.92s\tremaining: 39.7s\n",
      "46:\tlearn: 1080.5875363\ttotal: 1.92s\tremaining: 38.9s\n",
      "47:\tlearn: 1079.5985093\ttotal: 1.93s\tremaining: 38.2s\n",
      "48:\tlearn: 1078.6707674\ttotal: 1.93s\tremaining: 37.5s\n",
      "49:\tlearn: 1077.7592255\ttotal: 1.94s\tremaining: 36.8s\n",
      "50:\tlearn: 1077.2376257\ttotal: 1.94s\tremaining: 36.2s\n",
      "51:\tlearn: 1076.4922887\ttotal: 1.95s\tremaining: 35.5s\n",
      "52:\tlearn: 1075.8071521\ttotal: 1.95s\tremaining: 34.9s\n",
      "53:\tlearn: 1075.0464673\ttotal: 1.96s\tremaining: 34.3s\n",
      "54:\tlearn: 1074.3323150\ttotal: 1.96s\tremaining: 33.7s\n",
      "55:\tlearn: 1073.2886613\ttotal: 1.97s\tremaining: 33.2s\n",
      "56:\tlearn: 1072.6628848\ttotal: 1.98s\tremaining: 32.7s\n",
      "57:\tlearn: 1072.0029660\ttotal: 1.98s\tremaining: 32.2s\n",
      "58:\tlearn: 1071.5109371\ttotal: 1.99s\tremaining: 31.8s\n",
      "59:\tlearn: 1071.0540889\ttotal: 2s\tremaining: 31.3s\n",
      "60:\tlearn: 1070.3044807\ttotal: 2s\tremaining: 30.8s\n",
      "61:\tlearn: 1069.7759966\ttotal: 2.01s\tremaining: 30.4s\n",
      "62:\tlearn: 1069.2991418\ttotal: 2.01s\tremaining: 29.9s\n",
      "63:\tlearn: 1068.5223723\ttotal: 2.02s\tremaining: 29.5s\n",
      "64:\tlearn: 1068.2137392\ttotal: 2.05s\tremaining: 29.5s\n",
      "65:\tlearn: 1067.6927759\ttotal: 2.06s\tremaining: 29.1s\n",
      "66:\tlearn: 1067.1618468\ttotal: 2.06s\tremaining: 28.7s\n",
      "67:\tlearn: 1066.7220775\ttotal: 2.07s\tremaining: 28.3s\n",
      "68:\tlearn: 1066.1875496\ttotal: 2.07s\tremaining: 27.9s\n",
      "69:\tlearn: 1065.9643598\ttotal: 2.08s\tremaining: 27.6s\n",
      "70:\tlearn: 1065.4435891\ttotal: 2.08s\tremaining: 27.2s\n",
      "71:\tlearn: 1064.9504127\ttotal: 2.08s\tremaining: 26.9s\n",
      "72:\tlearn: 1064.5068485\ttotal: 2.09s\tremaining: 26.5s\n",
      "73:\tlearn: 1064.0437702\ttotal: 2.09s\tremaining: 26.2s\n",
      "74:\tlearn: 1063.6864721\ttotal: 2.35s\tremaining: 29.1s\n",
      "75:\tlearn: 1063.4484781\ttotal: 2.36s\tremaining: 28.7s\n",
      "76:\tlearn: 1062.8673207\ttotal: 2.37s\tremaining: 28.4s\n",
      "77:\tlearn: 1062.4336275\ttotal: 2.37s\tremaining: 28s\n",
      "78:\tlearn: 1062.0686779\ttotal: 2.38s\tremaining: 27.7s\n",
      "79:\tlearn: 1061.8145718\ttotal: 2.39s\tremaining: 27.5s\n",
      "80:\tlearn: 1061.4983144\ttotal: 2.4s\tremaining: 27.2s\n",
      "81:\tlearn: 1060.9762768\ttotal: 2.4s\tremaining: 26.9s\n",
      "82:\tlearn: 1060.3402407\ttotal: 2.41s\tremaining: 26.6s\n",
      "83:\tlearn: 1059.9744588\ttotal: 2.41s\tremaining: 26.3s\n",
      "84:\tlearn: 1059.9555648\ttotal: 2.42s\tremaining: 26s\n",
      "85:\tlearn: 1059.7064418\ttotal: 2.42s\tremaining: 25.8s\n",
      "86:\tlearn: 1059.4443891\ttotal: 2.43s\tremaining: 25.5s\n",
      "87:\tlearn: 1058.9494150\ttotal: 2.43s\tremaining: 25.2s\n",
      "88:\tlearn: 1058.6506467\ttotal: 2.44s\tremaining: 25s\n",
      "89:\tlearn: 1058.2736899\ttotal: 2.44s\tremaining: 24.7s\n",
      "90:\tlearn: 1057.7149376\ttotal: 2.45s\tremaining: 24.5s\n",
      "91:\tlearn: 1057.4281753\ttotal: 2.45s\tremaining: 24.2s\n",
      "92:\tlearn: 1057.1486183\ttotal: 2.46s\tremaining: 24s\n",
      "93:\tlearn: 1056.7856832\ttotal: 2.46s\tremaining: 23.7s\n",
      "94:\tlearn: 1056.5617450\ttotal: 2.47s\tremaining: 23.5s\n",
      "95:\tlearn: 1056.4162505\ttotal: 2.47s\tremaining: 23.3s\n",
      "96:\tlearn: 1056.2178692\ttotal: 2.48s\tremaining: 23.1s\n",
      "97:\tlearn: 1055.7925772\ttotal: 2.48s\tremaining: 22.9s\n",
      "98:\tlearn: 1055.2126840\ttotal: 2.49s\tremaining: 22.6s\n",
      "99:\tlearn: 1054.9704179\ttotal: 2.49s\tremaining: 22.4s\n",
      "100:\tlearn: 1054.8342884\ttotal: 2.5s\tremaining: 22.3s\n",
      "101:\tlearn: 1054.4388757\ttotal: 2.5s\tremaining: 22.1s\n",
      "102:\tlearn: 1053.8687202\ttotal: 2.51s\tremaining: 21.9s\n",
      "103:\tlearn: 1053.5650486\ttotal: 2.52s\tremaining: 21.7s\n",
      "104:\tlearn: 1053.3615649\ttotal: 2.52s\tremaining: 21.5s\n",
      "105:\tlearn: 1053.2651342\ttotal: 2.53s\tremaining: 21.3s\n",
      "106:\tlearn: 1052.9008856\ttotal: 2.54s\tremaining: 21.2s\n",
      "107:\tlearn: 1052.6235407\ttotal: 2.54s\tremaining: 21s\n",
      "108:\tlearn: 1052.2929559\ttotal: 2.54s\tremaining: 20.8s\n",
      "109:\tlearn: 1051.7616878\ttotal: 2.55s\tremaining: 20.6s\n",
      "110:\tlearn: 1051.4375709\ttotal: 2.56s\tremaining: 20.5s\n",
      "111:\tlearn: 1051.1122014\ttotal: 2.56s\tremaining: 20.3s\n",
      "112:\tlearn: 1050.7860255\ttotal: 2.57s\tremaining: 20.2s\n",
      "113:\tlearn: 1050.4523476\ttotal: 2.57s\tremaining: 20s\n",
      "114:\tlearn: 1050.2178694\ttotal: 2.58s\tremaining: 19.8s\n",
      "115:\tlearn: 1049.8979858\ttotal: 2.58s\tremaining: 19.7s\n",
      "116:\tlearn: 1049.2836042\ttotal: 2.62s\tremaining: 19.8s\n",
      "117:\tlearn: 1049.1686688\ttotal: 2.62s\tremaining: 19.6s\n",
      "118:\tlearn: 1048.8908554\ttotal: 2.63s\tremaining: 19.5s\n",
      "119:\tlearn: 1048.4749126\ttotal: 2.63s\tremaining: 19.3s\n",
      "120:\tlearn: 1048.0929253\ttotal: 2.64s\tremaining: 19.2s\n",
      "121:\tlearn: 1047.5796261\ttotal: 2.64s\tremaining: 19s\n",
      "122:\tlearn: 1047.3508026\ttotal: 2.65s\tremaining: 18.9s\n",
      "123:\tlearn: 1047.0151588\ttotal: 2.65s\tremaining: 18.7s\n",
      "124:\tlearn: 1046.6073193\ttotal: 2.66s\tremaining: 18.6s\n",
      "125:\tlearn: 1046.2326237\ttotal: 2.66s\tremaining: 18.5s\n",
      "126:\tlearn: 1045.7643554\ttotal: 2.67s\tremaining: 18.4s\n",
      "127:\tlearn: 1045.3664231\ttotal: 2.67s\tremaining: 18.2s\n",
      "128:\tlearn: 1045.0241964\ttotal: 2.71s\tremaining: 18.3s\n",
      "129:\tlearn: 1044.6758470\ttotal: 2.72s\tremaining: 18.2s\n",
      "130:\tlearn: 1044.2564873\ttotal: 2.72s\tremaining: 18.1s\n",
      "131:\tlearn: 1043.9795038\ttotal: 2.73s\tremaining: 17.9s\n",
      "132:\tlearn: 1043.5997196\ttotal: 2.73s\tremaining: 17.8s\n",
      "133:\tlearn: 1043.1454066\ttotal: 2.73s\tremaining: 17.7s\n",
      "134:\tlearn: 1042.9535183\ttotal: 2.74s\tremaining: 17.5s\n",
      "135:\tlearn: 1042.8458842\ttotal: 2.74s\tremaining: 17.4s\n",
      "136:\tlearn: 1042.5156092\ttotal: 2.75s\tremaining: 17.3s\n",
      "137:\tlearn: 1042.1073910\ttotal: 2.75s\tremaining: 17.2s\n",
      "138:\tlearn: 1041.7995138\ttotal: 2.76s\tremaining: 17.1s\n",
      "139:\tlearn: 1041.2063846\ttotal: 2.77s\tremaining: 17s\n",
      "140:\tlearn: 1040.7978733\ttotal: 2.77s\tremaining: 16.9s\n",
      "141:\tlearn: 1040.5660183\ttotal: 2.77s\tremaining: 16.8s\n",
      "142:\tlearn: 1039.9456582\ttotal: 2.78s\tremaining: 16.7s\n",
      "143:\tlearn: 1039.5890462\ttotal: 2.78s\tremaining: 16.5s\n",
      "144:\tlearn: 1039.3406041\ttotal: 2.79s\tremaining: 16.4s\n",
      "145:\tlearn: 1038.8778146\ttotal: 2.79s\tremaining: 16.3s\n",
      "146:\tlearn: 1038.7223662\ttotal: 2.8s\tremaining: 16.2s\n",
      "147:\tlearn: 1038.2679534\ttotal: 2.8s\tremaining: 16.1s\n",
      "148:\tlearn: 1037.7752649\ttotal: 2.81s\tremaining: 16s\n",
      "149:\tlearn: 1037.4068202\ttotal: 2.81s\tremaining: 15.9s\n",
      "150:\tlearn: 1037.1646693\ttotal: 2.81s\tremaining: 15.8s\n",
      "151:\tlearn: 1036.7341698\ttotal: 2.82s\tremaining: 15.7s\n",
      "152:\tlearn: 1036.2849833\ttotal: 2.83s\tremaining: 15.6s\n",
      "153:\tlearn: 1036.0438401\ttotal: 2.83s\tremaining: 15.5s\n",
      "154:\tlearn: 1035.6457035\ttotal: 2.83s\tremaining: 15.5s\n",
      "155:\tlearn: 1035.2872078\ttotal: 2.84s\tremaining: 15.4s\n",
      "156:\tlearn: 1035.1060951\ttotal: 2.84s\tremaining: 15.3s\n",
      "157:\tlearn: 1034.7315096\ttotal: 2.85s\tremaining: 15.2s\n",
      "158:\tlearn: 1034.4273704\ttotal: 2.86s\tremaining: 15.1s\n",
      "159:\tlearn: 1034.1272112\ttotal: 2.86s\tremaining: 15s\n",
      "160:\tlearn: 1033.7861905\ttotal: 2.87s\tremaining: 14.9s\n",
      "161:\tlearn: 1033.5645427\ttotal: 2.87s\tremaining: 14.9s\n",
      "162:\tlearn: 1033.1786532\ttotal: 2.88s\tremaining: 14.8s\n",
      "163:\tlearn: 1032.7335796\ttotal: 2.88s\tremaining: 14.7s\n",
      "164:\tlearn: 1032.1296591\ttotal: 2.89s\tremaining: 14.6s\n",
      "165:\tlearn: 1031.6864492\ttotal: 2.89s\tremaining: 14.5s\n",
      "166:\tlearn: 1031.4148290\ttotal: 2.9s\tremaining: 14.4s\n",
      "167:\tlearn: 1030.9402557\ttotal: 2.9s\tremaining: 14.4s\n",
      "168:\tlearn: 1030.6890309\ttotal: 2.9s\tremaining: 14.3s\n",
      "169:\tlearn: 1030.3462851\ttotal: 2.91s\tremaining: 14.2s\n",
      "170:\tlearn: 1030.1312033\ttotal: 2.92s\tremaining: 14.1s\n",
      "171:\tlearn: 1029.8520612\ttotal: 2.92s\tremaining: 14.1s\n",
      "172:\tlearn: 1029.5547176\ttotal: 2.93s\tremaining: 14s\n",
      "173:\tlearn: 1029.1435663\ttotal: 2.93s\tremaining: 13.9s\n",
      "174:\tlearn: 1028.9897541\ttotal: 2.94s\tremaining: 13.8s\n",
      "175:\tlearn: 1028.8080048\ttotal: 2.94s\tremaining: 13.8s\n",
      "176:\tlearn: 1028.4408174\ttotal: 2.94s\tremaining: 13.7s\n",
      "177:\tlearn: 1028.2058158\ttotal: 2.95s\tremaining: 13.6s\n"
     ]
    },
    {
     "name": "stdout",
     "output_type": "stream",
     "text": [
      "178:\tlearn: 1027.7373244\ttotal: 2.95s\tremaining: 13.6s\n",
      "179:\tlearn: 1027.3691176\ttotal: 2.96s\tremaining: 13.5s\n",
      "180:\tlearn: 1027.1410083\ttotal: 2.96s\tremaining: 13.4s\n",
      "181:\tlearn: 1026.8565006\ttotal: 2.97s\tremaining: 13.3s\n",
      "182:\tlearn: 1026.3507158\ttotal: 2.97s\tremaining: 13.3s\n",
      "183:\tlearn: 1026.1120380\ttotal: 2.98s\tremaining: 13.2s\n",
      "184:\tlearn: 1025.8629600\ttotal: 2.99s\tremaining: 13.2s\n",
      "185:\tlearn: 1025.6232827\ttotal: 2.99s\tremaining: 13.1s\n",
      "186:\tlearn: 1024.9800224\ttotal: 3s\tremaining: 13s\n",
      "187:\tlearn: 1024.6867961\ttotal: 3s\tremaining: 13s\n",
      "188:\tlearn: 1024.4508274\ttotal: 3.01s\tremaining: 12.9s\n",
      "189:\tlearn: 1024.2235332\ttotal: 3.01s\tremaining: 12.8s\n",
      "190:\tlearn: 1023.7283104\ttotal: 3.02s\tremaining: 12.8s\n",
      "191:\tlearn: 1023.4822797\ttotal: 3.02s\tremaining: 12.7s\n",
      "192:\tlearn: 1022.9986546\ttotal: 3.02s\tremaining: 12.6s\n",
      "193:\tlearn: 1022.3692303\ttotal: 3.03s\tremaining: 12.6s\n",
      "194:\tlearn: 1021.9714560\ttotal: 3.03s\tremaining: 12.5s\n",
      "195:\tlearn: 1021.6443701\ttotal: 3.04s\tremaining: 12.5s\n",
      "196:\tlearn: 1021.3929317\ttotal: 3.04s\tremaining: 12.4s\n",
      "197:\tlearn: 1021.0375901\ttotal: 3.05s\tremaining: 12.3s\n",
      "198:\tlearn: 1020.5411772\ttotal: 3.1s\tremaining: 12.5s\n",
      "199:\tlearn: 1020.3181746\ttotal: 3.1s\tremaining: 12.4s\n",
      "200:\tlearn: 1019.7690536\ttotal: 3.11s\tremaining: 12.4s\n",
      "201:\tlearn: 1019.6595975\ttotal: 3.11s\tremaining: 12.3s\n",
      "202:\tlearn: 1019.4205251\ttotal: 3.12s\tremaining: 12.2s\n",
      "203:\tlearn: 1019.2680082\ttotal: 3.13s\tremaining: 12.2s\n",
      "204:\tlearn: 1018.8358551\ttotal: 3.13s\tremaining: 12.1s\n",
      "205:\tlearn: 1018.5195174\ttotal: 3.14s\tremaining: 12.1s\n",
      "206:\tlearn: 1018.0822997\ttotal: 3.14s\tremaining: 12s\n",
      "207:\tlearn: 1017.6986103\ttotal: 3.15s\tremaining: 12s\n",
      "208:\tlearn: 1017.4385766\ttotal: 3.15s\tremaining: 11.9s\n",
      "209:\tlearn: 1016.6598239\ttotal: 3.16s\tremaining: 11.9s\n",
      "210:\tlearn: 1016.4063082\ttotal: 3.16s\tremaining: 11.8s\n",
      "211:\tlearn: 1015.9804616\ttotal: 3.17s\tremaining: 11.8s\n",
      "212:\tlearn: 1015.6875044\ttotal: 3.17s\tremaining: 11.7s\n",
      "213:\tlearn: 1015.5165912\ttotal: 3.18s\tremaining: 11.7s\n",
      "214:\tlearn: 1015.1302134\ttotal: 3.18s\tremaining: 11.6s\n",
      "215:\tlearn: 1014.7961474\ttotal: 3.19s\tremaining: 11.6s\n",
      "216:\tlearn: 1014.3650517\ttotal: 3.2s\tremaining: 11.5s\n",
      "217:\tlearn: 1014.2003899\ttotal: 3.21s\tremaining: 11.5s\n",
      "218:\tlearn: 1013.9556123\ttotal: 3.21s\tremaining: 11.4s\n",
      "219:\tlearn: 1013.7200152\ttotal: 3.21s\tremaining: 11.4s\n",
      "220:\tlearn: 1013.0152406\ttotal: 3.22s\tremaining: 11.3s\n",
      "221:\tlearn: 1012.6447049\ttotal: 3.22s\tremaining: 11.3s\n",
      "222:\tlearn: 1012.0828209\ttotal: 3.23s\tremaining: 11.2s\n",
      "223:\tlearn: 1011.8107172\ttotal: 3.23s\tremaining: 11.2s\n",
      "224:\tlearn: 1011.5702114\ttotal: 3.24s\tremaining: 11.1s\n",
      "225:\tlearn: 1011.1594852\ttotal: 3.24s\tremaining: 11.1s\n",
      "226:\tlearn: 1010.5985202\ttotal: 3.24s\tremaining: 11s\n",
      "227:\tlearn: 1010.1241154\ttotal: 3.25s\tremaining: 11s\n",
      "228:\tlearn: 1010.0245366\ttotal: 3.25s\tremaining: 11s\n",
      "229:\tlearn: 1009.6948994\ttotal: 3.26s\tremaining: 10.9s\n",
      "230:\tlearn: 1009.3161642\ttotal: 3.26s\tremaining: 10.9s\n",
      "231:\tlearn: 1008.9932161\ttotal: 3.27s\tremaining: 10.8s\n",
      "232:\tlearn: 1008.4906529\ttotal: 3.27s\tremaining: 10.8s\n",
      "233:\tlearn: 1008.1842927\ttotal: 3.27s\tremaining: 10.7s\n",
      "234:\tlearn: 1007.8793500\ttotal: 3.28s\tremaining: 10.7s\n",
      "235:\tlearn: 1007.5913593\ttotal: 3.28s\tremaining: 10.6s\n",
      "236:\tlearn: 1007.3030786\ttotal: 3.29s\tremaining: 10.6s\n",
      "237:\tlearn: 1007.0928386\ttotal: 3.29s\tremaining: 10.5s\n",
      "238:\tlearn: 1006.8268713\ttotal: 3.3s\tremaining: 10.5s\n",
      "239:\tlearn: 1006.6377150\ttotal: 3.3s\tremaining: 10.4s\n",
      "240:\tlearn: 1006.2579374\ttotal: 3.31s\tremaining: 10.4s\n",
      "241:\tlearn: 1006.0011384\ttotal: 3.31s\tremaining: 10.4s\n",
      "242:\tlearn: 1005.8024057\ttotal: 3.31s\tremaining: 10.3s\n",
      "243:\tlearn: 1005.5930762\ttotal: 3.32s\tremaining: 10.3s\n",
      "244:\tlearn: 1005.1674243\ttotal: 3.32s\tremaining: 10.2s\n",
      "245:\tlearn: 1004.9153304\ttotal: 3.33s\tremaining: 10.2s\n",
      "246:\tlearn: 1004.4162326\ttotal: 3.33s\tremaining: 10.2s\n",
      "247:\tlearn: 1004.1334851\ttotal: 3.34s\tremaining: 10.1s\n",
      "248:\tlearn: 1003.9858246\ttotal: 3.34s\tremaining: 10.1s\n",
      "249:\tlearn: 1003.6123643\ttotal: 3.35s\tremaining: 10s\n",
      "250:\tlearn: 1003.2116676\ttotal: 3.35s\tremaining: 10s\n",
      "251:\tlearn: 1002.8632849\ttotal: 3.35s\tremaining: 9.96s\n",
      "252:\tlearn: 1002.5866851\ttotal: 3.36s\tremaining: 9.92s\n",
      "253:\tlearn: 1002.1822841\ttotal: 3.36s\tremaining: 9.88s\n",
      "254:\tlearn: 1001.8040177\ttotal: 3.37s\tremaining: 9.84s\n",
      "255:\tlearn: 1001.4317004\ttotal: 3.37s\tremaining: 9.8s\n",
      "256:\tlearn: 1001.2343029\ttotal: 3.38s\tremaining: 9.76s\n",
      "257:\tlearn: 1000.9778125\ttotal: 3.38s\tremaining: 9.73s\n",
      "258:\tlearn: 1000.7428331\ttotal: 3.39s\tremaining: 9.69s\n",
      "259:\tlearn: 1000.6043114\ttotal: 3.39s\tremaining: 9.65s\n",
      "260:\tlearn: 1000.1809928\ttotal: 3.39s\tremaining: 9.61s\n",
      "261:\tlearn: 999.9475987\ttotal: 3.4s\tremaining: 9.57s\n",
      "262:\tlearn: 999.4543299\ttotal: 3.4s\tremaining: 9.54s\n",
      "263:\tlearn: 998.9865584\ttotal: 3.41s\tremaining: 9.5s\n",
      "264:\tlearn: 998.7005278\ttotal: 3.41s\tremaining: 9.46s\n",
      "265:\tlearn: 998.3259040\ttotal: 3.42s\tremaining: 9.43s\n",
      "266:\tlearn: 997.8522046\ttotal: 3.42s\tremaining: 9.39s\n",
      "267:\tlearn: 997.6338408\ttotal: 3.42s\tremaining: 9.36s\n",
      "268:\tlearn: 997.3056277\ttotal: 3.43s\tremaining: 9.32s\n",
      "269:\tlearn: 997.0357160\ttotal: 3.44s\tremaining: 9.29s\n",
      "270:\tlearn: 996.8403334\ttotal: 3.44s\tremaining: 9.26s\n",
      "271:\tlearn: 996.2963827\ttotal: 3.44s\tremaining: 9.22s\n",
      "272:\tlearn: 995.8092836\ttotal: 3.45s\tremaining: 9.19s\n",
      "273:\tlearn: 995.4556099\ttotal: 3.46s\tremaining: 9.16s\n",
      "274:\tlearn: 994.9607975\ttotal: 3.46s\tremaining: 9.12s\n",
      "275:\tlearn: 994.7305923\ttotal: 3.46s\tremaining: 9.09s\n",
      "276:\tlearn: 994.5163001\ttotal: 3.48s\tremaining: 9.07s\n",
      "277:\tlearn: 994.2090512\ttotal: 3.48s\tremaining: 9.04s\n",
      "278:\tlearn: 993.9127238\ttotal: 3.49s\tremaining: 9.01s\n",
      "279:\tlearn: 993.4934497\ttotal: 3.49s\tremaining: 8.98s\n",
      "280:\tlearn: 993.0803879\ttotal: 3.5s\tremaining: 8.95s\n",
      "281:\tlearn: 992.9921607\ttotal: 3.5s\tremaining: 8.92s\n",
      "282:\tlearn: 992.6785357\ttotal: 3.51s\tremaining: 8.88s\n",
      "283:\tlearn: 992.4322902\ttotal: 3.51s\tremaining: 8.85s\n",
      "284:\tlearn: 992.2448136\ttotal: 3.52s\tremaining: 8.82s\n",
      "285:\tlearn: 991.6781527\ttotal: 3.52s\tremaining: 8.79s\n",
      "286:\tlearn: 991.3514427\ttotal: 3.53s\tremaining: 8.78s\n",
      "287:\tlearn: 990.9109801\ttotal: 3.54s\tremaining: 8.74s\n",
      "288:\tlearn: 990.6283773\ttotal: 3.54s\tremaining: 8.71s\n",
      "289:\tlearn: 990.3007215\ttotal: 3.55s\tremaining: 8.68s\n",
      "290:\tlearn: 989.9184259\ttotal: 3.55s\tremaining: 8.65s\n",
      "291:\tlearn: 989.5431756\ttotal: 3.56s\tremaining: 8.62s\n",
      "292:\tlearn: 989.3078995\ttotal: 3.56s\tremaining: 8.59s\n",
      "293:\tlearn: 989.0034642\ttotal: 3.56s\tremaining: 8.56s\n",
      "294:\tlearn: 988.6970666\ttotal: 3.59s\tremaining: 8.57s\n",
      "295:\tlearn: 988.3652806\ttotal: 3.59s\tremaining: 8.54s\n",
      "296:\tlearn: 988.0387282\ttotal: 3.6s\tremaining: 8.51s\n",
      "297:\tlearn: 987.5572515\ttotal: 3.6s\tremaining: 8.48s\n",
      "298:\tlearn: 987.1833937\ttotal: 3.6s\tremaining: 8.45s\n",
      "299:\tlearn: 986.8919417\ttotal: 3.61s\tremaining: 8.42s\n",
      "300:\tlearn: 986.7059658\ttotal: 3.61s\tremaining: 8.39s\n",
      "301:\tlearn: 986.2678247\ttotal: 3.62s\tremaining: 8.36s\n",
      "302:\tlearn: 985.7964208\ttotal: 3.62s\tremaining: 8.33s\n",
      "303:\tlearn: 985.6365309\ttotal: 3.63s\tremaining: 8.3s\n",
      "304:\tlearn: 985.1865386\ttotal: 3.63s\tremaining: 8.27s\n",
      "305:\tlearn: 984.8583863\ttotal: 3.64s\tremaining: 8.26s\n",
      "306:\tlearn: 984.5182494\ttotal: 3.65s\tremaining: 8.23s\n",
      "307:\tlearn: 984.3616380\ttotal: 3.65s\tremaining: 8.2s\n",
      "308:\tlearn: 984.1534441\ttotal: 3.66s\tremaining: 8.18s\n",
      "309:\tlearn: 983.7764111\ttotal: 3.66s\tremaining: 8.15s\n",
      "310:\tlearn: 983.5047398\ttotal: 3.66s\tremaining: 8.12s\n",
      "311:\tlearn: 983.1712101\ttotal: 3.67s\tremaining: 8.09s\n",
      "312:\tlearn: 982.8960076\ttotal: 3.67s\tremaining: 8.06s\n",
      "313:\tlearn: 982.5176666\ttotal: 3.68s\tremaining: 8.03s\n",
      "314:\tlearn: 982.1526616\ttotal: 3.71s\tremaining: 8.06s\n",
      "315:\tlearn: 981.8610136\ttotal: 3.71s\tremaining: 8.03s\n",
      "316:\tlearn: 981.6363342\ttotal: 3.71s\tremaining: 8s\n",
      "317:\tlearn: 981.3478366\ttotal: 3.72s\tremaining: 7.98s\n",
      "318:\tlearn: 981.0845833\ttotal: 3.72s\tremaining: 7.95s\n",
      "319:\tlearn: 980.7139075\ttotal: 3.73s\tremaining: 7.92s\n",
      "320:\tlearn: 980.4952483\ttotal: 3.73s\tremaining: 7.89s\n",
      "321:\tlearn: 980.2893203\ttotal: 3.73s\tremaining: 7.87s\n",
      "322:\tlearn: 979.8798907\ttotal: 3.74s\tremaining: 7.84s\n",
      "323:\tlearn: 979.3548252\ttotal: 3.74s\tremaining: 7.81s\n",
      "324:\tlearn: 979.0706128\ttotal: 3.75s\tremaining: 7.79s\n",
      "325:\tlearn: 978.7223230\ttotal: 3.75s\tremaining: 7.76s\n",
      "326:\tlearn: 978.5042625\ttotal: 3.76s\tremaining: 7.73s\n",
      "327:\tlearn: 978.2201633\ttotal: 3.76s\tremaining: 7.71s\n",
      "328:\tlearn: 978.0204690\ttotal: 3.77s\tremaining: 7.68s\n",
      "329:\tlearn: 977.6337822\ttotal: 3.77s\tremaining: 7.66s\n",
      "330:\tlearn: 977.2162874\ttotal: 3.77s\tremaining: 7.63s\n",
      "331:\tlearn: 977.0067427\ttotal: 3.78s\tremaining: 7.61s\n",
      "332:\tlearn: 976.5831296\ttotal: 3.78s\tremaining: 7.58s\n",
      "333:\tlearn: 976.2456257\ttotal: 3.79s\tremaining: 7.55s\n"
     ]
    },
    {
     "name": "stdout",
     "output_type": "stream",
     "text": [
      "334:\tlearn: 976.1449971\ttotal: 3.8s\tremaining: 7.55s\n",
      "335:\tlearn: 975.6633920\ttotal: 3.81s\tremaining: 7.53s\n",
      "336:\tlearn: 975.5221748\ttotal: 3.81s\tremaining: 7.5s\n",
      "337:\tlearn: 975.1857560\ttotal: 3.82s\tremaining: 7.48s\n",
      "338:\tlearn: 974.9097019\ttotal: 3.82s\tremaining: 7.46s\n",
      "339:\tlearn: 974.6996635\ttotal: 3.83s\tremaining: 7.43s\n",
      "340:\tlearn: 974.4834781\ttotal: 3.83s\tremaining: 7.41s\n",
      "341:\tlearn: 974.2127315\ttotal: 3.84s\tremaining: 7.38s\n",
      "342:\tlearn: 974.0250193\ttotal: 3.84s\tremaining: 7.36s\n",
      "343:\tlearn: 973.7658902\ttotal: 3.85s\tremaining: 7.34s\n",
      "344:\tlearn: 973.4933575\ttotal: 3.85s\tremaining: 7.32s\n",
      "345:\tlearn: 973.1684959\ttotal: 3.86s\tremaining: 7.29s\n",
      "346:\tlearn: 972.8934963\ttotal: 3.86s\tremaining: 7.27s\n",
      "347:\tlearn: 972.6030666\ttotal: 3.87s\tremaining: 7.24s\n",
      "348:\tlearn: 972.3739585\ttotal: 3.87s\tremaining: 7.22s\n",
      "349:\tlearn: 972.1291657\ttotal: 3.87s\tremaining: 7.2s\n",
      "350:\tlearn: 971.9349140\ttotal: 3.88s\tremaining: 7.17s\n",
      "351:\tlearn: 971.7119197\ttotal: 3.88s\tremaining: 7.15s\n",
      "352:\tlearn: 971.3944052\ttotal: 3.89s\tremaining: 7.13s\n",
      "353:\tlearn: 971.0541569\ttotal: 3.89s\tremaining: 7.1s\n",
      "354:\tlearn: 970.8021490\ttotal: 3.9s\tremaining: 7.08s\n",
      "355:\tlearn: 970.5886229\ttotal: 3.9s\tremaining: 7.06s\n",
      "356:\tlearn: 970.2427354\ttotal: 3.9s\tremaining: 7.03s\n",
      "357:\tlearn: 969.8419843\ttotal: 3.91s\tremaining: 7.01s\n",
      "358:\tlearn: 969.5376988\ttotal: 3.91s\tremaining: 6.99s\n",
      "359:\tlearn: 969.4027649\ttotal: 3.92s\tremaining: 6.96s\n",
      "360:\tlearn: 969.0372894\ttotal: 3.92s\tremaining: 6.94s\n",
      "361:\tlearn: 968.8402007\ttotal: 3.93s\tremaining: 6.92s\n",
      "362:\tlearn: 968.6846582\ttotal: 3.93s\tremaining: 6.9s\n",
      "363:\tlearn: 968.3501510\ttotal: 3.93s\tremaining: 6.87s\n",
      "364:\tlearn: 968.1362762\ttotal: 3.94s\tremaining: 6.85s\n",
      "365:\tlearn: 967.7924310\ttotal: 3.94s\tremaining: 6.83s\n",
      "366:\tlearn: 967.5260030\ttotal: 3.95s\tremaining: 6.81s\n",
      "367:\tlearn: 967.2762680\ttotal: 3.95s\tremaining: 6.79s\n",
      "368:\tlearn: 966.9070389\ttotal: 3.96s\tremaining: 6.76s\n",
      "369:\tlearn: 966.5789943\ttotal: 3.96s\tremaining: 6.75s\n",
      "370:\tlearn: 966.3510297\ttotal: 3.97s\tremaining: 6.72s\n",
      "371:\tlearn: 966.0133051\ttotal: 3.97s\tremaining: 6.7s\n",
      "372:\tlearn: 965.7274480\ttotal: 3.98s\tremaining: 6.68s\n",
      "373:\tlearn: 965.3711523\ttotal: 3.99s\tremaining: 6.67s\n",
      "374:\tlearn: 965.1306743\ttotal: 3.99s\tremaining: 6.65s\n",
      "375:\tlearn: 964.8349926\ttotal: 4s\tremaining: 6.63s\n",
      "376:\tlearn: 964.5166210\ttotal: 4s\tremaining: 6.61s\n",
      "377:\tlearn: 964.2267463\ttotal: 4s\tremaining: 6.59s\n",
      "378:\tlearn: 964.0704909\ttotal: 4.01s\tremaining: 6.57s\n",
      "379:\tlearn: 963.8722794\ttotal: 4.02s\tremaining: 6.55s\n",
      "380:\tlearn: 963.7931981\ttotal: 4.02s\tremaining: 6.53s\n",
      "381:\tlearn: 963.6644279\ttotal: 4.02s\tremaining: 6.51s\n",
      "382:\tlearn: 963.5056374\ttotal: 4.03s\tremaining: 6.49s\n",
      "383:\tlearn: 963.1353619\ttotal: 4.03s\tremaining: 6.47s\n",
      "384:\tlearn: 962.8104755\ttotal: 4.04s\tremaining: 6.45s\n",
      "385:\tlearn: 962.6490411\ttotal: 4.04s\tremaining: 6.43s\n",
      "386:\tlearn: 962.3080520\ttotal: 4.05s\tremaining: 6.41s\n",
      "387:\tlearn: 962.0550897\ttotal: 4.05s\tremaining: 6.39s\n",
      "388:\tlearn: 961.9523803\ttotal: 4.05s\tremaining: 6.37s\n",
      "389:\tlearn: 961.7547335\ttotal: 4.06s\tremaining: 6.35s\n",
      "390:\tlearn: 961.5642783\ttotal: 4.06s\tremaining: 6.33s\n",
      "391:\tlearn: 961.2882582\ttotal: 4.07s\tremaining: 6.31s\n",
      "392:\tlearn: 961.0913130\ttotal: 4.07s\tremaining: 6.29s\n",
      "393:\tlearn: 960.7293833\ttotal: 4.08s\tremaining: 6.28s\n",
      "394:\tlearn: 960.4685547\ttotal: 4.09s\tremaining: 6.26s\n",
      "395:\tlearn: 960.1735062\ttotal: 4.09s\tremaining: 6.25s\n",
      "396:\tlearn: 960.0264936\ttotal: 4.1s\tremaining: 6.23s\n",
      "397:\tlearn: 959.7829009\ttotal: 4.1s\tremaining: 6.21s\n",
      "398:\tlearn: 959.4760145\ttotal: 4.11s\tremaining: 6.19s\n",
      "399:\tlearn: 959.3258619\ttotal: 4.11s\tremaining: 6.17s\n",
      "400:\tlearn: 959.0794029\ttotal: 4.12s\tremaining: 6.15s\n",
      "401:\tlearn: 958.6822770\ttotal: 4.12s\tremaining: 6.13s\n",
      "402:\tlearn: 958.5513442\ttotal: 4.13s\tremaining: 6.11s\n",
      "403:\tlearn: 958.3175961\ttotal: 4.13s\tremaining: 6.09s\n",
      "404:\tlearn: 958.0113766\ttotal: 4.13s\tremaining: 6.08s\n",
      "405:\tlearn: 957.8399702\ttotal: 4.14s\tremaining: 6.06s\n",
      "406:\tlearn: 957.6532374\ttotal: 4.15s\tremaining: 6.05s\n",
      "407:\tlearn: 957.5598555\ttotal: 4.16s\tremaining: 6.03s\n",
      "408:\tlearn: 957.3711849\ttotal: 4.16s\tremaining: 6.01s\n",
      "409:\tlearn: 956.9180001\ttotal: 4.17s\tremaining: 5.99s\n",
      "410:\tlearn: 956.6833986\ttotal: 4.17s\tremaining: 5.98s\n",
      "411:\tlearn: 956.4133755\ttotal: 4.17s\tremaining: 5.96s\n",
      "412:\tlearn: 956.2600924\ttotal: 4.18s\tremaining: 5.94s\n",
      "413:\tlearn: 956.0232324\ttotal: 4.18s\tremaining: 5.92s\n",
      "414:\tlearn: 955.6535328\ttotal: 4.19s\tremaining: 5.9s\n",
      "415:\tlearn: 955.4850004\ttotal: 4.19s\tremaining: 5.88s\n",
      "416:\tlearn: 955.2070159\ttotal: 4.2s\tremaining: 5.87s\n",
      "417:\tlearn: 954.9758963\ttotal: 4.2s\tremaining: 5.85s\n",
      "418:\tlearn: 954.7754394\ttotal: 4.21s\tremaining: 5.83s\n",
      "419:\tlearn: 954.5772723\ttotal: 4.22s\tremaining: 5.82s\n",
      "420:\tlearn: 954.2282544\ttotal: 4.22s\tremaining: 5.81s\n",
      "421:\tlearn: 954.0425264\ttotal: 4.23s\tremaining: 5.79s\n",
      "422:\tlearn: 953.7949278\ttotal: 4.23s\tremaining: 5.77s\n",
      "423:\tlearn: 953.5301555\ttotal: 4.24s\tremaining: 5.75s\n",
      "424:\tlearn: 953.3917675\ttotal: 4.24s\tremaining: 5.74s\n",
      "425:\tlearn: 953.0824141\ttotal: 4.25s\tremaining: 5.72s\n",
      "426:\tlearn: 952.7633720\ttotal: 4.25s\tremaining: 5.7s\n",
      "427:\tlearn: 952.4372048\ttotal: 4.25s\tremaining: 5.68s\n",
      "428:\tlearn: 952.1618015\ttotal: 4.26s\tremaining: 5.67s\n",
      "429:\tlearn: 951.8474266\ttotal: 4.26s\tremaining: 5.65s\n",
      "430:\tlearn: 951.4562090\ttotal: 4.27s\tremaining: 5.63s\n",
      "431:\tlearn: 951.2543196\ttotal: 4.27s\tremaining: 5.62s\n",
      "432:\tlearn: 950.8402719\ttotal: 4.28s\tremaining: 5.6s\n",
      "433:\tlearn: 950.5522373\ttotal: 4.28s\tremaining: 5.58s\n",
      "434:\tlearn: 950.2494662\ttotal: 4.29s\tremaining: 5.57s\n",
      "435:\tlearn: 950.0183827\ttotal: 4.29s\tremaining: 5.55s\n",
      "436:\tlearn: 949.7010463\ttotal: 4.29s\tremaining: 5.53s\n",
      "437:\tlearn: 949.4270991\ttotal: 4.3s\tremaining: 5.52s\n",
      "438:\tlearn: 949.2551868\ttotal: 4.3s\tremaining: 5.5s\n",
      "439:\tlearn: 948.9533177\ttotal: 4.31s\tremaining: 5.49s\n",
      "440:\tlearn: 948.8220124\ttotal: 4.31s\tremaining: 5.47s\n",
      "441:\tlearn: 948.4290412\ttotal: 4.32s\tremaining: 5.46s\n",
      "442:\tlearn: 948.0439753\ttotal: 4.33s\tremaining: 5.44s\n",
      "443:\tlearn: 947.8945626\ttotal: 4.33s\tremaining: 5.42s\n",
      "444:\tlearn: 947.6604806\ttotal: 4.33s\tremaining: 5.41s\n",
      "445:\tlearn: 947.3555741\ttotal: 4.34s\tremaining: 5.39s\n",
      "446:\tlearn: 947.0823868\ttotal: 4.34s\tremaining: 5.37s\n",
      "447:\tlearn: 946.8563679\ttotal: 4.35s\tremaining: 5.36s\n",
      "448:\tlearn: 946.6681645\ttotal: 4.35s\tremaining: 5.34s\n",
      "449:\tlearn: 946.4241746\ttotal: 4.36s\tremaining: 5.32s\n",
      "450:\tlearn: 946.1242372\ttotal: 4.36s\tremaining: 5.31s\n",
      "451:\tlearn: 945.9230242\ttotal: 4.36s\tremaining: 5.29s\n",
      "452:\tlearn: 945.6810269\ttotal: 4.37s\tremaining: 5.28s\n",
      "453:\tlearn: 945.4533373\ttotal: 4.37s\tremaining: 5.26s\n",
      "454:\tlearn: 945.3408872\ttotal: 4.38s\tremaining: 5.24s\n",
      "455:\tlearn: 945.1230035\ttotal: 4.38s\tremaining: 5.23s\n",
      "456:\tlearn: 945.0063079\ttotal: 4.39s\tremaining: 5.21s\n",
      "457:\tlearn: 944.7460277\ttotal: 4.39s\tremaining: 5.2s\n",
      "458:\tlearn: 944.5320403\ttotal: 4.39s\tremaining: 5.18s\n",
      "459:\tlearn: 944.2955315\ttotal: 4.4s\tremaining: 5.16s\n",
      "460:\tlearn: 944.0850101\ttotal: 4.4s\tremaining: 5.15s\n",
      "461:\tlearn: 943.9700175\ttotal: 4.41s\tremaining: 5.13s\n",
      "462:\tlearn: 943.7399400\ttotal: 4.41s\tremaining: 5.12s\n",
      "463:\tlearn: 943.4338749\ttotal: 4.42s\tremaining: 5.1s\n",
      "464:\tlearn: 943.1634644\ttotal: 4.42s\tremaining: 5.09s\n",
      "465:\tlearn: 942.8557115\ttotal: 4.43s\tremaining: 5.08s\n",
      "466:\tlearn: 942.5645142\ttotal: 4.43s\tremaining: 5.06s\n",
      "467:\tlearn: 942.2496778\ttotal: 4.44s\tremaining: 5.05s\n",
      "468:\tlearn: 942.0369327\ttotal: 4.45s\tremaining: 5.03s\n",
      "469:\tlearn: 941.7989756\ttotal: 4.45s\tremaining: 5.02s\n",
      "470:\tlearn: 941.5292967\ttotal: 4.46s\tremaining: 5s\n",
      "471:\tlearn: 941.2347522\ttotal: 4.46s\tremaining: 4.99s\n",
      "472:\tlearn: 941.0822486\ttotal: 4.47s\tremaining: 4.98s\n",
      "473:\tlearn: 940.9176289\ttotal: 4.48s\tremaining: 4.97s\n",
      "474:\tlearn: 940.6763397\ttotal: 4.48s\tremaining: 4.95s\n",
      "475:\tlearn: 940.3562072\ttotal: 4.49s\tremaining: 4.94s\n",
      "476:\tlearn: 940.0014676\ttotal: 4.49s\tremaining: 4.92s\n",
      "477:\tlearn: 939.8983213\ttotal: 4.5s\tremaining: 4.91s\n",
      "478:\tlearn: 939.6073599\ttotal: 4.5s\tremaining: 4.89s\n",
      "479:\tlearn: 939.4452829\ttotal: 4.5s\tremaining: 4.88s\n",
      "480:\tlearn: 939.2292591\ttotal: 4.51s\tremaining: 4.87s\n",
      "481:\tlearn: 939.0150825\ttotal: 4.52s\tremaining: 4.85s\n",
      "482:\tlearn: 938.8625663\ttotal: 4.52s\tremaining: 4.84s\n",
      "483:\tlearn: 938.7258552\ttotal: 4.53s\tremaining: 4.83s\n",
      "484:\tlearn: 938.4953778\ttotal: 4.53s\tremaining: 4.81s\n",
      "485:\tlearn: 938.1553194\ttotal: 4.54s\tremaining: 4.8s\n",
      "486:\tlearn: 938.0666837\ttotal: 4.54s\tremaining: 4.78s\n",
      "487:\tlearn: 937.9414354\ttotal: 4.54s\tremaining: 4.77s\n",
      "488:\tlearn: 937.7192727\ttotal: 4.55s\tremaining: 4.75s\n",
      "489:\tlearn: 937.5526665\ttotal: 4.55s\tremaining: 4.74s\n",
      "490:\tlearn: 937.2907466\ttotal: 4.56s\tremaining: 4.73s\n",
      "491:\tlearn: 937.0909463\ttotal: 4.56s\tremaining: 4.71s\n",
      "492:\tlearn: 936.7698396\ttotal: 4.57s\tremaining: 4.7s\n",
      "493:\tlearn: 936.6077700\ttotal: 4.57s\tremaining: 4.68s\n",
      "494:\tlearn: 936.4505865\ttotal: 4.58s\tremaining: 4.67s\n",
      "495:\tlearn: 936.2266006\ttotal: 4.58s\tremaining: 4.66s\n",
      "496:\tlearn: 936.0372328\ttotal: 4.59s\tremaining: 4.64s\n",
      "497:\tlearn: 935.8074994\ttotal: 4.59s\tremaining: 4.63s\n",
      "498:\tlearn: 935.5224478\ttotal: 4.59s\tremaining: 4.61s\n",
      "499:\tlearn: 935.2180673\ttotal: 4.6s\tremaining: 4.6s\n",
      "500:\tlearn: 935.0072877\ttotal: 4.6s\tremaining: 4.58s\n"
     ]
    },
    {
     "name": "stdout",
     "output_type": "stream",
     "text": [
      "501:\tlearn: 934.7172951\ttotal: 4.61s\tremaining: 4.57s\n",
      "502:\tlearn: 934.4504723\ttotal: 4.62s\tremaining: 4.57s\n",
      "503:\tlearn: 934.1852353\ttotal: 4.63s\tremaining: 4.55s\n",
      "504:\tlearn: 933.9863779\ttotal: 4.63s\tremaining: 4.54s\n",
      "505:\tlearn: 933.7287277\ttotal: 4.64s\tremaining: 4.53s\n",
      "506:\tlearn: 933.5359104\ttotal: 4.64s\tremaining: 4.51s\n",
      "507:\tlearn: 933.1945412\ttotal: 4.65s\tremaining: 4.5s\n",
      "508:\tlearn: 932.8628903\ttotal: 4.65s\tremaining: 4.49s\n",
      "509:\tlearn: 932.7346560\ttotal: 4.66s\tremaining: 4.47s\n",
      "510:\tlearn: 932.3747780\ttotal: 4.66s\tremaining: 4.46s\n",
      "511:\tlearn: 932.1440064\ttotal: 4.67s\tremaining: 4.45s\n",
      "512:\tlearn: 931.8691705\ttotal: 4.67s\tremaining: 4.43s\n",
      "513:\tlearn: 931.5698989\ttotal: 4.67s\tremaining: 4.42s\n",
      "514:\tlearn: 931.2509053\ttotal: 4.68s\tremaining: 4.41s\n",
      "515:\tlearn: 931.0751605\ttotal: 4.68s\tremaining: 4.39s\n",
      "516:\tlearn: 930.8673071\ttotal: 4.69s\tremaining: 4.38s\n",
      "517:\tlearn: 930.6788033\ttotal: 4.69s\tremaining: 4.37s\n",
      "518:\tlearn: 930.4464881\ttotal: 4.7s\tremaining: 4.35s\n",
      "519:\tlearn: 930.2845380\ttotal: 4.7s\tremaining: 4.34s\n",
      "520:\tlearn: 930.1298692\ttotal: 4.71s\tremaining: 4.33s\n",
      "521:\tlearn: 929.9689246\ttotal: 4.72s\tremaining: 4.32s\n",
      "522:\tlearn: 929.6964959\ttotal: 4.73s\tremaining: 4.31s\n",
      "523:\tlearn: 929.4665981\ttotal: 4.73s\tremaining: 4.3s\n",
      "524:\tlearn: 929.1302629\ttotal: 4.73s\tremaining: 4.28s\n",
      "525:\tlearn: 928.7922505\ttotal: 4.74s\tremaining: 4.27s\n",
      "526:\tlearn: 928.4568554\ttotal: 4.74s\tremaining: 4.26s\n",
      "527:\tlearn: 928.3449586\ttotal: 4.75s\tremaining: 4.25s\n",
      "528:\tlearn: 928.0564544\ttotal: 4.75s\tremaining: 4.23s\n",
      "529:\tlearn: 927.6999056\ttotal: 4.76s\tremaining: 4.22s\n",
      "530:\tlearn: 927.6628080\ttotal: 4.76s\tremaining: 4.21s\n",
      "531:\tlearn: 927.3328405\ttotal: 4.77s\tremaining: 4.2s\n",
      "532:\tlearn: 927.1632775\ttotal: 4.77s\tremaining: 4.18s\n",
      "533:\tlearn: 926.9929976\ttotal: 4.78s\tremaining: 4.17s\n",
      "534:\tlearn: 926.7567201\ttotal: 4.79s\tremaining: 4.16s\n",
      "535:\tlearn: 926.5634906\ttotal: 4.79s\tremaining: 4.15s\n",
      "536:\tlearn: 926.2771600\ttotal: 4.79s\tremaining: 4.13s\n",
      "537:\tlearn: 926.0392180\ttotal: 4.8s\tremaining: 4.12s\n",
      "538:\tlearn: 925.8149007\ttotal: 4.8s\tremaining: 4.11s\n",
      "539:\tlearn: 925.6222518\ttotal: 4.81s\tremaining: 4.1s\n",
      "540:\tlearn: 925.3850172\ttotal: 4.81s\tremaining: 4.08s\n",
      "541:\tlearn: 925.1243993\ttotal: 4.82s\tremaining: 4.07s\n",
      "542:\tlearn: 925.0210222\ttotal: 4.82s\tremaining: 4.06s\n",
      "543:\tlearn: 924.8249112\ttotal: 4.83s\tremaining: 4.05s\n",
      "544:\tlearn: 924.5448937\ttotal: 4.83s\tremaining: 4.03s\n",
      "545:\tlearn: 924.3000493\ttotal: 4.84s\tremaining: 4.02s\n",
      "546:\tlearn: 924.1152617\ttotal: 4.84s\tremaining: 4.01s\n",
      "547:\tlearn: 924.0062708\ttotal: 4.84s\tremaining: 4s\n",
      "548:\tlearn: 923.8570583\ttotal: 4.85s\tremaining: 3.98s\n",
      "549:\tlearn: 923.4267044\ttotal: 4.85s\tremaining: 3.97s\n",
      "550:\tlearn: 923.2609880\ttotal: 4.86s\tremaining: 3.96s\n",
      "551:\tlearn: 923.1263854\ttotal: 4.86s\tremaining: 3.95s\n",
      "552:\tlearn: 922.9394067\ttotal: 4.87s\tremaining: 3.93s\n",
      "553:\tlearn: 922.5484746\ttotal: 4.87s\tremaining: 3.92s\n",
      "554:\tlearn: 922.1815057\ttotal: 4.87s\tremaining: 3.91s\n",
      "555:\tlearn: 921.9172050\ttotal: 4.88s\tremaining: 3.9s\n",
      "556:\tlearn: 921.7149074\ttotal: 4.88s\tremaining: 3.88s\n",
      "557:\tlearn: 921.4510877\ttotal: 4.89s\tremaining: 3.87s\n",
      "558:\tlearn: 921.2133350\ttotal: 4.89s\tremaining: 3.86s\n",
      "559:\tlearn: 921.0157239\ttotal: 4.9s\tremaining: 3.85s\n",
      "560:\tlearn: 920.8579083\ttotal: 4.9s\tremaining: 3.83s\n",
      "561:\tlearn: 920.6361298\ttotal: 4.9s\tremaining: 3.82s\n",
      "562:\tlearn: 920.4745004\ttotal: 4.91s\tremaining: 3.81s\n",
      "563:\tlearn: 920.2737230\ttotal: 4.91s\tremaining: 3.8s\n",
      "564:\tlearn: 920.0564551\ttotal: 4.92s\tremaining: 3.79s\n",
      "565:\tlearn: 919.7741849\ttotal: 4.92s\tremaining: 3.77s\n",
      "566:\tlearn: 919.5424851\ttotal: 4.92s\tremaining: 3.76s\n",
      "567:\tlearn: 919.3944733\ttotal: 4.93s\tremaining: 3.75s\n",
      "568:\tlearn: 919.2550948\ttotal: 4.93s\tremaining: 3.74s\n",
      "569:\tlearn: 919.0383116\ttotal: 4.94s\tremaining: 3.73s\n",
      "570:\tlearn: 918.7582138\ttotal: 4.94s\tremaining: 3.71s\n",
      "571:\tlearn: 918.5604872\ttotal: 4.95s\tremaining: 3.7s\n",
      "572:\tlearn: 918.2928389\ttotal: 4.96s\tremaining: 3.7s\n",
      "573:\tlearn: 918.1336807\ttotal: 4.97s\tremaining: 3.69s\n",
      "574:\tlearn: 918.0379623\ttotal: 4.97s\tremaining: 3.67s\n",
      "575:\tlearn: 917.9097672\ttotal: 4.98s\tremaining: 3.66s\n",
      "576:\tlearn: 917.6315345\ttotal: 4.98s\tremaining: 3.65s\n",
      "577:\tlearn: 917.3798284\ttotal: 4.99s\tremaining: 3.64s\n",
      "578:\tlearn: 917.0892359\ttotal: 4.99s\tremaining: 3.63s\n",
      "579:\tlearn: 916.9014192\ttotal: 4.99s\tremaining: 3.62s\n",
      "580:\tlearn: 916.7401501\ttotal: 5s\tremaining: 3.6s\n",
      "581:\tlearn: 916.5613409\ttotal: 5s\tremaining: 3.59s\n",
      "582:\tlearn: 916.3614242\ttotal: 5.01s\tremaining: 3.58s\n",
      "583:\tlearn: 916.1539212\ttotal: 5.01s\tremaining: 3.57s\n",
      "584:\tlearn: 916.0125854\ttotal: 5.01s\tremaining: 3.56s\n",
      "585:\tlearn: 915.8527643\ttotal: 5.02s\tremaining: 3.55s\n",
      "586:\tlearn: 915.6441708\ttotal: 5.02s\tremaining: 3.53s\n",
      "587:\tlearn: 915.4149102\ttotal: 5.03s\tremaining: 3.52s\n",
      "588:\tlearn: 915.1692720\ttotal: 5.03s\tremaining: 3.51s\n",
      "589:\tlearn: 914.9713168\ttotal: 5.04s\tremaining: 3.5s\n",
      "590:\tlearn: 914.6663250\ttotal: 5.04s\tremaining: 3.49s\n",
      "591:\tlearn: 914.5812684\ttotal: 5.04s\tremaining: 3.48s\n",
      "592:\tlearn: 914.4484129\ttotal: 5.05s\tremaining: 3.47s\n",
      "593:\tlearn: 914.2260320\ttotal: 5.06s\tremaining: 3.46s\n",
      "594:\tlearn: 914.1007054\ttotal: 5.06s\tremaining: 3.45s\n",
      "595:\tlearn: 913.8751637\ttotal: 5.07s\tremaining: 3.44s\n",
      "596:\tlearn: 913.6375036\ttotal: 5.07s\tremaining: 3.42s\n",
      "597:\tlearn: 913.4134643\ttotal: 5.08s\tremaining: 3.41s\n",
      "598:\tlearn: 913.1420805\ttotal: 5.08s\tremaining: 3.4s\n",
      "599:\tlearn: 912.9199896\ttotal: 5.09s\tremaining: 3.39s\n",
      "600:\tlearn: 912.6902872\ttotal: 5.09s\tremaining: 3.38s\n",
      "601:\tlearn: 912.4960361\ttotal: 5.09s\tremaining: 3.37s\n",
      "602:\tlearn: 912.3078026\ttotal: 5.1s\tremaining: 3.36s\n",
      "603:\tlearn: 912.1485435\ttotal: 5.1s\tremaining: 3.35s\n",
      "604:\tlearn: 912.0013185\ttotal: 5.11s\tremaining: 3.33s\n",
      "605:\tlearn: 911.9027456\ttotal: 5.11s\tremaining: 3.32s\n",
      "606:\tlearn: 911.7684249\ttotal: 5.12s\tremaining: 3.31s\n",
      "607:\tlearn: 911.5789927\ttotal: 5.12s\tremaining: 3.3s\n",
      "608:\tlearn: 911.3535590\ttotal: 5.13s\tremaining: 3.29s\n",
      "609:\tlearn: 911.2082431\ttotal: 5.13s\tremaining: 3.28s\n",
      "610:\tlearn: 911.0704690\ttotal: 5.14s\tremaining: 3.27s\n",
      "611:\tlearn: 910.9030555\ttotal: 5.14s\tremaining: 3.26s\n",
      "612:\tlearn: 910.5554897\ttotal: 5.15s\tremaining: 3.25s\n",
      "613:\tlearn: 910.3770004\ttotal: 5.15s\tremaining: 3.24s\n",
      "614:\tlearn: 910.1794154\ttotal: 5.16s\tremaining: 3.23s\n",
      "615:\tlearn: 909.9741854\ttotal: 5.16s\tremaining: 3.22s\n",
      "616:\tlearn: 909.7039318\ttotal: 5.17s\tremaining: 3.21s\n",
      "617:\tlearn: 909.4771957\ttotal: 5.17s\tremaining: 3.2s\n",
      "618:\tlearn: 909.3477299\ttotal: 5.17s\tremaining: 3.19s\n",
      "619:\tlearn: 909.1173545\ttotal: 5.18s\tremaining: 3.17s\n",
      "620:\tlearn: 908.9044528\ttotal: 5.18s\tremaining: 3.16s\n",
      "621:\tlearn: 908.7678616\ttotal: 5.19s\tremaining: 3.15s\n",
      "622:\tlearn: 908.5664997\ttotal: 5.19s\tremaining: 3.14s\n",
      "623:\tlearn: 908.3074307\ttotal: 5.2s\tremaining: 3.13s\n",
      "624:\tlearn: 908.0143367\ttotal: 5.2s\tremaining: 3.12s\n",
      "625:\tlearn: 907.8617658\ttotal: 5.21s\tremaining: 3.11s\n",
      "626:\tlearn: 907.6946800\ttotal: 5.21s\tremaining: 3.1s\n",
      "627:\tlearn: 907.5562521\ttotal: 5.22s\tremaining: 3.09s\n",
      "628:\tlearn: 907.3759414\ttotal: 5.22s\tremaining: 3.08s\n",
      "629:\tlearn: 907.2732362\ttotal: 5.22s\tremaining: 3.07s\n",
      "630:\tlearn: 907.0010763\ttotal: 5.23s\tremaining: 3.06s\n",
      "631:\tlearn: 906.7149726\ttotal: 5.23s\tremaining: 3.05s\n",
      "632:\tlearn: 906.4747705\ttotal: 5.24s\tremaining: 3.04s\n",
      "633:\tlearn: 906.1994923\ttotal: 5.24s\tremaining: 3.02s\n",
      "634:\tlearn: 906.0238968\ttotal: 5.25s\tremaining: 3.02s\n",
      "635:\tlearn: 905.8704836\ttotal: 5.25s\tremaining: 3s\n",
      "636:\tlearn: 905.6710067\ttotal: 5.25s\tremaining: 2.99s\n",
      "637:\tlearn: 905.4059309\ttotal: 5.26s\tremaining: 2.98s\n",
      "638:\tlearn: 905.1739945\ttotal: 5.26s\tremaining: 2.97s\n",
      "639:\tlearn: 905.0885093\ttotal: 5.27s\tremaining: 2.96s\n",
      "640:\tlearn: 904.8483815\ttotal: 5.28s\tremaining: 2.95s\n",
      "641:\tlearn: 904.5784312\ttotal: 5.28s\tremaining: 2.94s\n",
      "642:\tlearn: 904.4585666\ttotal: 5.29s\tremaining: 2.93s\n",
      "643:\tlearn: 904.2916318\ttotal: 5.29s\tremaining: 2.93s\n",
      "644:\tlearn: 904.0680466\ttotal: 5.3s\tremaining: 2.92s\n",
      "645:\tlearn: 903.8544957\ttotal: 5.3s\tremaining: 2.91s\n",
      "646:\tlearn: 903.7112122\ttotal: 5.31s\tremaining: 2.9s\n",
      "647:\tlearn: 903.5283880\ttotal: 5.31s\tremaining: 2.89s\n",
      "648:\tlearn: 903.3782591\ttotal: 5.32s\tremaining: 2.88s\n",
      "649:\tlearn: 903.1967434\ttotal: 5.32s\tremaining: 2.87s\n",
      "650:\tlearn: 903.0476813\ttotal: 5.33s\tremaining: 2.85s\n",
      "651:\tlearn: 902.8792712\ttotal: 5.33s\tremaining: 2.85s\n",
      "652:\tlearn: 902.6948031\ttotal: 5.34s\tremaining: 2.83s\n",
      "653:\tlearn: 902.4759130\ttotal: 5.34s\tremaining: 2.83s\n",
      "654:\tlearn: 902.2473588\ttotal: 5.34s\tremaining: 2.81s\n",
      "655:\tlearn: 901.9327251\ttotal: 5.35s\tremaining: 2.81s\n",
      "656:\tlearn: 901.6580960\ttotal: 5.36s\tremaining: 2.8s\n",
      "657:\tlearn: 901.5212521\ttotal: 5.36s\tremaining: 2.79s\n",
      "658:\tlearn: 901.2307101\ttotal: 5.36s\tremaining: 2.77s\n",
      "659:\tlearn: 901.0427514\ttotal: 5.37s\tremaining: 2.77s\n",
      "660:\tlearn: 900.8336389\ttotal: 5.37s\tremaining: 2.75s\n",
      "661:\tlearn: 900.5884204\ttotal: 5.38s\tremaining: 2.75s\n",
      "662:\tlearn: 900.4533902\ttotal: 5.38s\tremaining: 2.73s\n",
      "663:\tlearn: 900.1320253\ttotal: 5.39s\tremaining: 2.73s\n",
      "664:\tlearn: 899.9319376\ttotal: 5.39s\tremaining: 2.72s\n",
      "665:\tlearn: 899.7161584\ttotal: 5.4s\tremaining: 2.71s\n",
      "666:\tlearn: 899.4710255\ttotal: 5.4s\tremaining: 2.7s\n",
      "667:\tlearn: 899.3031909\ttotal: 5.41s\tremaining: 2.69s\n",
      "668:\tlearn: 899.0999657\ttotal: 5.41s\tremaining: 2.68s\n",
      "669:\tlearn: 899.0796749\ttotal: 5.41s\tremaining: 2.67s\n",
      "670:\tlearn: 898.8334565\ttotal: 5.42s\tremaining: 2.66s\n"
     ]
    },
    {
     "name": "stdout",
     "output_type": "stream",
     "text": [
      "671:\tlearn: 898.6087222\ttotal: 5.42s\tremaining: 2.65s\n",
      "672:\tlearn: 898.3770502\ttotal: 5.43s\tremaining: 2.64s\n",
      "673:\tlearn: 898.1141256\ttotal: 5.43s\tremaining: 2.63s\n",
      "674:\tlearn: 897.9040816\ttotal: 5.44s\tremaining: 2.62s\n",
      "675:\tlearn: 897.6833957\ttotal: 5.44s\tremaining: 2.61s\n",
      "676:\tlearn: 897.5894507\ttotal: 5.45s\tremaining: 2.6s\n",
      "677:\tlearn: 897.4529542\ttotal: 5.45s\tremaining: 2.59s\n",
      "678:\tlearn: 897.2564492\ttotal: 5.46s\tremaining: 2.58s\n",
      "679:\tlearn: 897.0310524\ttotal: 5.46s\tremaining: 2.57s\n",
      "680:\tlearn: 896.8806527\ttotal: 5.47s\tremaining: 2.56s\n",
      "681:\tlearn: 896.6686498\ttotal: 5.47s\tremaining: 2.55s\n",
      "682:\tlearn: 896.4569562\ttotal: 5.48s\tremaining: 2.54s\n",
      "683:\tlearn: 896.3057302\ttotal: 5.48s\tremaining: 2.53s\n",
      "684:\tlearn: 896.1223503\ttotal: 5.49s\tremaining: 2.52s\n",
      "685:\tlearn: 895.9530837\ttotal: 5.49s\tremaining: 2.51s\n",
      "686:\tlearn: 895.7865083\ttotal: 5.5s\tremaining: 2.5s\n",
      "687:\tlearn: 895.5376414\ttotal: 5.5s\tremaining: 2.5s\n",
      "688:\tlearn: 895.3775512\ttotal: 5.51s\tremaining: 2.49s\n",
      "689:\tlearn: 895.1410333\ttotal: 5.51s\tremaining: 2.48s\n",
      "690:\tlearn: 894.9870633\ttotal: 5.52s\tremaining: 2.47s\n",
      "691:\tlearn: 894.7903036\ttotal: 5.52s\tremaining: 2.46s\n",
      "692:\tlearn: 894.5842800\ttotal: 5.53s\tremaining: 2.45s\n",
      "693:\tlearn: 894.3691113\ttotal: 5.53s\tremaining: 2.44s\n",
      "694:\tlearn: 894.1449936\ttotal: 5.54s\tremaining: 2.43s\n",
      "695:\tlearn: 893.9606553\ttotal: 5.54s\tremaining: 2.42s\n",
      "696:\tlearn: 893.7977815\ttotal: 5.55s\tremaining: 2.41s\n",
      "697:\tlearn: 893.4963657\ttotal: 5.55s\tremaining: 2.4s\n",
      "698:\tlearn: 893.3506634\ttotal: 5.55s\tremaining: 2.39s\n",
      "699:\tlearn: 893.0375508\ttotal: 5.56s\tremaining: 2.38s\n",
      "700:\tlearn: 892.7943858\ttotal: 5.56s\tremaining: 2.37s\n",
      "701:\tlearn: 892.6653627\ttotal: 5.57s\tremaining: 2.36s\n",
      "702:\tlearn: 892.5963241\ttotal: 5.57s\tremaining: 2.35s\n",
      "703:\tlearn: 892.4614075\ttotal: 5.58s\tremaining: 2.35s\n",
      "704:\tlearn: 892.3377100\ttotal: 5.58s\tremaining: 2.34s\n",
      "705:\tlearn: 892.2770073\ttotal: 5.59s\tremaining: 2.33s\n",
      "706:\tlearn: 892.1116040\ttotal: 5.59s\tremaining: 2.32s\n",
      "707:\tlearn: 891.8016506\ttotal: 5.6s\tremaining: 2.31s\n",
      "708:\tlearn: 891.6415035\ttotal: 5.61s\tremaining: 2.3s\n",
      "709:\tlearn: 891.5392999\ttotal: 5.61s\tremaining: 2.29s\n",
      "710:\tlearn: 891.4275097\ttotal: 5.62s\tremaining: 2.28s\n",
      "711:\tlearn: 891.2822876\ttotal: 5.62s\tremaining: 2.27s\n",
      "712:\tlearn: 891.1646220\ttotal: 5.62s\tremaining: 2.26s\n",
      "713:\tlearn: 890.9904705\ttotal: 5.63s\tremaining: 2.25s\n",
      "714:\tlearn: 890.8271831\ttotal: 5.63s\tremaining: 2.25s\n",
      "715:\tlearn: 890.6451198\ttotal: 5.64s\tremaining: 2.24s\n",
      "716:\tlearn: 890.4534063\ttotal: 5.64s\tremaining: 2.23s\n",
      "717:\tlearn: 890.3838068\ttotal: 5.65s\tremaining: 2.22s\n",
      "718:\tlearn: 890.0916343\ttotal: 5.66s\tremaining: 2.21s\n",
      "719:\tlearn: 889.8236533\ttotal: 5.66s\tremaining: 2.2s\n",
      "720:\tlearn: 889.7073573\ttotal: 5.67s\tremaining: 2.19s\n",
      "721:\tlearn: 889.5204229\ttotal: 5.67s\tremaining: 2.18s\n",
      "722:\tlearn: 889.3672129\ttotal: 5.67s\tremaining: 2.17s\n",
      "723:\tlearn: 889.1906833\ttotal: 5.68s\tremaining: 2.17s\n",
      "724:\tlearn: 889.1392369\ttotal: 5.68s\tremaining: 2.15s\n",
      "725:\tlearn: 888.9647991\ttotal: 5.69s\tremaining: 2.15s\n",
      "726:\tlearn: 888.7581479\ttotal: 5.69s\tremaining: 2.14s\n",
      "727:\tlearn: 888.5764911\ttotal: 5.7s\tremaining: 2.13s\n",
      "728:\tlearn: 888.4625488\ttotal: 5.7s\tremaining: 2.12s\n",
      "729:\tlearn: 888.2484666\ttotal: 5.71s\tremaining: 2.11s\n",
      "730:\tlearn: 888.0755980\ttotal: 5.71s\tremaining: 2.1s\n",
      "731:\tlearn: 887.8811124\ttotal: 5.71s\tremaining: 2.09s\n",
      "732:\tlearn: 887.7228238\ttotal: 5.72s\tremaining: 2.08s\n",
      "733:\tlearn: 887.6216187\ttotal: 5.72s\tremaining: 2.07s\n",
      "734:\tlearn: 887.3403578\ttotal: 5.73s\tremaining: 2.06s\n",
      "735:\tlearn: 887.0089733\ttotal: 5.73s\tremaining: 2.06s\n",
      "736:\tlearn: 886.7792580\ttotal: 5.73s\tremaining: 2.05s\n",
      "737:\tlearn: 886.4879246\ttotal: 5.74s\tremaining: 2.04s\n",
      "738:\tlearn: 886.3662785\ttotal: 5.74s\tremaining: 2.03s\n",
      "739:\tlearn: 886.2167164\ttotal: 5.75s\tremaining: 2.02s\n",
      "740:\tlearn: 885.9179619\ttotal: 5.75s\tremaining: 2.01s\n",
      "741:\tlearn: 885.6996758\ttotal: 5.76s\tremaining: 2s\n",
      "742:\tlearn: 885.4232915\ttotal: 5.76s\tremaining: 1.99s\n",
      "743:\tlearn: 885.1843328\ttotal: 5.77s\tremaining: 1.98s\n",
      "744:\tlearn: 885.0409008\ttotal: 5.77s\tremaining: 1.98s\n",
      "745:\tlearn: 884.8818675\ttotal: 5.78s\tremaining: 1.97s\n",
      "746:\tlearn: 884.7486179\ttotal: 5.78s\tremaining: 1.96s\n",
      "747:\tlearn: 884.5820441\ttotal: 5.79s\tremaining: 1.95s\n",
      "748:\tlearn: 884.3467822\ttotal: 5.79s\tremaining: 1.94s\n",
      "749:\tlearn: 884.1490307\ttotal: 5.8s\tremaining: 1.93s\n",
      "750:\tlearn: 884.0064106\ttotal: 5.8s\tremaining: 1.92s\n",
      "751:\tlearn: 883.7917323\ttotal: 5.8s\tremaining: 1.91s\n",
      "752:\tlearn: 883.5786943\ttotal: 5.81s\tremaining: 1.91s\n",
      "753:\tlearn: 883.3440225\ttotal: 5.81s\tremaining: 1.9s\n",
      "754:\tlearn: 883.0651872\ttotal: 5.82s\tremaining: 1.89s\n",
      "755:\tlearn: 882.9511877\ttotal: 5.82s\tremaining: 1.88s\n",
      "756:\tlearn: 882.7415598\ttotal: 5.83s\tremaining: 1.87s\n",
      "757:\tlearn: 882.5917783\ttotal: 5.83s\tremaining: 1.86s\n",
      "758:\tlearn: 882.4236723\ttotal: 5.84s\tremaining: 1.85s\n",
      "759:\tlearn: 882.2919101\ttotal: 5.84s\tremaining: 1.84s\n",
      "760:\tlearn: 881.9683719\ttotal: 5.85s\tremaining: 1.84s\n",
      "761:\tlearn: 881.7438479\ttotal: 5.85s\tremaining: 1.83s\n",
      "762:\tlearn: 881.6206382\ttotal: 5.86s\tremaining: 1.82s\n",
      "763:\tlearn: 881.5365399\ttotal: 5.86s\tremaining: 1.81s\n",
      "764:\tlearn: 881.3973131\ttotal: 5.87s\tremaining: 1.8s\n",
      "765:\tlearn: 881.1948324\ttotal: 5.87s\tremaining: 1.79s\n",
      "766:\tlearn: 881.0832144\ttotal: 5.87s\tremaining: 1.78s\n",
      "767:\tlearn: 880.9147030\ttotal: 5.88s\tremaining: 1.78s\n",
      "768:\tlearn: 880.5930509\ttotal: 5.88s\tremaining: 1.77s\n",
      "769:\tlearn: 880.4400843\ttotal: 5.89s\tremaining: 1.76s\n",
      "770:\tlearn: 880.2708415\ttotal: 5.89s\tremaining: 1.75s\n",
      "771:\tlearn: 880.1045425\ttotal: 5.9s\tremaining: 1.74s\n",
      "772:\tlearn: 879.8768953\ttotal: 5.9s\tremaining: 1.73s\n",
      "773:\tlearn: 879.7251075\ttotal: 5.9s\tremaining: 1.72s\n",
      "774:\tlearn: 879.5910954\ttotal: 5.91s\tremaining: 1.72s\n",
      "775:\tlearn: 879.4652611\ttotal: 5.91s\tremaining: 1.71s\n",
      "776:\tlearn: 879.2779971\ttotal: 5.92s\tremaining: 1.7s\n",
      "777:\tlearn: 879.1472392\ttotal: 5.92s\tremaining: 1.69s\n",
      "778:\tlearn: 879.0302522\ttotal: 5.93s\tremaining: 1.68s\n",
      "779:\tlearn: 878.8469561\ttotal: 5.93s\tremaining: 1.67s\n",
      "780:\tlearn: 878.5808948\ttotal: 5.94s\tremaining: 1.66s\n",
      "781:\tlearn: 878.4483757\ttotal: 5.94s\tremaining: 1.66s\n",
      "782:\tlearn: 878.1816964\ttotal: 5.95s\tremaining: 1.65s\n",
      "783:\tlearn: 877.9424154\ttotal: 5.95s\tremaining: 1.64s\n",
      "784:\tlearn: 877.6877755\ttotal: 5.96s\tremaining: 1.63s\n",
      "785:\tlearn: 877.5133822\ttotal: 5.96s\tremaining: 1.62s\n",
      "786:\tlearn: 877.3091978\ttotal: 5.97s\tremaining: 1.61s\n",
      "787:\tlearn: 877.1388675\ttotal: 5.97s\tremaining: 1.61s\n",
      "788:\tlearn: 877.0075515\ttotal: 5.98s\tremaining: 1.6s\n",
      "789:\tlearn: 876.8894518\ttotal: 5.98s\tremaining: 1.59s\n",
      "790:\tlearn: 876.8196412\ttotal: 5.99s\tremaining: 1.58s\n",
      "791:\tlearn: 876.5991764\ttotal: 5.99s\tremaining: 1.57s\n",
      "792:\tlearn: 876.4261252\ttotal: 6s\tremaining: 1.56s\n",
      "793:\tlearn: 876.2992712\ttotal: 6s\tremaining: 1.56s\n",
      "794:\tlearn: 876.0671232\ttotal: 6s\tremaining: 1.55s\n",
      "795:\tlearn: 875.9021909\ttotal: 6.01s\tremaining: 1.54s\n",
      "796:\tlearn: 875.6796308\ttotal: 6.01s\tremaining: 1.53s\n",
      "797:\tlearn: 875.5363419\ttotal: 6.02s\tremaining: 1.52s\n",
      "798:\tlearn: 875.3796002\ttotal: 6.02s\tremaining: 1.51s\n",
      "799:\tlearn: 875.2016058\ttotal: 6.03s\tremaining: 1.51s\n",
      "800:\tlearn: 875.0524714\ttotal: 6.03s\tremaining: 1.5s\n",
      "801:\tlearn: 874.8506908\ttotal: 6.03s\tremaining: 1.49s\n",
      "802:\tlearn: 874.6884117\ttotal: 6.04s\tremaining: 1.48s\n",
      "803:\tlearn: 874.3975069\ttotal: 6.04s\tremaining: 1.47s\n",
      "804:\tlearn: 874.2920466\ttotal: 6.05s\tremaining: 1.46s\n",
      "805:\tlearn: 874.1707000\ttotal: 6.05s\tremaining: 1.46s\n",
      "806:\tlearn: 873.8749200\ttotal: 6.05s\tremaining: 1.45s\n",
      "807:\tlearn: 873.5467535\ttotal: 6.06s\tremaining: 1.44s\n",
      "808:\tlearn: 873.4525845\ttotal: 6.06s\tremaining: 1.43s\n",
      "809:\tlearn: 873.3343469\ttotal: 6.07s\tremaining: 1.42s\n",
      "810:\tlearn: 873.1590370\ttotal: 6.07s\tremaining: 1.42s\n",
      "811:\tlearn: 873.0213846\ttotal: 6.08s\tremaining: 1.41s\n",
      "812:\tlearn: 872.7953185\ttotal: 6.08s\tremaining: 1.4s\n",
      "813:\tlearn: 872.5744324\ttotal: 6.09s\tremaining: 1.39s\n",
      "814:\tlearn: 872.5110780\ttotal: 6.09s\tremaining: 1.38s\n",
      "815:\tlearn: 872.2717781\ttotal: 6.1s\tremaining: 1.38s\n",
      "816:\tlearn: 872.0699713\ttotal: 6.11s\tremaining: 1.37s\n",
      "817:\tlearn: 871.8975439\ttotal: 6.11s\tremaining: 1.36s\n",
      "818:\tlearn: 871.7870821\ttotal: 6.12s\tremaining: 1.35s\n",
      "819:\tlearn: 871.5580065\ttotal: 6.12s\tremaining: 1.34s\n",
      "820:\tlearn: 871.4760818\ttotal: 6.13s\tremaining: 1.33s\n",
      "821:\tlearn: 871.3337676\ttotal: 6.13s\tremaining: 1.33s\n",
      "822:\tlearn: 871.1542369\ttotal: 6.14s\tremaining: 1.32s\n",
      "823:\tlearn: 870.9581088\ttotal: 6.14s\tremaining: 1.31s\n",
      "824:\tlearn: 870.8629482\ttotal: 6.15s\tremaining: 1.3s\n",
      "825:\tlearn: 870.6195761\ttotal: 6.15s\tremaining: 1.29s\n",
      "826:\tlearn: 870.4870546\ttotal: 6.16s\tremaining: 1.29s\n",
      "827:\tlearn: 870.4253550\ttotal: 6.16s\tremaining: 1.28s\n",
      "828:\tlearn: 870.2071521\ttotal: 6.17s\tremaining: 1.27s\n",
      "829:\tlearn: 870.0386039\ttotal: 6.17s\tremaining: 1.26s\n",
      "830:\tlearn: 869.9145127\ttotal: 6.17s\tremaining: 1.25s\n",
      "831:\tlearn: 869.6030491\ttotal: 6.18s\tremaining: 1.25s\n",
      "832:\tlearn: 869.4021504\ttotal: 6.18s\tremaining: 1.24s\n",
      "833:\tlearn: 869.2347064\ttotal: 6.19s\tremaining: 1.23s\n",
      "834:\tlearn: 869.0831812\ttotal: 6.19s\tremaining: 1.22s\n",
      "835:\tlearn: 868.9268542\ttotal: 6.19s\tremaining: 1.22s\n",
      "836:\tlearn: 868.7104261\ttotal: 6.2s\tremaining: 1.21s\n",
      "837:\tlearn: 868.5867937\ttotal: 6.2s\tremaining: 1.2s\n",
      "838:\tlearn: 868.3253792\ttotal: 6.21s\tremaining: 1.19s\n",
      "839:\tlearn: 868.0424047\ttotal: 6.21s\tremaining: 1.18s\n",
      "840:\tlearn: 867.8827566\ttotal: 6.22s\tremaining: 1.18s\n",
      "841:\tlearn: 867.7124304\ttotal: 6.22s\tremaining: 1.17s\n",
      "842:\tlearn: 867.4788095\ttotal: 6.22s\tremaining: 1.16s\n",
      "843:\tlearn: 867.4152759\ttotal: 6.23s\tremaining: 1.15s\n",
      "844:\tlearn: 867.1584161\ttotal: 6.23s\tremaining: 1.14s\n",
      "845:\tlearn: 867.0155972\ttotal: 6.24s\tremaining: 1.14s\n",
      "846:\tlearn: 866.8017736\ttotal: 6.24s\tremaining: 1.13s\n",
      "847:\tlearn: 866.7090794\ttotal: 6.25s\tremaining: 1.12s\n",
      "848:\tlearn: 866.5683927\ttotal: 6.25s\tremaining: 1.11s\n"
     ]
    },
    {
     "name": "stdout",
     "output_type": "stream",
     "text": [
      "849:\tlearn: 866.4095760\ttotal: 6.26s\tremaining: 1.1s\n",
      "850:\tlearn: 866.2268088\ttotal: 6.26s\tremaining: 1.1s\n",
      "851:\tlearn: 866.0133796\ttotal: 6.27s\tremaining: 1.09s\n",
      "852:\tlearn: 865.8799442\ttotal: 6.27s\tremaining: 1.08s\n",
      "853:\tlearn: 865.6400727\ttotal: 6.28s\tremaining: 1.07s\n",
      "854:\tlearn: 865.4596401\ttotal: 6.28s\tremaining: 1.06s\n",
      "855:\tlearn: 865.2825780\ttotal: 6.29s\tremaining: 1.06s\n",
      "856:\tlearn: 865.1467583\ttotal: 6.29s\tremaining: 1.05s\n",
      "857:\tlearn: 864.8778873\ttotal: 6.29s\tremaining: 1.04s\n",
      "858:\tlearn: 864.7734009\ttotal: 6.3s\tremaining: 1.03s\n",
      "859:\tlearn: 864.7105049\ttotal: 6.31s\tremaining: 1.03s\n",
      "860:\tlearn: 864.5165438\ttotal: 6.31s\tremaining: 1.02s\n",
      "861:\tlearn: 864.3535818\ttotal: 6.32s\tremaining: 1.01s\n",
      "862:\tlearn: 864.2249944\ttotal: 6.32s\tremaining: 1s\n",
      "863:\tlearn: 864.0491004\ttotal: 6.33s\tremaining: 996ms\n",
      "864:\tlearn: 863.8549496\ttotal: 6.33s\tremaining: 988ms\n",
      "865:\tlearn: 863.7277146\ttotal: 6.34s\tremaining: 981ms\n",
      "866:\tlearn: 863.5288509\ttotal: 6.34s\tremaining: 973ms\n",
      "867:\tlearn: 863.4087895\ttotal: 6.34s\tremaining: 965ms\n",
      "868:\tlearn: 863.1787313\ttotal: 6.35s\tremaining: 957ms\n",
      "869:\tlearn: 862.9785736\ttotal: 6.35s\tremaining: 949ms\n",
      "870:\tlearn: 862.7754283\ttotal: 6.36s\tremaining: 942ms\n",
      "871:\tlearn: 862.6339570\ttotal: 6.36s\tremaining: 934ms\n",
      "872:\tlearn: 862.4658235\ttotal: 6.37s\tremaining: 926ms\n",
      "873:\tlearn: 862.3531796\ttotal: 6.37s\tremaining: 918ms\n",
      "874:\tlearn: 862.2217872\ttotal: 6.37s\tremaining: 911ms\n",
      "875:\tlearn: 862.0513470\ttotal: 6.38s\tremaining: 903ms\n",
      "876:\tlearn: 861.7948713\ttotal: 6.38s\tremaining: 895ms\n",
      "877:\tlearn: 861.5815380\ttotal: 6.39s\tremaining: 888ms\n",
      "878:\tlearn: 861.4540425\ttotal: 6.39s\tremaining: 880ms\n",
      "879:\tlearn: 861.2694926\ttotal: 6.4s\tremaining: 873ms\n",
      "880:\tlearn: 861.0688758\ttotal: 6.4s\tremaining: 865ms\n",
      "881:\tlearn: 860.9547377\ttotal: 6.41s\tremaining: 857ms\n",
      "882:\tlearn: 860.8463898\ttotal: 6.41s\tremaining: 850ms\n",
      "883:\tlearn: 860.7480861\ttotal: 6.42s\tremaining: 842ms\n",
      "884:\tlearn: 860.6671326\ttotal: 6.42s\tremaining: 834ms\n",
      "885:\tlearn: 860.4652098\ttotal: 6.43s\tremaining: 827ms\n",
      "886:\tlearn: 860.2753537\ttotal: 6.43s\tremaining: 820ms\n",
      "887:\tlearn: 860.1498262\ttotal: 6.44s\tremaining: 812ms\n",
      "888:\tlearn: 859.9281825\ttotal: 6.44s\tremaining: 805ms\n",
      "889:\tlearn: 859.7008653\ttotal: 6.45s\tremaining: 797ms\n",
      "890:\tlearn: 859.5447095\ttotal: 6.45s\tremaining: 789ms\n",
      "891:\tlearn: 859.4512682\ttotal: 6.46s\tremaining: 782ms\n",
      "892:\tlearn: 859.3458764\ttotal: 6.46s\tremaining: 774ms\n",
      "893:\tlearn: 859.1792367\ttotal: 6.47s\tremaining: 767ms\n",
      "894:\tlearn: 859.0021394\ttotal: 6.47s\tremaining: 759ms\n",
      "895:\tlearn: 858.7559444\ttotal: 6.48s\tremaining: 752ms\n",
      "896:\tlearn: 858.5316557\ttotal: 6.48s\tremaining: 744ms\n",
      "897:\tlearn: 858.2966984\ttotal: 6.49s\tremaining: 737ms\n",
      "898:\tlearn: 858.1223889\ttotal: 6.49s\tremaining: 729ms\n",
      "899:\tlearn: 857.9593647\ttotal: 6.5s\tremaining: 722ms\n",
      "900:\tlearn: 857.7707743\ttotal: 6.5s\tremaining: 714ms\n",
      "901:\tlearn: 857.6255935\ttotal: 6.5s\tremaining: 707ms\n",
      "902:\tlearn: 857.3186467\ttotal: 6.51s\tremaining: 699ms\n",
      "903:\tlearn: 857.1522012\ttotal: 6.51s\tremaining: 692ms\n",
      "904:\tlearn: 856.9110225\ttotal: 6.52s\tremaining: 684ms\n",
      "905:\tlearn: 856.8042901\ttotal: 6.52s\tremaining: 677ms\n",
      "906:\tlearn: 856.6756313\ttotal: 6.53s\tremaining: 669ms\n",
      "907:\tlearn: 856.5576959\ttotal: 6.53s\tremaining: 662ms\n",
      "908:\tlearn: 856.4213163\ttotal: 6.54s\tremaining: 654ms\n",
      "909:\tlearn: 856.2681215\ttotal: 6.54s\tremaining: 647ms\n",
      "910:\tlearn: 856.1238758\ttotal: 6.54s\tremaining: 639ms\n",
      "911:\tlearn: 855.9786434\ttotal: 6.55s\tremaining: 632ms\n",
      "912:\tlearn: 855.7492476\ttotal: 6.55s\tremaining: 624ms\n",
      "913:\tlearn: 855.5835210\ttotal: 6.56s\tremaining: 617ms\n",
      "914:\tlearn: 855.4231897\ttotal: 6.56s\tremaining: 610ms\n",
      "915:\tlearn: 855.2045020\ttotal: 6.57s\tremaining: 602ms\n",
      "916:\tlearn: 855.0457630\ttotal: 6.57s\tremaining: 595ms\n",
      "917:\tlearn: 854.8297459\ttotal: 6.58s\tremaining: 588ms\n",
      "918:\tlearn: 854.6102000\ttotal: 6.59s\tremaining: 581ms\n",
      "919:\tlearn: 854.4475767\ttotal: 6.59s\tremaining: 573ms\n",
      "920:\tlearn: 854.3375329\ttotal: 6.6s\tremaining: 566ms\n",
      "921:\tlearn: 854.0623500\ttotal: 6.6s\tremaining: 559ms\n",
      "922:\tlearn: 853.8456039\ttotal: 6.61s\tremaining: 551ms\n",
      "923:\tlearn: 853.7713297\ttotal: 6.62s\tremaining: 544ms\n",
      "924:\tlearn: 853.5659816\ttotal: 6.62s\tremaining: 537ms\n",
      "925:\tlearn: 853.4324486\ttotal: 6.63s\tremaining: 530ms\n",
      "926:\tlearn: 853.2803261\ttotal: 6.63s\tremaining: 522ms\n",
      "927:\tlearn: 853.0583423\ttotal: 6.64s\tremaining: 515ms\n",
      "928:\tlearn: 852.8551845\ttotal: 6.64s\tremaining: 508ms\n",
      "929:\tlearn: 852.6370593\ttotal: 6.64s\tremaining: 500ms\n",
      "930:\tlearn: 852.3804647\ttotal: 6.65s\tremaining: 493ms\n",
      "931:\tlearn: 852.1963899\ttotal: 6.65s\tremaining: 486ms\n",
      "932:\tlearn: 852.0806901\ttotal: 6.66s\tremaining: 478ms\n",
      "933:\tlearn: 851.9858007\ttotal: 6.66s\tremaining: 471ms\n",
      "934:\tlearn: 851.8934658\ttotal: 6.67s\tremaining: 463ms\n",
      "935:\tlearn: 851.7615979\ttotal: 6.67s\tremaining: 456ms\n",
      "936:\tlearn: 851.5862265\ttotal: 6.67s\tremaining: 449ms\n",
      "937:\tlearn: 851.4323098\ttotal: 6.68s\tremaining: 442ms\n",
      "938:\tlearn: 851.2630047\ttotal: 6.68s\tremaining: 434ms\n",
      "939:\tlearn: 851.1442290\ttotal: 6.69s\tremaining: 427ms\n",
      "940:\tlearn: 850.8987757\ttotal: 6.69s\tremaining: 420ms\n",
      "941:\tlearn: 850.7411189\ttotal: 6.7s\tremaining: 412ms\n",
      "942:\tlearn: 850.5914944\ttotal: 6.7s\tremaining: 405ms\n",
      "943:\tlearn: 850.4774023\ttotal: 6.71s\tremaining: 398ms\n",
      "944:\tlearn: 850.3183942\ttotal: 6.71s\tremaining: 391ms\n",
      "945:\tlearn: 850.1171348\ttotal: 6.71s\tremaining: 383ms\n",
      "946:\tlearn: 849.9647125\ttotal: 6.72s\tremaining: 376ms\n",
      "947:\tlearn: 849.8432333\ttotal: 6.72s\tremaining: 369ms\n",
      "948:\tlearn: 849.7610355\ttotal: 6.73s\tremaining: 362ms\n",
      "949:\tlearn: 849.6492001\ttotal: 6.73s\tremaining: 354ms\n",
      "950:\tlearn: 849.5906181\ttotal: 6.74s\tremaining: 348ms\n",
      "951:\tlearn: 849.4792399\ttotal: 6.75s\tremaining: 340ms\n",
      "952:\tlearn: 849.3246280\ttotal: 6.75s\tremaining: 333ms\n",
      "953:\tlearn: 849.2281027\ttotal: 6.76s\tremaining: 326ms\n",
      "954:\tlearn: 849.1011849\ttotal: 6.76s\tremaining: 319ms\n",
      "955:\tlearn: 848.8598642\ttotal: 6.77s\tremaining: 312ms\n",
      "956:\tlearn: 848.5769627\ttotal: 6.77s\tremaining: 304ms\n",
      "957:\tlearn: 848.3768978\ttotal: 6.78s\tremaining: 297ms\n",
      "958:\tlearn: 848.2625371\ttotal: 6.78s\tremaining: 290ms\n",
      "959:\tlearn: 848.1423024\ttotal: 6.79s\tremaining: 283ms\n",
      "960:\tlearn: 848.0156566\ttotal: 6.79s\tremaining: 276ms\n",
      "961:\tlearn: 847.9304247\ttotal: 6.79s\tremaining: 268ms\n",
      "962:\tlearn: 847.7443310\ttotal: 6.8s\tremaining: 261ms\n",
      "963:\tlearn: 847.6990615\ttotal: 6.8s\tremaining: 254ms\n",
      "964:\tlearn: 847.5977220\ttotal: 6.81s\tremaining: 247ms\n",
      "965:\tlearn: 847.5118048\ttotal: 6.81s\tremaining: 240ms\n",
      "966:\tlearn: 847.4228100\ttotal: 6.82s\tremaining: 233ms\n",
      "967:\tlearn: 847.2289236\ttotal: 6.82s\tremaining: 226ms\n",
      "968:\tlearn: 847.0771569\ttotal: 6.83s\tremaining: 218ms\n",
      "969:\tlearn: 846.9283268\ttotal: 6.83s\tremaining: 211ms\n",
      "970:\tlearn: 846.7344118\ttotal: 6.83s\tremaining: 204ms\n",
      "971:\tlearn: 846.5578511\ttotal: 6.84s\tremaining: 197ms\n",
      "972:\tlearn: 846.3724033\ttotal: 6.84s\tremaining: 190ms\n",
      "973:\tlearn: 846.1989206\ttotal: 6.85s\tremaining: 183ms\n",
      "974:\tlearn: 845.9398917\ttotal: 6.85s\tremaining: 176ms\n",
      "975:\tlearn: 845.7524239\ttotal: 6.86s\tremaining: 169ms\n",
      "976:\tlearn: 845.6096591\ttotal: 6.86s\tremaining: 162ms\n",
      "977:\tlearn: 845.4607006\ttotal: 6.87s\tremaining: 154ms\n",
      "978:\tlearn: 845.3548182\ttotal: 6.87s\tremaining: 147ms\n",
      "979:\tlearn: 845.1595765\ttotal: 6.87s\tremaining: 140ms\n",
      "980:\tlearn: 844.9826659\ttotal: 6.88s\tremaining: 133ms\n",
      "981:\tlearn: 844.7546973\ttotal: 6.88s\tremaining: 126ms\n",
      "982:\tlearn: 844.5507375\ttotal: 6.89s\tremaining: 119ms\n",
      "983:\tlearn: 844.3397812\ttotal: 6.89s\tremaining: 112ms\n",
      "984:\tlearn: 844.1949232\ttotal: 6.89s\tremaining: 105ms\n",
      "985:\tlearn: 844.0433385\ttotal: 6.9s\tremaining: 98ms\n",
      "986:\tlearn: 843.7702240\ttotal: 6.9s\tremaining: 90.9ms\n",
      "987:\tlearn: 843.6629934\ttotal: 6.91s\tremaining: 83.9ms\n",
      "988:\tlearn: 843.5105183\ttotal: 6.91s\tremaining: 76.9ms\n",
      "989:\tlearn: 843.3468398\ttotal: 6.92s\tremaining: 69.9ms\n",
      "990:\tlearn: 843.2547333\ttotal: 6.93s\tremaining: 63ms\n",
      "991:\tlearn: 843.0975528\ttotal: 6.94s\tremaining: 55.9ms\n",
      "992:\tlearn: 843.0252347\ttotal: 6.94s\tremaining: 48.9ms\n",
      "993:\tlearn: 842.7990476\ttotal: 6.95s\tremaining: 41.9ms\n",
      "994:\tlearn: 842.6462491\ttotal: 6.95s\tremaining: 34.9ms\n",
      "995:\tlearn: 842.4780051\ttotal: 6.96s\tremaining: 27.9ms\n",
      "996:\tlearn: 842.3014788\ttotal: 6.96s\tremaining: 21ms\n",
      "997:\tlearn: 842.1492205\ttotal: 6.97s\tremaining: 14ms\n",
      "998:\tlearn: 841.9565971\ttotal: 6.97s\tremaining: 6.98ms\n",
      "999:\tlearn: 841.6850408\ttotal: 6.98s\tremaining: 0us\n"
     ]
    },
    {
     "data": {
      "text/plain": [
       "<catboost.core.CatBoostRegressor at 0x2231c95e2e8>"
      ]
     },
     "execution_count": 80,
     "metadata": {},
     "output_type": "execute_result"
    }
   ],
   "source": [
    "from catboost import CatBoostRegressor\n",
    "CAT = CatBoostRegressor()\n",
    "CAT.fit(X_train, y_train)"
   ]
  },
  {
   "cell_type": "code",
   "execution_count": 81,
   "metadata": {},
   "outputs": [],
   "source": [
    "y_pred_CAT = CAT.predict(X_test)"
   ]
  },
  {
   "cell_type": "code",
   "execution_count": 82,
   "metadata": {
    "scrolled": true
   },
   "outputs": [
    {
     "name": "stdout",
     "output_type": "stream",
     "text": [
      "Train Score 0.76 & Test Score 0.57\n"
     ]
    }
   ],
   "source": [
    "print(\"Train Score {:.2f} & Test Score {:.2f}\".format(CAT.score(X_train,y_train), CAT.score(X_test,y_test)))"
   ]
  },
  {
   "cell_type": "code",
   "execution_count": 83,
   "metadata": {},
   "outputs": [
    {
     "name": "stdout",
     "output_type": "stream",
     "text": [
      "RMSE : 841.7\n"
     ]
    }
   ],
   "source": [
    "print(\"RMSE : %.4g\" % np.sqrt(metrics.mean_squared_error(y_train, CAT.predict(X_train))))"
   ]
  },
  {
   "cell_type": "markdown",
   "metadata": {},
   "source": [
    "### RSME : 1178.4"
   ]
  },
  {
   "cell_type": "markdown",
   "metadata": {},
   "source": [
    "### Submission"
   ]
  },
  {
   "cell_type": "code",
   "execution_count": 108,
   "metadata": {},
   "outputs": [],
   "source": [
    "y_pred_test = rfc1.predict(test)"
   ]
  },
  {
   "cell_type": "code",
   "execution_count": 109,
   "metadata": {},
   "outputs": [],
   "source": [
    "submission = pd.DataFrame({'Item_Identifier': test_original['Item_Identifier'],\n",
    "                           'Outlet_Identifier':test_original['Outlet_Identifier'],\n",
    "                           'Item_Outlet_Sales': y_pred_test})\n",
    "submission.to_csv('Bigmart3.csv', index=False)"
   ]
  },
  {
   "cell_type": "code",
   "execution_count": null,
   "metadata": {},
   "outputs": [],
   "source": []
  }
 ],
 "metadata": {
  "kernelspec": {
   "display_name": "Python 3",
   "language": "python",
   "name": "python3"
  },
  "language_info": {
   "codemirror_mode": {
    "name": "ipython",
    "version": 3
   },
   "file_extension": ".py",
   "mimetype": "text/x-python",
   "name": "python",
   "nbconvert_exporter": "python",
   "pygments_lexer": "ipython3",
   "version": "3.7.3"
  }
 },
 "nbformat": 4,
 "nbformat_minor": 2
}
