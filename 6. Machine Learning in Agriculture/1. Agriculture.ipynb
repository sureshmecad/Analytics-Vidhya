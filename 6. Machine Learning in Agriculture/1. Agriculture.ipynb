{
 "cells": [
  {
   "cell_type": "markdown",
   "metadata": {},
   "source": [
    "### The Toxic Pesticides\n",
    "- Though, many of us don't appreciate much, but a farmer's job is real test of endurance and determination. Once the seeds are sown, he works days and nights to make sure that he cultivates a good harvest at the end of season. A good harvest is ensured by several factors such as availability of water, soil fertility, protecting crops from rodents, timely use of pesticides & other useful chemicals and nature. While a lot of these factors are difficult to control for, the amount and frequency of pesticides is something the farmer can control.\n",
    "\n",
    "\n",
    "- Pesticides are also special, because while they protect the crop with the right dosage. But, if you add more than required, they may spoil the entire harvest. A high level of pesticide can deem the crop dead / unsuitable for consumption among many outcomes. This data is based on crops harvested by various farmers at the end of harvest season. To simplify the problem, you can assume that all other factors like variations in farming techniques have been controlled for.\n",
    "\n",
    "\n",
    "- You need to determine the outcome of the harvest season, i.e. whether the crop would be healthy (alive), damaged by pesticides or damaged by other reasons."
   ]
  },
  {
   "cell_type": "markdown",
   "metadata": {},
   "source": [
    "### Evaluation Metric\n",
    "- The evaluation metric for this hackathon is Accuracy Score.\n",
    "\n",
    "### Public and Private split\n",
    "- The public leaderboard is based on 30% of test data, while final rank would be decided on remaining 70% of test data (which is private leaderboard)\n",
    "\n",
    " \n",
    "### Guidelines for Final Submission\n",
    "- Please ensure that your final submission includes the following:\n",
    "\n",
    "- Solution file containing the predicted category for crop damage\n",
    "- Code file for reproducing the submission, note that it is mandatory to submit your code for a valid final submission"
   ]
  },
  {
   "cell_type": "markdown",
   "metadata": {},
   "source": [
    "### Data Description\n",
    "\n",
    "|Variable                   |Definition                                                                                |\n",
    "|-----------------          |------------------------------------------------------------------------------------------|\n",
    "|ID                         |UniqueID                                                                                  |\n",
    "|Estimated_Insects_Count\t|Estimated insects count per square meter                                                  |\n",
    "|Crop_Type\t                |Category of Crop(0,1)                                                                     |\n",
    "|Soil_Type\t                |Category of Soil (0,1)                                                                    |\n",
    "|Pesticide_Use_Category\t    |Type of pesticides uses (1- Never, 2-Previously Used, 3-Currently Using)                  |\n",
    "|Number_Doses_Week\t        |Number of doses per week                                                                  |\n",
    "|Number_Weeks_Used\t        |Number of weeks used                                                                      |\n",
    "|Number_Weeks_Quit\t        |Number of weeks quit                                                                      |\n",
    "|Season\t                    |Season Category (1,2,3)                                                                   |\n",
    "|Crop_Damage\t            |Crop Damage Category (0=alive, 1=Damage due to other causes, 2=Damage due to Pesticides)  |\n",
    "\n",
    "\n",
    "### sample_submission.csv\n",
    "\n",
    "|ID:             |Unique ID                                          |\n",
    "|------------    |---------------------------------------------------|\n",
    "|Crop_Damage:    |Predicted Crop damage category for the test set    |\n",
    "\n"
   ]
  },
  {
   "cell_type": "code",
   "execution_count": 1,
   "metadata": {},
   "outputs": [],
   "source": [
    "import numpy as np\n",
    "import pandas as pd\n",
    "\n",
    "import seaborn as sns\n",
    "import matplotlib.pyplot as plt\n",
    "%matplotlib inline\n",
    "\n",
    "import warnings                              # To ignore any warnings\n",
    "warnings.filterwarnings(\"ignore\")"
   ]
  },
  {
   "cell_type": "code",
   "execution_count": 2,
   "metadata": {},
   "outputs": [],
   "source": [
    "train = pd.read_csv(\"train_yaOffsB.csv\")\n",
    "test = pd.read_csv(\"test_pFkWwen.csv\")\n",
    "submission = pd.read_csv(\"sample_submission_O1oDc4H.csv\")"
   ]
  },
  {
   "cell_type": "code",
   "execution_count": 3,
   "metadata": {},
   "outputs": [],
   "source": [
    "train_original = train.copy()\n",
    "test_original = test.copy()"
   ]
  },
  {
   "cell_type": "code",
   "execution_count": 4,
   "metadata": {},
   "outputs": [
    {
     "data": {
      "text/html": [
       "<div>\n",
       "<style scoped>\n",
       "    .dataframe tbody tr th:only-of-type {\n",
       "        vertical-align: middle;\n",
       "    }\n",
       "\n",
       "    .dataframe tbody tr th {\n",
       "        vertical-align: top;\n",
       "    }\n",
       "\n",
       "    .dataframe thead th {\n",
       "        text-align: right;\n",
       "    }\n",
       "</style>\n",
       "<table border=\"1\" class=\"dataframe\">\n",
       "  <thead>\n",
       "    <tr style=\"text-align: right;\">\n",
       "      <th></th>\n",
       "      <th>ID</th>\n",
       "      <th>Estimated_Insects_Count</th>\n",
       "      <th>Crop_Type</th>\n",
       "      <th>Soil_Type</th>\n",
       "      <th>Pesticide_Use_Category</th>\n",
       "      <th>Number_Doses_Week</th>\n",
       "      <th>Number_Weeks_Used</th>\n",
       "      <th>Number_Weeks_Quit</th>\n",
       "      <th>Season</th>\n",
       "      <th>Crop_Damage</th>\n",
       "    </tr>\n",
       "  </thead>\n",
       "  <tbody>\n",
       "    <tr>\n",
       "      <th>0</th>\n",
       "      <td>F00000001</td>\n",
       "      <td>188</td>\n",
       "      <td>1</td>\n",
       "      <td>0</td>\n",
       "      <td>1</td>\n",
       "      <td>0</td>\n",
       "      <td>0.0</td>\n",
       "      <td>0</td>\n",
       "      <td>1</td>\n",
       "      <td>0</td>\n",
       "    </tr>\n",
       "    <tr>\n",
       "      <th>1</th>\n",
       "      <td>F00000003</td>\n",
       "      <td>209</td>\n",
       "      <td>1</td>\n",
       "      <td>0</td>\n",
       "      <td>1</td>\n",
       "      <td>0</td>\n",
       "      <td>0.0</td>\n",
       "      <td>0</td>\n",
       "      <td>2</td>\n",
       "      <td>1</td>\n",
       "    </tr>\n",
       "    <tr>\n",
       "      <th>2</th>\n",
       "      <td>F00000004</td>\n",
       "      <td>257</td>\n",
       "      <td>1</td>\n",
       "      <td>0</td>\n",
       "      <td>1</td>\n",
       "      <td>0</td>\n",
       "      <td>0.0</td>\n",
       "      <td>0</td>\n",
       "      <td>2</td>\n",
       "      <td>1</td>\n",
       "    </tr>\n",
       "    <tr>\n",
       "      <th>3</th>\n",
       "      <td>F00000005</td>\n",
       "      <td>257</td>\n",
       "      <td>1</td>\n",
       "      <td>1</td>\n",
       "      <td>1</td>\n",
       "      <td>0</td>\n",
       "      <td>0.0</td>\n",
       "      <td>0</td>\n",
       "      <td>2</td>\n",
       "      <td>1</td>\n",
       "    </tr>\n",
       "    <tr>\n",
       "      <th>4</th>\n",
       "      <td>F00000006</td>\n",
       "      <td>342</td>\n",
       "      <td>1</td>\n",
       "      <td>0</td>\n",
       "      <td>1</td>\n",
       "      <td>0</td>\n",
       "      <td>0.0</td>\n",
       "      <td>0</td>\n",
       "      <td>2</td>\n",
       "      <td>1</td>\n",
       "    </tr>\n",
       "  </tbody>\n",
       "</table>\n",
       "</div>"
      ],
      "text/plain": [
       "          ID  Estimated_Insects_Count  Crop_Type  Soil_Type  \\\n",
       "0  F00000001                      188          1          0   \n",
       "1  F00000003                      209          1          0   \n",
       "2  F00000004                      257          1          0   \n",
       "3  F00000005                      257          1          1   \n",
       "4  F00000006                      342          1          0   \n",
       "\n",
       "   Pesticide_Use_Category  Number_Doses_Week  Number_Weeks_Used  \\\n",
       "0                       1                  0                0.0   \n",
       "1                       1                  0                0.0   \n",
       "2                       1                  0                0.0   \n",
       "3                       1                  0                0.0   \n",
       "4                       1                  0                0.0   \n",
       "\n",
       "   Number_Weeks_Quit  Season  Crop_Damage  \n",
       "0                  0       1            0  \n",
       "1                  0       2            1  \n",
       "2                  0       2            1  \n",
       "3                  0       2            1  \n",
       "4                  0       2            1  "
      ]
     },
     "metadata": {},
     "output_type": "display_data"
    },
    {
     "data": {
      "text/html": [
       "<div>\n",
       "<style scoped>\n",
       "    .dataframe tbody tr th:only-of-type {\n",
       "        vertical-align: middle;\n",
       "    }\n",
       "\n",
       "    .dataframe tbody tr th {\n",
       "        vertical-align: top;\n",
       "    }\n",
       "\n",
       "    .dataframe thead th {\n",
       "        text-align: right;\n",
       "    }\n",
       "</style>\n",
       "<table border=\"1\" class=\"dataframe\">\n",
       "  <thead>\n",
       "    <tr style=\"text-align: right;\">\n",
       "      <th></th>\n",
       "      <th>ID</th>\n",
       "      <th>Estimated_Insects_Count</th>\n",
       "      <th>Crop_Type</th>\n",
       "      <th>Soil_Type</th>\n",
       "      <th>Pesticide_Use_Category</th>\n",
       "      <th>Number_Doses_Week</th>\n",
       "      <th>Number_Weeks_Used</th>\n",
       "      <th>Number_Weeks_Quit</th>\n",
       "      <th>Season</th>\n",
       "    </tr>\n",
       "  </thead>\n",
       "  <tbody>\n",
       "    <tr>\n",
       "      <th>0</th>\n",
       "      <td>F00000002</td>\n",
       "      <td>188</td>\n",
       "      <td>1</td>\n",
       "      <td>1</td>\n",
       "      <td>1</td>\n",
       "      <td>0</td>\n",
       "      <td>NaN</td>\n",
       "      <td>0</td>\n",
       "      <td>2</td>\n",
       "    </tr>\n",
       "    <tr>\n",
       "      <th>1</th>\n",
       "      <td>F00000007</td>\n",
       "      <td>410</td>\n",
       "      <td>1</td>\n",
       "      <td>1</td>\n",
       "      <td>1</td>\n",
       "      <td>0</td>\n",
       "      <td>0.0</td>\n",
       "      <td>0</td>\n",
       "      <td>2</td>\n",
       "    </tr>\n",
       "    <tr>\n",
       "      <th>2</th>\n",
       "      <td>F00000011</td>\n",
       "      <td>626</td>\n",
       "      <td>1</td>\n",
       "      <td>0</td>\n",
       "      <td>1</td>\n",
       "      <td>0</td>\n",
       "      <td>0.0</td>\n",
       "      <td>0</td>\n",
       "      <td>2</td>\n",
       "    </tr>\n",
       "    <tr>\n",
       "      <th>3</th>\n",
       "      <td>F00000013</td>\n",
       "      <td>731</td>\n",
       "      <td>1</td>\n",
       "      <td>0</td>\n",
       "      <td>1</td>\n",
       "      <td>0</td>\n",
       "      <td>0.0</td>\n",
       "      <td>0</td>\n",
       "      <td>2</td>\n",
       "    </tr>\n",
       "    <tr>\n",
       "      <th>4</th>\n",
       "      <td>F00000014</td>\n",
       "      <td>789</td>\n",
       "      <td>0</td>\n",
       "      <td>0</td>\n",
       "      <td>1</td>\n",
       "      <td>0</td>\n",
       "      <td>0.0</td>\n",
       "      <td>0</td>\n",
       "      <td>1</td>\n",
       "    </tr>\n",
       "  </tbody>\n",
       "</table>\n",
       "</div>"
      ],
      "text/plain": [
       "          ID  Estimated_Insects_Count  Crop_Type  Soil_Type  \\\n",
       "0  F00000002                      188          1          1   \n",
       "1  F00000007                      410          1          1   \n",
       "2  F00000011                      626          1          0   \n",
       "3  F00000013                      731          1          0   \n",
       "4  F00000014                      789          0          0   \n",
       "\n",
       "   Pesticide_Use_Category  Number_Doses_Week  Number_Weeks_Used  \\\n",
       "0                       1                  0                NaN   \n",
       "1                       1                  0                0.0   \n",
       "2                       1                  0                0.0   \n",
       "3                       1                  0                0.0   \n",
       "4                       1                  0                0.0   \n",
       "\n",
       "   Number_Weeks_Quit  Season  \n",
       "0                  0       2  \n",
       "1                  0       2  \n",
       "2                  0       2  \n",
       "3                  0       2  \n",
       "4                  0       1  "
      ]
     },
     "metadata": {},
     "output_type": "display_data"
    },
    {
     "data": {
      "text/html": [
       "<div>\n",
       "<style scoped>\n",
       "    .dataframe tbody tr th:only-of-type {\n",
       "        vertical-align: middle;\n",
       "    }\n",
       "\n",
       "    .dataframe tbody tr th {\n",
       "        vertical-align: top;\n",
       "    }\n",
       "\n",
       "    .dataframe thead th {\n",
       "        text-align: right;\n",
       "    }\n",
       "</style>\n",
       "<table border=\"1\" class=\"dataframe\">\n",
       "  <thead>\n",
       "    <tr style=\"text-align: right;\">\n",
       "      <th></th>\n",
       "      <th>ID</th>\n",
       "      <th>Crop_Damage</th>\n",
       "    </tr>\n",
       "  </thead>\n",
       "  <tbody>\n",
       "    <tr>\n",
       "      <th>0</th>\n",
       "      <td>F00000002</td>\n",
       "      <td>1</td>\n",
       "    </tr>\n",
       "    <tr>\n",
       "      <th>1</th>\n",
       "      <td>F00000011</td>\n",
       "      <td>1</td>\n",
       "    </tr>\n",
       "    <tr>\n",
       "      <th>2</th>\n",
       "      <td>F00000014</td>\n",
       "      <td>1</td>\n",
       "    </tr>\n",
       "    <tr>\n",
       "      <th>3</th>\n",
       "      <td>F00000015</td>\n",
       "      <td>1</td>\n",
       "    </tr>\n",
       "    <tr>\n",
       "      <th>4</th>\n",
       "      <td>F00000016</td>\n",
       "      <td>1</td>\n",
       "    </tr>\n",
       "  </tbody>\n",
       "</table>\n",
       "</div>"
      ],
      "text/plain": [
       "          ID  Crop_Damage\n",
       "0  F00000002            1\n",
       "1  F00000011            1\n",
       "2  F00000014            1\n",
       "3  F00000015            1\n",
       "4  F00000016            1"
      ]
     },
     "metadata": {},
     "output_type": "display_data"
    }
   ],
   "source": [
    "display(train.head())\n",
    "display(test.head())\n",
    "display(submission.head())"
   ]
  },
  {
   "cell_type": "code",
   "execution_count": 5,
   "metadata": {},
   "outputs": [
    {
     "data": {
      "text/plain": [
       "(88858, 10)"
      ]
     },
     "metadata": {},
     "output_type": "display_data"
    },
    {
     "data": {
      "text/plain": [
       "(59310, 9)"
      ]
     },
     "metadata": {},
     "output_type": "display_data"
    }
   ],
   "source": [
    "display(train.shape)\n",
    "display(test.shape)"
   ]
  },
  {
   "cell_type": "code",
   "execution_count": 6,
   "metadata": {
    "scrolled": true
   },
   "outputs": [
    {
     "data": {
      "text/plain": [
       "ID                            0\n",
       "Estimated_Insects_Count       0\n",
       "Crop_Type                     0\n",
       "Soil_Type                     0\n",
       "Pesticide_Use_Category        0\n",
       "Number_Doses_Week             0\n",
       "Number_Weeks_Used          9000\n",
       "Number_Weeks_Quit             0\n",
       "Season                        0\n",
       "Crop_Damage                   0\n",
       "dtype: int64"
      ]
     },
     "metadata": {},
     "output_type": "display_data"
    },
    {
     "data": {
      "text/plain": [
       "ID                            0\n",
       "Estimated_Insects_Count       0\n",
       "Crop_Type                     0\n",
       "Soil_Type                     0\n",
       "Pesticide_Use_Category        0\n",
       "Number_Doses_Week             0\n",
       "Number_Weeks_Used          5893\n",
       "Number_Weeks_Quit             0\n",
       "Season                        0\n",
       "dtype: int64"
      ]
     },
     "metadata": {},
     "output_type": "display_data"
    }
   ],
   "source": [
    "display(train.isnull().sum())\n",
    "display(test.isnull().sum())"
   ]
  },
  {
   "cell_type": "code",
   "execution_count": 7,
   "metadata": {
    "scrolled": true
   },
   "outputs": [
    {
     "data": {
      "text/plain": [
       "0    74238\n",
       "1    12307\n",
       "2     2313\n",
       "Name: Crop_Damage, dtype: int64"
      ]
     },
     "execution_count": 7,
     "metadata": {},
     "output_type": "execute_result"
    }
   ],
   "source": [
    "train['Crop_Damage'].value_counts()"
   ]
  },
  {
   "cell_type": "markdown",
   "metadata": {},
   "source": [
    "- **0 = alive**\n",
    "\n",
    "\n",
    "- **1 = Damage due to other causes**\n",
    "\n",
    "\n",
    "- **2 = Damage due to Pesticides**"
   ]
  },
  {
   "cell_type": "code",
   "execution_count": 8,
   "metadata": {},
   "outputs": [
    {
     "data": {
      "text/plain": [
       "28.0"
      ]
     },
     "execution_count": 8,
     "metadata": {},
     "output_type": "execute_result"
    }
   ],
   "source": [
    "train['Number_Weeks_Used'].median()"
   ]
  },
  {
   "cell_type": "code",
   "execution_count": 9,
   "metadata": {},
   "outputs": [],
   "source": [
    "train['Number_Weeks_Used'].fillna(28, inplace=True)"
   ]
  },
  {
   "cell_type": "code",
   "execution_count": 10,
   "metadata": {},
   "outputs": [
    {
     "data": {
      "text/plain": [
       "28.0"
      ]
     },
     "execution_count": 10,
     "metadata": {},
     "output_type": "execute_result"
    }
   ],
   "source": [
    "test['Number_Weeks_Used'].median()"
   ]
  },
  {
   "cell_type": "code",
   "execution_count": 11,
   "metadata": {},
   "outputs": [],
   "source": [
    "test['Number_Weeks_Used'].fillna(28, inplace=True)"
   ]
  },
  {
   "cell_type": "code",
   "execution_count": 12,
   "metadata": {},
   "outputs": [],
   "source": [
    "train.drop('ID', axis=1, inplace=True)\n",
    "test.drop('ID', axis=1, inplace=True)"
   ]
  },
  {
   "cell_type": "code",
   "execution_count": 13,
   "metadata": {
    "scrolled": true
   },
   "outputs": [
    {
     "data": {
      "text/html": [
       "<div>\n",
       "<style scoped>\n",
       "    .dataframe tbody tr th:only-of-type {\n",
       "        vertical-align: middle;\n",
       "    }\n",
       "\n",
       "    .dataframe tbody tr th {\n",
       "        vertical-align: top;\n",
       "    }\n",
       "\n",
       "    .dataframe thead th {\n",
       "        text-align: right;\n",
       "    }\n",
       "</style>\n",
       "<table border=\"1\" class=\"dataframe\">\n",
       "  <thead>\n",
       "    <tr style=\"text-align: right;\">\n",
       "      <th></th>\n",
       "      <th>Estimated_Insects_Count</th>\n",
       "      <th>Crop_Type</th>\n",
       "      <th>Soil_Type</th>\n",
       "      <th>Pesticide_Use_Category</th>\n",
       "      <th>Number_Doses_Week</th>\n",
       "      <th>Number_Weeks_Used</th>\n",
       "      <th>Number_Weeks_Quit</th>\n",
       "      <th>Season</th>\n",
       "      <th>Crop_Damage</th>\n",
       "    </tr>\n",
       "  </thead>\n",
       "  <tbody>\n",
       "    <tr>\n",
       "      <th>0</th>\n",
       "      <td>188</td>\n",
       "      <td>1</td>\n",
       "      <td>0</td>\n",
       "      <td>1</td>\n",
       "      <td>0</td>\n",
       "      <td>0.0</td>\n",
       "      <td>0</td>\n",
       "      <td>1</td>\n",
       "      <td>0</td>\n",
       "    </tr>\n",
       "    <tr>\n",
       "      <th>1</th>\n",
       "      <td>209</td>\n",
       "      <td>1</td>\n",
       "      <td>0</td>\n",
       "      <td>1</td>\n",
       "      <td>0</td>\n",
       "      <td>0.0</td>\n",
       "      <td>0</td>\n",
       "      <td>2</td>\n",
       "      <td>1</td>\n",
       "    </tr>\n",
       "    <tr>\n",
       "      <th>2</th>\n",
       "      <td>257</td>\n",
       "      <td>1</td>\n",
       "      <td>0</td>\n",
       "      <td>1</td>\n",
       "      <td>0</td>\n",
       "      <td>0.0</td>\n",
       "      <td>0</td>\n",
       "      <td>2</td>\n",
       "      <td>1</td>\n",
       "    </tr>\n",
       "    <tr>\n",
       "      <th>3</th>\n",
       "      <td>257</td>\n",
       "      <td>1</td>\n",
       "      <td>1</td>\n",
       "      <td>1</td>\n",
       "      <td>0</td>\n",
       "      <td>0.0</td>\n",
       "      <td>0</td>\n",
       "      <td>2</td>\n",
       "      <td>1</td>\n",
       "    </tr>\n",
       "    <tr>\n",
       "      <th>4</th>\n",
       "      <td>342</td>\n",
       "      <td>1</td>\n",
       "      <td>0</td>\n",
       "      <td>1</td>\n",
       "      <td>0</td>\n",
       "      <td>0.0</td>\n",
       "      <td>0</td>\n",
       "      <td>2</td>\n",
       "      <td>1</td>\n",
       "    </tr>\n",
       "  </tbody>\n",
       "</table>\n",
       "</div>"
      ],
      "text/plain": [
       "   Estimated_Insects_Count  Crop_Type  Soil_Type  Pesticide_Use_Category  \\\n",
       "0                      188          1          0                       1   \n",
       "1                      209          1          0                       1   \n",
       "2                      257          1          0                       1   \n",
       "3                      257          1          1                       1   \n",
       "4                      342          1          0                       1   \n",
       "\n",
       "   Number_Doses_Week  Number_Weeks_Used  Number_Weeks_Quit  Season  \\\n",
       "0                  0                0.0                  0       1   \n",
       "1                  0                0.0                  0       2   \n",
       "2                  0                0.0                  0       2   \n",
       "3                  0                0.0                  0       2   \n",
       "4                  0                0.0                  0       2   \n",
       "\n",
       "   Crop_Damage  \n",
       "0            0  \n",
       "1            1  \n",
       "2            1  \n",
       "3            1  \n",
       "4            1  "
      ]
     },
     "metadata": {},
     "output_type": "display_data"
    },
    {
     "data": {
      "text/html": [
       "<div>\n",
       "<style scoped>\n",
       "    .dataframe tbody tr th:only-of-type {\n",
       "        vertical-align: middle;\n",
       "    }\n",
       "\n",
       "    .dataframe tbody tr th {\n",
       "        vertical-align: top;\n",
       "    }\n",
       "\n",
       "    .dataframe thead th {\n",
       "        text-align: right;\n",
       "    }\n",
       "</style>\n",
       "<table border=\"1\" class=\"dataframe\">\n",
       "  <thead>\n",
       "    <tr style=\"text-align: right;\">\n",
       "      <th></th>\n",
       "      <th>Estimated_Insects_Count</th>\n",
       "      <th>Crop_Type</th>\n",
       "      <th>Soil_Type</th>\n",
       "      <th>Pesticide_Use_Category</th>\n",
       "      <th>Number_Doses_Week</th>\n",
       "      <th>Number_Weeks_Used</th>\n",
       "      <th>Number_Weeks_Quit</th>\n",
       "      <th>Season</th>\n",
       "    </tr>\n",
       "  </thead>\n",
       "  <tbody>\n",
       "    <tr>\n",
       "      <th>0</th>\n",
       "      <td>188</td>\n",
       "      <td>1</td>\n",
       "      <td>1</td>\n",
       "      <td>1</td>\n",
       "      <td>0</td>\n",
       "      <td>28.0</td>\n",
       "      <td>0</td>\n",
       "      <td>2</td>\n",
       "    </tr>\n",
       "    <tr>\n",
       "      <th>1</th>\n",
       "      <td>410</td>\n",
       "      <td>1</td>\n",
       "      <td>1</td>\n",
       "      <td>1</td>\n",
       "      <td>0</td>\n",
       "      <td>0.0</td>\n",
       "      <td>0</td>\n",
       "      <td>2</td>\n",
       "    </tr>\n",
       "    <tr>\n",
       "      <th>2</th>\n",
       "      <td>626</td>\n",
       "      <td>1</td>\n",
       "      <td>0</td>\n",
       "      <td>1</td>\n",
       "      <td>0</td>\n",
       "      <td>0.0</td>\n",
       "      <td>0</td>\n",
       "      <td>2</td>\n",
       "    </tr>\n",
       "    <tr>\n",
       "      <th>3</th>\n",
       "      <td>731</td>\n",
       "      <td>1</td>\n",
       "      <td>0</td>\n",
       "      <td>1</td>\n",
       "      <td>0</td>\n",
       "      <td>0.0</td>\n",
       "      <td>0</td>\n",
       "      <td>2</td>\n",
       "    </tr>\n",
       "    <tr>\n",
       "      <th>4</th>\n",
       "      <td>789</td>\n",
       "      <td>0</td>\n",
       "      <td>0</td>\n",
       "      <td>1</td>\n",
       "      <td>0</td>\n",
       "      <td>0.0</td>\n",
       "      <td>0</td>\n",
       "      <td>1</td>\n",
       "    </tr>\n",
       "  </tbody>\n",
       "</table>\n",
       "</div>"
      ],
      "text/plain": [
       "   Estimated_Insects_Count  Crop_Type  Soil_Type  Pesticide_Use_Category  \\\n",
       "0                      188          1          1                       1   \n",
       "1                      410          1          1                       1   \n",
       "2                      626          1          0                       1   \n",
       "3                      731          1          0                       1   \n",
       "4                      789          0          0                       1   \n",
       "\n",
       "   Number_Doses_Week  Number_Weeks_Used  Number_Weeks_Quit  Season  \n",
       "0                  0               28.0                  0       2  \n",
       "1                  0                0.0                  0       2  \n",
       "2                  0                0.0                  0       2  \n",
       "3                  0                0.0                  0       2  \n",
       "4                  0                0.0                  0       1  "
      ]
     },
     "metadata": {},
     "output_type": "display_data"
    }
   ],
   "source": [
    "display(train.head())\n",
    "display(test.head())"
   ]
  },
  {
   "cell_type": "code",
   "execution_count": 14,
   "metadata": {
    "scrolled": true
   },
   "outputs": [
    {
     "data": {
      "text/plain": [
       "Estimated_Insects_Count    0\n",
       "Crop_Type                  0\n",
       "Soil_Type                  0\n",
       "Pesticide_Use_Category     0\n",
       "Number_Doses_Week          0\n",
       "Number_Weeks_Used          0\n",
       "Number_Weeks_Quit          0\n",
       "Season                     0\n",
       "Crop_Damage                0\n",
       "dtype: int64"
      ]
     },
     "metadata": {},
     "output_type": "display_data"
    },
    {
     "data": {
      "text/plain": [
       "Estimated_Insects_Count    0\n",
       "Crop_Type                  0\n",
       "Soil_Type                  0\n",
       "Pesticide_Use_Category     0\n",
       "Number_Doses_Week          0\n",
       "Number_Weeks_Used          0\n",
       "Number_Weeks_Quit          0\n",
       "Season                     0\n",
       "dtype: int64"
      ]
     },
     "metadata": {},
     "output_type": "display_data"
    }
   ],
   "source": [
    "display(train.isnull().sum())\n",
    "display(test.isnull().sum())"
   ]
  },
  {
   "cell_type": "code",
   "execution_count": 53,
   "metadata": {},
   "outputs": [
    {
     "data": {
      "text/plain": [
       "<matplotlib.axes._subplots.AxesSubplot at 0x19a506d7e10>"
      ]
     },
     "execution_count": 53,
     "metadata": {},
     "output_type": "execute_result"
    },
    {
     "data": {
      "image/png": "[encoded data removed]",
      "text/plain": [
       "<Figure size 864x720 with 2 Axes>"
      ]
     },
     "metadata": {
      "needs_background": "light"
     },
     "output_type": "display_data"
    }
   ],
   "source": [
    "plt.figure(figsize=(12,10))\n",
    "sns.heatmap(train.corr(), annot=True)"
   ]
  },
  {
   "cell_type": "code",
   "execution_count": 15,
   "metadata": {},
   "outputs": [],
   "source": [
    "X = train.iloc[:, :-1]\n",
    "y = train.iloc[:, -1]"
   ]
  },
  {
   "cell_type": "code",
   "execution_count": 16,
   "metadata": {},
   "outputs": [],
   "source": [
    "from sklearn.model_selection import train_test_split\n",
    "from sklearn.linear_model import LogisticRegression\n",
    "from sklearn.ensemble import RandomForestClassifier                  \n",
    "import xgboost\n",
    "from xgboost import XGBClassifier\n",
    "from sklearn.metrics import accuracy_score\n",
    "from sklearn.metrics import confusion_matrix, classification_report\n",
    "from sklearn.model_selection import GridSearchCV, RandomizedSearchCV "
   ]
  },
  {
   "cell_type": "code",
   "execution_count": 17,
   "metadata": {},
   "outputs": [],
   "source": [
    "# split  data into training and testing sets of 80:20 ratio\n",
    "# 20% of test size selected\n",
    "# random_state is random seed\n",
    "X_train, X_test, y_train, y_test = train_test_split(X,y,test_size=0.2, random_state=4)"
   ]
  },
  {
   "cell_type": "code",
   "execution_count": 18,
   "metadata": {},
   "outputs": [
    {
     "name": "stdout",
     "output_type": "stream",
     "text": [
      "(71086, 8) (17772, 8) (71086,) (17772,)\n"
     ]
    }
   ],
   "source": [
    "# shape of X & Y test / train\n",
    "print(X_train.shape, X_test.shape, y_train.shape, y_test.shape)"
   ]
  },
  {
   "cell_type": "markdown",
   "metadata": {},
   "source": [
    "### 1. Logistic Regression"
   ]
  },
  {
   "cell_type": "code",
   "execution_count": 30,
   "metadata": {},
   "outputs": [
    {
     "data": {
      "text/plain": [
       "LogisticRegression(C=1.0, class_weight=None, dual=False, fit_intercept=True,\n",
       "          intercept_scaling=1, max_iter=100, multi_class='ovr',\n",
       "          n_jobs=None, penalty='l2', random_state=None, solver='warn',\n",
       "          tol=0.0001, verbose=0, warm_start=False)"
      ]
     },
     "execution_count": 30,
     "metadata": {},
     "output_type": "execute_result"
    }
   ],
   "source": [
    "LogReg = LogisticRegression(random_state=0, multi_class='ovr')\n",
    "LogReg.fit(X_train, y_train)"
   ]
  },
  {
   "cell_type": "code",
   "execution_count": 31,
   "metadata": {},
   "outputs": [],
   "source": [
    "y_pred_LogReg = LogReg.predict(X_test)"
   ]
  },
  {
   "cell_type": "code",
   "execution_count": 32,
   "metadata": {},
   "outputs": [
    {
     "name": "stdout",
     "output_type": "stream",
     "text": [
      "Train Score 0.83 & Test Score 0.84\n"
     ]
    }
   ],
   "source": [
    "print(\"Train Score {:.2f} & Test Score {:.2f}\".format(LogReg.score(X_train, y_train), LogReg.score(X_test, y_test)))"
   ]
  },
  {
   "cell_type": "code",
   "execution_count": 33,
   "metadata": {
    "scrolled": true
   },
   "outputs": [
    {
     "data": {
      "text/plain": [
       "0.8358654062570335"
      ]
     },
     "execution_count": 33,
     "metadata": {},
     "output_type": "execute_result"
    }
   ],
   "source": [
    "accuracy_score(y_test, y_pred_LogReg)"
   ]
  },
  {
   "cell_type": "markdown",
   "metadata": {},
   "source": [
    "### 2. Random Forest Classifier"
   ]
  },
  {
   "cell_type": "markdown",
   "metadata": {},
   "source": [
    "### a. Default Selection"
   ]
  },
  {
   "cell_type": "code",
   "execution_count": 42,
   "metadata": {},
   "outputs": [
    {
     "data": {
      "text/plain": [
       "RandomForestClassifier(bootstrap=True, class_weight=None, criterion='gini',\n",
       "            max_depth=None, max_features='auto', max_leaf_nodes=None,\n",
       "            min_impurity_decrease=0.0, min_impurity_split=None,\n",
       "            min_samples_leaf=1, min_samples_split=2,\n",
       "            min_weight_fraction_leaf=0.0, n_estimators=10, n_jobs=None,\n",
       "            oob_score=False, random_state=None, verbose=0,\n",
       "            warm_start=False)"
      ]
     },
     "execution_count": 42,
     "metadata": {},
     "output_type": "execute_result"
    }
   ],
   "source": [
    "rf = RandomForestClassifier()\n",
    "rf.fit(X_train,y_train)"
   ]
  },
  {
   "cell_type": "code",
   "execution_count": 43,
   "metadata": {},
   "outputs": [],
   "source": [
    "pred_rf = rf.predict(X_test)"
   ]
  },
  {
   "cell_type": "code",
   "execution_count": 44,
   "metadata": {},
   "outputs": [
    {
     "data": {
      "text/plain": [
       "0.8218546027458924"
      ]
     },
     "execution_count": 44,
     "metadata": {},
     "output_type": "execute_result"
    }
   ],
   "source": [
    "accuracy_score(y_test, pred_rf )"
   ]
  },
  {
   "cell_type": "code",
   "execution_count": 45,
   "metadata": {},
   "outputs": [
    {
     "name": "stdout",
     "output_type": "stream",
     "text": [
      "Train Score 0.96 & Test Score 0.82\n"
     ]
    }
   ],
   "source": [
    "print(\"Train Score {:.2f} & Test Score {:.2f}\".format(rf.score(X_train, y_train), rf.score(X_test, y_test)))"
   ]
  },
  {
   "cell_type": "code",
   "execution_count": 51,
   "metadata": {
    "scrolled": true
   },
   "outputs": [
    {
     "name": "stdout",
     "output_type": "stream",
     "text": [
      "[[14675   199     0]\n",
      " [ 2111   334     0]\n",
      " [  331   122     0]]\n"
     ]
    }
   ],
   "source": [
    "print(confusion_matrix(y_test, pred_rf))"
   ]
  },
  {
   "cell_type": "markdown",
   "metadata": {},
   "source": [
    "### b. Manual Parameters"
   ]
  },
  {
   "cell_type": "code",
   "execution_count": 28,
   "metadata": {},
   "outputs": [
    {
     "data": {
      "text/plain": [
       "RandomForestClassifier(bootstrap=True, class_weight=None, criterion='entropy',\n",
       "            max_depth=None, max_features='sqrt', max_leaf_nodes=None,\n",
       "            min_impurity_decrease=0.0, min_impurity_split=None,\n",
       "            min_samples_leaf=10, min_samples_split=2,\n",
       "            min_weight_fraction_leaf=0.0, n_estimators=300, n_jobs=None,\n",
       "            oob_score=False, random_state=100, verbose=0, warm_start=False)"
      ]
     },
     "execution_count": 28,
     "metadata": {},
     "output_type": "execute_result"
    }
   ],
   "source": [
    "rf = RandomForestClassifier(n_estimators=300, criterion='entropy',\n",
    "                            max_features='sqrt', min_samples_leaf=10, random_state=100)\n",
    "rf.fit(X_train,y_train)"
   ]
  },
  {
   "cell_type": "code",
   "execution_count": 29,
   "metadata": {},
   "outputs": [],
   "source": [
    "pred_rf = rf.predict(X_test)"
   ]
  },
  {
   "cell_type": "code",
   "execution_count": 30,
   "metadata": {
    "scrolled": true
   },
   "outputs": [
    {
     "name": "stdout",
     "output_type": "stream",
     "text": [
      "Train Score 0.85 & Test Score 0.84\n"
     ]
    }
   ],
   "source": [
    "print(\"Train Score {:.2f} & Test Score {:.2f}\".format(rf.score(X_train, y_train), rf.score(X_test, y_test)))"
   ]
  },
  {
   "cell_type": "markdown",
   "metadata": {},
   "source": [
    "### c. Random parameters"
   ]
  },
  {
   "cell_type": "code",
   "execution_count": 38,
   "metadata": {},
   "outputs": [
    {
     "data": {
      "text/plain": [
       "RandomForestClassifier(bootstrap=True, class_weight=None, criterion='entropy',\n",
       "            max_depth=3, max_features=2, max_leaf_nodes=None,\n",
       "            min_impurity_decrease=0.0, min_impurity_split=None,\n",
       "            min_samples_leaf=3, min_samples_split=2,\n",
       "            min_weight_fraction_leaf=0.0, n_estimators=300, n_jobs=-1,\n",
       "            oob_score=False, random_state=None, verbose=0,\n",
       "            warm_start=False)"
      ]
     },
     "execution_count": 38,
     "metadata": {},
     "output_type": "execute_result"
    }
   ],
   "source": [
    "rf = RandomForestClassifier(n_jobs=-1, n_estimators=300,bootstrap= True,criterion='entropy',\n",
    "                                  max_depth=3,max_features=2,min_samples_leaf= 3)\n",
    "rf.fit(X_train,y_train)"
   ]
  },
  {
   "cell_type": "code",
   "execution_count": 39,
   "metadata": {},
   "outputs": [],
   "source": [
    "pred_rf = rf.predict(X_test)"
   ]
  },
  {
   "cell_type": "code",
   "execution_count": 40,
   "metadata": {},
   "outputs": [
    {
     "name": "stdout",
     "output_type": "stream",
     "text": [
      "Train Score 0.84 & Test Score 0.84\n"
     ]
    }
   ],
   "source": [
    "print(\"Train Score {:.2f} & Test Score {:.2f}\".format(rf.score(X_train, y_train), rf.score(X_test, y_test)))"
   ]
  },
  {
   "cell_type": "markdown",
   "metadata": {},
   "source": [
    "### d. Randomized Search Cv"
   ]
  },
  {
   "cell_type": "code",
   "execution_count": 41,
   "metadata": {},
   "outputs": [
    {
     "name": "stdout",
     "output_type": "stream",
     "text": [
      "{'n_estimators': [200, 400, 600, 800, 1000, 1200, 1400, 1600, 1800, 2000], 'max_features': ['auto', 'sqrt', 'log2'], 'max_depth': [10, 120, 230, 340, 450, 560, 670, 780, 890, 1000], 'min_samples_split': [2, 3, 4, 5, 7, 9], 'min_samples_leaf': [1, 2, 4, 6, 8], 'criterion': ['entropy', 'gini']}\n"
     ]
    }
   ],
   "source": [
    "import numpy as np\n",
    "from sklearn.model_selection import RandomizedSearchCV\n",
    "# Number of trees in random forest\n",
    "n_estimators = [int(x) for x in np.linspace(start = 200, stop = 2000, num = 10)]\n",
    "# Number of features to consider at every split\n",
    "max_features = ['auto', 'sqrt','log2']\n",
    "# Maximum number of levels in tree\n",
    "max_depth = [int(x) for x in np.linspace(10, 1000,10)]\n",
    "# Minimum number of samples required to split a node\n",
    "min_samples_split = [2, 3, 4, 5, 7, 9]\n",
    "# Minimum number of samples required at each leaf node\n",
    "min_samples_leaf = [1, 2, 4,6,8]\n",
    "# Create the random grid\n",
    "random_grid = {'n_estimators': n_estimators,\n",
    "               'max_features': max_features,\n",
    "               'max_depth': max_depth,\n",
    "               'min_samples_split': min_samples_split,\n",
    "               'min_samples_leaf': min_samples_leaf,\n",
    "              'criterion':['entropy','gini']}\n",
    "print(random_grid)"
   ]
  },
  {
   "cell_type": "code",
   "execution_count": 42,
   "metadata": {
    "scrolled": true
   },
   "outputs": [
    {
     "name": "stdout",
     "output_type": "stream",
     "text": [
      "Fitting 3 folds for each of 100 candidates, totalling 300 fits\n",
      "[CV] n_estimators=200, min_samples_split=2, min_samples_leaf=8, max_features=auto, max_depth=670, criterion=entropy \n"
     ]
    },
    {
     "name": "stderr",
     "output_type": "stream",
     "text": [
      "[Parallel(n_jobs=1)]: Using backend SequentialBackend with 1 concurrent workers.\n"
     ]
    },
    {
     "name": "stdout",
     "output_type": "stream",
     "text": [
      "[CV]  n_estimators=200, min_samples_split=2, min_samples_leaf=8, max_features=auto, max_depth=670, criterion=entropy, total=  11.3s\n",
      "[CV] n_estimators=200, min_samples_split=2, min_samples_leaf=8, max_features=auto, max_depth=670, criterion=entropy \n"
     ]
    },
    {
     "name": "stderr",
     "output_type": "stream",
     "text": [
      "[Parallel(n_jobs=1)]: Done   1 out of   1 | elapsed:   14.4s remaining:    0.0s\n"
     ]
    },
    {
     "name": "stdout",
     "output_type": "stream",
     "text": [
      "[CV]  n_estimators=200, min_samples_split=2, min_samples_leaf=8, max_features=auto, max_depth=670, criterion=entropy, total=  10.6s\n",
      "[CV] n_estimators=200, min_samples_split=2, min_samples_leaf=8, max_features=auto, max_depth=670, criterion=entropy \n",
      "[CV]  n_estimators=200, min_samples_split=2, min_samples_leaf=8, max_features=auto, max_depth=670, criterion=entropy, total=  10.9s\n",
      "[CV] n_estimators=1600, min_samples_split=7, min_samples_leaf=1, max_features=log2, max_depth=560, criterion=gini \n",
      "[CV]  n_estimators=1600, min_samples_split=7, min_samples_leaf=1, max_features=log2, max_depth=560, criterion=gini, total= 2.0min\n",
      "[CV] n_estimators=1600, min_samples_split=7, min_samples_leaf=1, max_features=log2, max_depth=560, criterion=gini \n",
      "[CV]  n_estimators=1600, min_samples_split=7, min_samples_leaf=1, max_features=log2, max_depth=560, criterion=gini, total= 1.9min\n",
      "[CV] n_estimators=1600, min_samples_split=7, min_samples_leaf=1, max_features=log2, max_depth=560, criterion=gini \n",
      "[CV]  n_estimators=1600, min_samples_split=7, min_samples_leaf=1, max_features=log2, max_depth=560, criterion=gini, total= 1.9min\n",
      "[CV] n_estimators=2000, min_samples_split=9, min_samples_leaf=2, max_features=sqrt, max_depth=340, criterion=gini \n",
      "[CV]  n_estimators=2000, min_samples_split=9, min_samples_leaf=2, max_features=sqrt, max_depth=340, criterion=gini, total= 2.0min\n",
      "[CV] n_estimators=2000, min_samples_split=9, min_samples_leaf=2, max_features=sqrt, max_depth=340, criterion=gini \n",
      "[CV]  n_estimators=2000, min_samples_split=9, min_samples_leaf=2, max_features=sqrt, max_depth=340, criterion=gini, total= 2.1min\n",
      "[CV] n_estimators=2000, min_samples_split=9, min_samples_leaf=2, max_features=sqrt, max_depth=340, criterion=gini \n",
      "[CV]  n_estimators=2000, min_samples_split=9, min_samples_leaf=2, max_features=sqrt, max_depth=340, criterion=gini, total= 2.0min\n",
      "[CV] n_estimators=2000, min_samples_split=3, min_samples_leaf=2, max_features=auto, max_depth=10, criterion=entropy \n",
      "[CV]  n_estimators=2000, min_samples_split=3, min_samples_leaf=2, max_features=auto, max_depth=10, criterion=entropy, total=20.5min\n",
      "[CV] n_estimators=2000, min_samples_split=3, min_samples_leaf=2, max_features=auto, max_depth=10, criterion=entropy \n",
      "[CV]  n_estimators=2000, min_samples_split=3, min_samples_leaf=2, max_features=auto, max_depth=10, criterion=entropy, total= 1.5min\n",
      "[CV] n_estimators=2000, min_samples_split=3, min_samples_leaf=2, max_features=auto, max_depth=10, criterion=entropy \n",
      "[CV]  n_estimators=2000, min_samples_split=3, min_samples_leaf=2, max_features=auto, max_depth=10, criterion=entropy, total= 1.5min\n",
      "[CV] n_estimators=1000, min_samples_split=7, min_samples_leaf=2, max_features=auto, max_depth=890, criterion=gini \n",
      "[CV]  n_estimators=1000, min_samples_split=7, min_samples_leaf=2, max_features=auto, max_depth=890, criterion=gini, total= 1.0min\n",
      "[CV] n_estimators=1000, min_samples_split=7, min_samples_leaf=2, max_features=auto, max_depth=890, criterion=gini \n",
      "[CV]  n_estimators=1000, min_samples_split=7, min_samples_leaf=2, max_features=auto, max_depth=890, criterion=gini, total= 1.0min\n",
      "[CV] n_estimators=1000, min_samples_split=7, min_samples_leaf=2, max_features=auto, max_depth=890, criterion=gini \n",
      "[CV]  n_estimators=1000, min_samples_split=7, min_samples_leaf=2, max_features=auto, max_depth=890, criterion=gini, total= 1.1min\n",
      "[CV] n_estimators=1000, min_samples_split=9, min_samples_leaf=6, max_features=sqrt, max_depth=890, criterion=gini \n",
      "[CV]  n_estimators=1000, min_samples_split=9, min_samples_leaf=6, max_features=sqrt, max_depth=890, criterion=gini, total=  57.4s\n",
      "[CV] n_estimators=1000, min_samples_split=9, min_samples_leaf=6, max_features=sqrt, max_depth=890, criterion=gini \n",
      "[CV]  n_estimators=1000, min_samples_split=9, min_samples_leaf=6, max_features=sqrt, max_depth=890, criterion=gini, total=  57.5s\n",
      "[CV] n_estimators=1000, min_samples_split=9, min_samples_leaf=6, max_features=sqrt, max_depth=890, criterion=gini \n",
      "[CV]  n_estimators=1000, min_samples_split=9, min_samples_leaf=6, max_features=sqrt, max_depth=890, criterion=gini, total=  57.6s\n",
      "[CV] n_estimators=200, min_samples_split=7, min_samples_leaf=4, max_features=log2, max_depth=560, criterion=gini \n",
      "[CV]  n_estimators=200, min_samples_split=7, min_samples_leaf=4, max_features=log2, max_depth=560, criterion=gini, total=  14.8s\n",
      "[CV] n_estimators=200, min_samples_split=7, min_samples_leaf=4, max_features=log2, max_depth=560, criterion=gini \n",
      "[CV]  n_estimators=200, min_samples_split=7, min_samples_leaf=4, max_features=log2, max_depth=560, criterion=gini, total=  15.9s\n",
      "[CV] n_estimators=200, min_samples_split=7, min_samples_leaf=4, max_features=log2, max_depth=560, criterion=gini \n",
      "[CV]  n_estimators=200, min_samples_split=7, min_samples_leaf=4, max_features=log2, max_depth=560, criterion=gini, total=  14.5s\n",
      "[CV] n_estimators=600, min_samples_split=2, min_samples_leaf=6, max_features=auto, max_depth=120, criterion=gini \n",
      "[CV]  n_estimators=600, min_samples_split=2, min_samples_leaf=6, max_features=auto, max_depth=120, criterion=gini, total=  34.1s\n",
      "[CV] n_estimators=600, min_samples_split=2, min_samples_leaf=6, max_features=auto, max_depth=120, criterion=gini \n",
      "[CV]  n_estimators=600, min_samples_split=2, min_samples_leaf=6, max_features=auto, max_depth=120, criterion=gini, total=  33.9s\n",
      "[CV] n_estimators=600, min_samples_split=2, min_samples_leaf=6, max_features=auto, max_depth=120, criterion=gini \n",
      "[CV]  n_estimators=600, min_samples_split=2, min_samples_leaf=6, max_features=auto, max_depth=120, criterion=gini, total=  33.8s\n",
      "[CV] n_estimators=200, min_samples_split=5, min_samples_leaf=2, max_features=sqrt, max_depth=560, criterion=gini \n",
      "[CV]  n_estimators=200, min_samples_split=5, min_samples_leaf=2, max_features=sqrt, max_depth=560, criterion=gini, total=  12.3s\n",
      "[CV] n_estimators=200, min_samples_split=5, min_samples_leaf=2, max_features=sqrt, max_depth=560, criterion=gini \n",
      "[CV]  n_estimators=200, min_samples_split=5, min_samples_leaf=2, max_features=sqrt, max_depth=560, criterion=gini, total=  12.4s\n",
      "[CV] n_estimators=200, min_samples_split=5, min_samples_leaf=2, max_features=sqrt, max_depth=560, criterion=gini \n",
      "[CV]  n_estimators=200, min_samples_split=5, min_samples_leaf=2, max_features=sqrt, max_depth=560, criterion=gini, total=  12.3s\n",
      "[CV] n_estimators=1400, min_samples_split=7, min_samples_leaf=2, max_features=log2, max_depth=890, criterion=entropy \n",
      "[CV]  n_estimators=1400, min_samples_split=7, min_samples_leaf=2, max_features=log2, max_depth=890, criterion=entropy, total= 1.9min\n",
      "[CV] n_estimators=1400, min_samples_split=7, min_samples_leaf=2, max_features=log2, max_depth=890, criterion=entropy \n",
      "[CV]  n_estimators=1400, min_samples_split=7, min_samples_leaf=2, max_features=log2, max_depth=890, criterion=entropy, total= 1.9min\n",
      "[CV] n_estimators=1400, min_samples_split=7, min_samples_leaf=2, max_features=log2, max_depth=890, criterion=entropy \n",
      "[CV]  n_estimators=1400, min_samples_split=7, min_samples_leaf=2, max_features=log2, max_depth=890, criterion=entropy, total= 1.9min\n",
      "[CV] n_estimators=1400, min_samples_split=2, min_samples_leaf=8, max_features=auto, max_depth=670, criterion=entropy \n",
      "[CV]  n_estimators=1400, min_samples_split=2, min_samples_leaf=8, max_features=auto, max_depth=670, criterion=entropy, total=13.7min\n",
      "[CV] n_estimators=1400, min_samples_split=2, min_samples_leaf=8, max_features=auto, max_depth=670, criterion=entropy \n",
      "[CV]  n_estimators=1400, min_samples_split=2, min_samples_leaf=8, max_features=auto, max_depth=670, criterion=entropy, total= 1.3min\n",
      "[CV] n_estimators=1400, min_samples_split=2, min_samples_leaf=8, max_features=auto, max_depth=670, criterion=entropy \n",
      "[CV]  n_estimators=1400, min_samples_split=2, min_samples_leaf=8, max_features=auto, max_depth=670, criterion=entropy, total= 1.3min\n",
      "[CV] n_estimators=1400, min_samples_split=4, min_samples_leaf=2, max_features=auto, max_depth=1000, criterion=gini \n",
      "[CV]  n_estimators=1400, min_samples_split=4, min_samples_leaf=2, max_features=auto, max_depth=1000, criterion=gini, total= 1.5min\n",
      "[CV] n_estimators=1400, min_samples_split=4, min_samples_leaf=2, max_features=auto, max_depth=1000, criterion=gini \n",
      "[CV]  n_estimators=1400, min_samples_split=4, min_samples_leaf=2, max_features=auto, max_depth=1000, criterion=gini, total= 1.5min\n",
      "[CV] n_estimators=1400, min_samples_split=4, min_samples_leaf=2, max_features=auto, max_depth=1000, criterion=gini \n"
     ]
    },
    {
     "name": "stdout",
     "output_type": "stream",
     "text": [
      "[CV]  n_estimators=1400, min_samples_split=4, min_samples_leaf=2, max_features=auto, max_depth=1000, criterion=gini, total= 1.5min\n",
      "[CV] n_estimators=1600, min_samples_split=5, min_samples_leaf=2, max_features=log2, max_depth=450, criterion=gini \n",
      "[CV]  n_estimators=1600, min_samples_split=5, min_samples_leaf=2, max_features=log2, max_depth=450, criterion=gini, total= 2.1min\n",
      "[CV] n_estimators=1600, min_samples_split=5, min_samples_leaf=2, max_features=log2, max_depth=450, criterion=gini \n",
      "[CV]  n_estimators=1600, min_samples_split=5, min_samples_leaf=2, max_features=log2, max_depth=450, criterion=gini, total= 2.0min\n",
      "[CV] n_estimators=1600, min_samples_split=5, min_samples_leaf=2, max_features=log2, max_depth=450, criterion=gini \n",
      "[CV]  n_estimators=1600, min_samples_split=5, min_samples_leaf=2, max_features=log2, max_depth=450, criterion=gini, total= 2.0min\n",
      "[CV] n_estimators=600, min_samples_split=3, min_samples_leaf=6, max_features=auto, max_depth=230, criterion=gini \n",
      "[CV]  n_estimators=600, min_samples_split=3, min_samples_leaf=6, max_features=auto, max_depth=230, criterion=gini, total=  33.8s\n",
      "[CV] n_estimators=600, min_samples_split=3, min_samples_leaf=6, max_features=auto, max_depth=230, criterion=gini \n",
      "[CV]  n_estimators=600, min_samples_split=3, min_samples_leaf=6, max_features=auto, max_depth=230, criterion=gini, total=  32.2s\n",
      "[CV] n_estimators=600, min_samples_split=3, min_samples_leaf=6, max_features=auto, max_depth=230, criterion=gini \n",
      "[CV]  n_estimators=600, min_samples_split=3, min_samples_leaf=6, max_features=auto, max_depth=230, criterion=gini, total=  31.9s\n",
      "[CV] n_estimators=600, min_samples_split=5, min_samples_leaf=2, max_features=log2, max_depth=230, criterion=gini \n",
      "[CV]  n_estimators=600, min_samples_split=5, min_samples_leaf=2, max_features=log2, max_depth=230, criterion=gini, total=  44.1s\n",
      "[CV] n_estimators=600, min_samples_split=5, min_samples_leaf=2, max_features=log2, max_depth=230, criterion=gini \n",
      "[CV]  n_estimators=600, min_samples_split=5, min_samples_leaf=2, max_features=log2, max_depth=230, criterion=gini, total=  43.7s\n",
      "[CV] n_estimators=600, min_samples_split=5, min_samples_leaf=2, max_features=log2, max_depth=230, criterion=gini \n",
      "[CV]  n_estimators=600, min_samples_split=5, min_samples_leaf=2, max_features=log2, max_depth=230, criterion=gini, total=  43.6s\n",
      "[CV] n_estimators=1000, min_samples_split=4, min_samples_leaf=1, max_features=log2, max_depth=1000, criterion=gini \n",
      "[CV]  n_estimators=1000, min_samples_split=4, min_samples_leaf=1, max_features=log2, max_depth=1000, criterion=gini, total= 1.3min\n",
      "[CV] n_estimators=1000, min_samples_split=4, min_samples_leaf=1, max_features=log2, max_depth=1000, criterion=gini \n",
      "[CV]  n_estimators=1000, min_samples_split=4, min_samples_leaf=1, max_features=log2, max_depth=1000, criterion=gini, total= 1.3min\n",
      "[CV] n_estimators=1000, min_samples_split=4, min_samples_leaf=1, max_features=log2, max_depth=1000, criterion=gini \n",
      "[CV]  n_estimators=1000, min_samples_split=4, min_samples_leaf=1, max_features=log2, max_depth=1000, criterion=gini, total= 1.3min\n",
      "[CV] n_estimators=1800, min_samples_split=9, min_samples_leaf=6, max_features=sqrt, max_depth=890, criterion=entropy \n",
      "[CV]  n_estimators=1800, min_samples_split=9, min_samples_leaf=6, max_features=sqrt, max_depth=890, criterion=entropy, total= 1.8min\n",
      "[CV] n_estimators=1800, min_samples_split=9, min_samples_leaf=6, max_features=sqrt, max_depth=890, criterion=entropy \n",
      "[CV]  n_estimators=1800, min_samples_split=9, min_samples_leaf=6, max_features=sqrt, max_depth=890, criterion=entropy, total= 2.0min\n",
      "[CV] n_estimators=1800, min_samples_split=9, min_samples_leaf=6, max_features=sqrt, max_depth=890, criterion=entropy \n",
      "[CV]  n_estimators=1800, min_samples_split=9, min_samples_leaf=6, max_features=sqrt, max_depth=890, criterion=entropy, total= 1.9min\n",
      "[CV] n_estimators=600, min_samples_split=9, min_samples_leaf=1, max_features=sqrt, max_depth=230, criterion=gini \n",
      "[CV]  n_estimators=600, min_samples_split=9, min_samples_leaf=1, max_features=sqrt, max_depth=230, criterion=gini, total=  35.1s\n",
      "[CV] n_estimators=600, min_samples_split=9, min_samples_leaf=1, max_features=sqrt, max_depth=230, criterion=gini \n",
      "[CV]  n_estimators=600, min_samples_split=9, min_samples_leaf=1, max_features=sqrt, max_depth=230, criterion=gini, total=  34.9s\n",
      "[CV] n_estimators=600, min_samples_split=9, min_samples_leaf=1, max_features=sqrt, max_depth=230, criterion=gini \n",
      "[CV]  n_estimators=600, min_samples_split=9, min_samples_leaf=1, max_features=sqrt, max_depth=230, criterion=gini, total=  35.1s\n",
      "[CV] n_estimators=800, min_samples_split=2, min_samples_leaf=4, max_features=log2, max_depth=10, criterion=gini \n",
      "[CV]  n_estimators=800, min_samples_split=2, min_samples_leaf=4, max_features=log2, max_depth=10, criterion=gini, total=  37.7s\n",
      "[CV] n_estimators=800, min_samples_split=2, min_samples_leaf=4, max_features=log2, max_depth=10, criterion=gini \n",
      "[CV]  n_estimators=800, min_samples_split=2, min_samples_leaf=4, max_features=log2, max_depth=10, criterion=gini, total=  39.2s\n",
      "[CV] n_estimators=800, min_samples_split=2, min_samples_leaf=4, max_features=log2, max_depth=10, criterion=gini \n",
      "[CV]  n_estimators=800, min_samples_split=2, min_samples_leaf=4, max_features=log2, max_depth=10, criterion=gini, total=  37.8s\n",
      "[CV] n_estimators=2000, min_samples_split=2, min_samples_leaf=2, max_features=sqrt, max_depth=670, criterion=entropy \n",
      "[CV]  n_estimators=2000, min_samples_split=2, min_samples_leaf=2, max_features=sqrt, max_depth=670, criterion=entropy, total= 3.1min\n",
      "[CV] n_estimators=2000, min_samples_split=2, min_samples_leaf=2, max_features=sqrt, max_depth=670, criterion=entropy \n",
      "[CV]  n_estimators=2000, min_samples_split=2, min_samples_leaf=2, max_features=sqrt, max_depth=670, criterion=entropy, total= 2.4min\n",
      "[CV] n_estimators=2000, min_samples_split=2, min_samples_leaf=2, max_features=sqrt, max_depth=670, criterion=entropy \n",
      "[CV]  n_estimators=2000, min_samples_split=2, min_samples_leaf=2, max_features=sqrt, max_depth=670, criterion=entropy, total= 2.4min\n",
      "[CV] n_estimators=800, min_samples_split=5, min_samples_leaf=4, max_features=auto, max_depth=780, criterion=gini \n",
      "[CV]  n_estimators=800, min_samples_split=5, min_samples_leaf=4, max_features=auto, max_depth=780, criterion=gini, total=19.7min\n",
      "[CV] n_estimators=800, min_samples_split=5, min_samples_leaf=4, max_features=auto, max_depth=780, criterion=gini \n",
      "[CV]  n_estimators=800, min_samples_split=5, min_samples_leaf=4, max_features=auto, max_depth=780, criterion=gini, total=  54.9s\n",
      "[CV] n_estimators=800, min_samples_split=5, min_samples_leaf=4, max_features=auto, max_depth=780, criterion=gini \n",
      "[CV]  n_estimators=800, min_samples_split=5, min_samples_leaf=4, max_features=auto, max_depth=780, criterion=gini, total=  46.5s\n",
      "[CV] n_estimators=200, min_samples_split=9, min_samples_leaf=6, max_features=log2, max_depth=670, criterion=entropy \n",
      "[CV]  n_estimators=200, min_samples_split=9, min_samples_leaf=6, max_features=log2, max_depth=670, criterion=entropy, total=  18.4s\n",
      "[CV] n_estimators=200, min_samples_split=9, min_samples_leaf=6, max_features=log2, max_depth=670, criterion=entropy \n",
      "[CV]  n_estimators=200, min_samples_split=9, min_samples_leaf=6, max_features=log2, max_depth=670, criterion=entropy, total=  15.4s\n",
      "[CV] n_estimators=200, min_samples_split=9, min_samples_leaf=6, max_features=log2, max_depth=670, criterion=entropy \n",
      "[CV]  n_estimators=200, min_samples_split=9, min_samples_leaf=6, max_features=log2, max_depth=670, criterion=entropy, total=  18.3s\n",
      "[CV] n_estimators=1600, min_samples_split=4, min_samples_leaf=2, max_features=sqrt, max_depth=670, criterion=entropy \n",
      "[CV]  n_estimators=1600, min_samples_split=4, min_samples_leaf=2, max_features=sqrt, max_depth=670, criterion=entropy, total= 1.9min\n",
      "[CV] n_estimators=1600, min_samples_split=4, min_samples_leaf=2, max_features=sqrt, max_depth=670, criterion=entropy \n",
      "[CV]  n_estimators=1600, min_samples_split=4, min_samples_leaf=2, max_features=sqrt, max_depth=670, criterion=entropy, total= 2.2min\n",
      "[CV] n_estimators=1600, min_samples_split=4, min_samples_leaf=2, max_features=sqrt, max_depth=670, criterion=entropy \n",
      "[CV]  n_estimators=1600, min_samples_split=4, min_samples_leaf=2, max_features=sqrt, max_depth=670, criterion=entropy, total= 1.9min\n",
      "[CV] n_estimators=800, min_samples_split=5, min_samples_leaf=6, max_features=sqrt, max_depth=340, criterion=entropy \n"
     ]
    },
    {
     "name": "stdout",
     "output_type": "stream",
     "text": [
      "[CV]  n_estimators=800, min_samples_split=5, min_samples_leaf=6, max_features=sqrt, max_depth=340, criterion=entropy, total=  48.2s\n",
      "[CV] n_estimators=800, min_samples_split=5, min_samples_leaf=6, max_features=sqrt, max_depth=340, criterion=entropy \n",
      "[CV]  n_estimators=800, min_samples_split=5, min_samples_leaf=6, max_features=sqrt, max_depth=340, criterion=entropy, total=  47.4s\n",
      "[CV] n_estimators=800, min_samples_split=5, min_samples_leaf=6, max_features=sqrt, max_depth=340, criterion=entropy \n",
      "[CV]  n_estimators=800, min_samples_split=5, min_samples_leaf=6, max_features=sqrt, max_depth=340, criterion=entropy, total=  48.2s\n",
      "[CV] n_estimators=400, min_samples_split=2, min_samples_leaf=1, max_features=log2, max_depth=780, criterion=entropy \n",
      "[CV]  n_estimators=400, min_samples_split=2, min_samples_leaf=1, max_features=log2, max_depth=780, criterion=entropy, total=  40.1s\n",
      "[CV] n_estimators=400, min_samples_split=2, min_samples_leaf=1, max_features=log2, max_depth=780, criterion=entropy \n",
      "[CV]  n_estimators=400, min_samples_split=2, min_samples_leaf=1, max_features=log2, max_depth=780, criterion=entropy, total=  39.3s\n",
      "[CV] n_estimators=400, min_samples_split=2, min_samples_leaf=1, max_features=log2, max_depth=780, criterion=entropy \n",
      "[CV]  n_estimators=400, min_samples_split=2, min_samples_leaf=1, max_features=log2, max_depth=780, criterion=entropy, total=  38.6s\n",
      "[CV] n_estimators=200, min_samples_split=2, min_samples_leaf=1, max_features=sqrt, max_depth=450, criterion=gini \n",
      "[CV]  n_estimators=200, min_samples_split=2, min_samples_leaf=1, max_features=sqrt, max_depth=450, criterion=gini, total=  13.1s\n",
      "[CV] n_estimators=200, min_samples_split=2, min_samples_leaf=1, max_features=sqrt, max_depth=450, criterion=gini \n",
      "[CV]  n_estimators=200, min_samples_split=2, min_samples_leaf=1, max_features=sqrt, max_depth=450, criterion=gini, total=  13.1s\n",
      "[CV] n_estimators=200, min_samples_split=2, min_samples_leaf=1, max_features=sqrt, max_depth=450, criterion=gini \n",
      "[CV]  n_estimators=200, min_samples_split=2, min_samples_leaf=1, max_features=sqrt, max_depth=450, criterion=gini, total=  12.9s\n",
      "[CV] n_estimators=800, min_samples_split=7, min_samples_leaf=1, max_features=auto, max_depth=230, criterion=gini \n",
      "[CV]  n_estimators=800, min_samples_split=7, min_samples_leaf=1, max_features=auto, max_depth=230, criterion=gini, total=  47.2s\n",
      "[CV] n_estimators=800, min_samples_split=7, min_samples_leaf=1, max_features=auto, max_depth=230, criterion=gini \n",
      "[CV]  n_estimators=800, min_samples_split=7, min_samples_leaf=1, max_features=auto, max_depth=230, criterion=gini, total=  49.1s\n",
      "[CV] n_estimators=800, min_samples_split=7, min_samples_leaf=1, max_features=auto, max_depth=230, criterion=gini \n",
      "[CV]  n_estimators=800, min_samples_split=7, min_samples_leaf=1, max_features=auto, max_depth=230, criterion=gini, total=  48.5s\n",
      "[CV] n_estimators=2000, min_samples_split=5, min_samples_leaf=6, max_features=sqrt, max_depth=340, criterion=gini \n",
      "[CV]  n_estimators=2000, min_samples_split=5, min_samples_leaf=6, max_features=sqrt, max_depth=340, criterion=gini, total= 1.9min\n",
      "[CV] n_estimators=2000, min_samples_split=5, min_samples_leaf=6, max_features=sqrt, max_depth=340, criterion=gini \n",
      "[CV]  n_estimators=2000, min_samples_split=5, min_samples_leaf=6, max_features=sqrt, max_depth=340, criterion=gini, total= 1.9min\n",
      "[CV] n_estimators=2000, min_samples_split=5, min_samples_leaf=6, max_features=sqrt, max_depth=340, criterion=gini \n",
      "[CV]  n_estimators=2000, min_samples_split=5, min_samples_leaf=6, max_features=sqrt, max_depth=340, criterion=gini, total= 1.9min\n",
      "[CV] n_estimators=1200, min_samples_split=9, min_samples_leaf=8, max_features=log2, max_depth=230, criterion=gini \n",
      "[CV]  n_estimators=1200, min_samples_split=9, min_samples_leaf=8, max_features=log2, max_depth=230, criterion=gini, total= 1.2min\n",
      "[CV] n_estimators=1200, min_samples_split=9, min_samples_leaf=8, max_features=log2, max_depth=230, criterion=gini \n",
      "[CV]  n_estimators=1200, min_samples_split=9, min_samples_leaf=8, max_features=log2, max_depth=230, criterion=gini, total= 1.2min\n",
      "[CV] n_estimators=1200, min_samples_split=9, min_samples_leaf=8, max_features=log2, max_depth=230, criterion=gini \n",
      "[CV]  n_estimators=1200, min_samples_split=9, min_samples_leaf=8, max_features=log2, max_depth=230, criterion=gini, total= 1.2min\n",
      "[CV] n_estimators=1600, min_samples_split=9, min_samples_leaf=1, max_features=log2, max_depth=120, criterion=gini \n",
      "[CV]  n_estimators=1600, min_samples_split=9, min_samples_leaf=1, max_features=log2, max_depth=120, criterion=gini, total= 2.0min\n",
      "[CV] n_estimators=1600, min_samples_split=9, min_samples_leaf=1, max_features=log2, max_depth=120, criterion=gini \n",
      "[CV]  n_estimators=1600, min_samples_split=9, min_samples_leaf=1, max_features=log2, max_depth=120, criterion=gini, total= 1.9min\n",
      "[CV] n_estimators=1600, min_samples_split=9, min_samples_leaf=1, max_features=log2, max_depth=120, criterion=gini \n",
      "[CV]  n_estimators=1600, min_samples_split=9, min_samples_leaf=1, max_features=log2, max_depth=120, criterion=gini, total= 1.9min\n",
      "[CV] n_estimators=200, min_samples_split=9, min_samples_leaf=4, max_features=sqrt, max_depth=450, criterion=gini \n",
      "[CV]  n_estimators=200, min_samples_split=9, min_samples_leaf=4, max_features=sqrt, max_depth=450, criterion=gini, total=  11.6s\n",
      "[CV] n_estimators=200, min_samples_split=9, min_samples_leaf=4, max_features=sqrt, max_depth=450, criterion=gini \n",
      "[CV]  n_estimators=200, min_samples_split=9, min_samples_leaf=4, max_features=sqrt, max_depth=450, criterion=gini, total=  11.1s\n",
      "[CV] n_estimators=200, min_samples_split=9, min_samples_leaf=4, max_features=sqrt, max_depth=450, criterion=gini \n",
      "[CV]  n_estimators=200, min_samples_split=9, min_samples_leaf=4, max_features=sqrt, max_depth=450, criterion=gini, total=  11.0s\n",
      "[CV] n_estimators=1400, min_samples_split=2, min_samples_leaf=6, max_features=auto, max_depth=890, criterion=gini \n",
      "[CV]  n_estimators=1400, min_samples_split=2, min_samples_leaf=6, max_features=auto, max_depth=890, criterion=gini, total= 1.3min\n",
      "[CV] n_estimators=1400, min_samples_split=2, min_samples_leaf=6, max_features=auto, max_depth=890, criterion=gini \n",
      "[CV]  n_estimators=1400, min_samples_split=2, min_samples_leaf=6, max_features=auto, max_depth=890, criterion=gini, total= 1.3min\n",
      "[CV] n_estimators=1400, min_samples_split=2, min_samples_leaf=6, max_features=auto, max_depth=890, criterion=gini \n",
      "[CV]  n_estimators=1400, min_samples_split=2, min_samples_leaf=6, max_features=auto, max_depth=890, criterion=gini, total= 1.3min\n",
      "[CV] n_estimators=2000, min_samples_split=7, min_samples_leaf=8, max_features=log2, max_depth=10, criterion=entropy \n",
      "[CV]  n_estimators=2000, min_samples_split=7, min_samples_leaf=8, max_features=log2, max_depth=10, criterion=entropy, total= 1.6min\n",
      "[CV] n_estimators=2000, min_samples_split=7, min_samples_leaf=8, max_features=log2, max_depth=10, criterion=entropy \n",
      "[CV]  n_estimators=2000, min_samples_split=7, min_samples_leaf=8, max_features=log2, max_depth=10, criterion=entropy, total= 1.6min\n",
      "[CV] n_estimators=2000, min_samples_split=7, min_samples_leaf=8, max_features=log2, max_depth=10, criterion=entropy \n",
      "[CV]  n_estimators=2000, min_samples_split=7, min_samples_leaf=8, max_features=log2, max_depth=10, criterion=entropy, total= 1.6min\n",
      "[CV] n_estimators=800, min_samples_split=5, min_samples_leaf=6, max_features=auto, max_depth=560, criterion=entropy \n",
      "[CV]  n_estimators=800, min_samples_split=5, min_samples_leaf=6, max_features=auto, max_depth=560, criterion=entropy, total=  46.2s\n",
      "[CV] n_estimators=800, min_samples_split=5, min_samples_leaf=6, max_features=auto, max_depth=560, criterion=entropy \n",
      "[CV]  n_estimators=800, min_samples_split=5, min_samples_leaf=6, max_features=auto, max_depth=560, criterion=entropy, total=  46.7s\n",
      "[CV] n_estimators=800, min_samples_split=5, min_samples_leaf=6, max_features=auto, max_depth=560, criterion=entropy \n",
      "[CV]  n_estimators=800, min_samples_split=5, min_samples_leaf=6, max_features=auto, max_depth=560, criterion=entropy, total=  46.4s\n",
      "[CV] n_estimators=1400, min_samples_split=2, min_samples_leaf=4, max_features=log2, max_depth=230, criterion=entropy \n",
      "[CV]  n_estimators=1400, min_samples_split=2, min_samples_leaf=4, max_features=log2, max_depth=230, criterion=entropy, total= 1.8min\n"
     ]
    },
    {
     "name": "stdout",
     "output_type": "stream",
     "text": [
      "[CV] n_estimators=1400, min_samples_split=2, min_samples_leaf=4, max_features=log2, max_depth=230, criterion=entropy \n",
      "[CV]  n_estimators=1400, min_samples_split=2, min_samples_leaf=4, max_features=log2, max_depth=230, criterion=entropy, total= 1.8min\n",
      "[CV] n_estimators=1400, min_samples_split=2, min_samples_leaf=4, max_features=log2, max_depth=230, criterion=entropy \n",
      "[CV]  n_estimators=1400, min_samples_split=2, min_samples_leaf=4, max_features=log2, max_depth=230, criterion=entropy, total= 1.8min\n",
      "[CV] n_estimators=1000, min_samples_split=5, min_samples_leaf=4, max_features=auto, max_depth=890, criterion=gini \n",
      "[CV]  n_estimators=1000, min_samples_split=5, min_samples_leaf=4, max_features=auto, max_depth=890, criterion=gini, total=  56.3s\n",
      "[CV] n_estimators=1000, min_samples_split=5, min_samples_leaf=4, max_features=auto, max_depth=890, criterion=gini \n",
      "[CV]  n_estimators=1000, min_samples_split=5, min_samples_leaf=4, max_features=auto, max_depth=890, criterion=gini, total=  57.0s\n",
      "[CV] n_estimators=1000, min_samples_split=5, min_samples_leaf=4, max_features=auto, max_depth=890, criterion=gini \n",
      "[CV]  n_estimators=1000, min_samples_split=5, min_samples_leaf=4, max_features=auto, max_depth=890, criterion=gini, total=  56.6s\n",
      "[CV] n_estimators=400, min_samples_split=5, min_samples_leaf=8, max_features=log2, max_depth=340, criterion=gini \n",
      "[CV]  n_estimators=400, min_samples_split=5, min_samples_leaf=8, max_features=log2, max_depth=340, criterion=gini, total=  24.6s\n",
      "[CV] n_estimators=400, min_samples_split=5, min_samples_leaf=8, max_features=log2, max_depth=340, criterion=gini \n",
      "[CV]  n_estimators=400, min_samples_split=5, min_samples_leaf=8, max_features=log2, max_depth=340, criterion=gini, total=  24.2s\n",
      "[CV] n_estimators=400, min_samples_split=5, min_samples_leaf=8, max_features=log2, max_depth=340, criterion=gini \n",
      "[CV]  n_estimators=400, min_samples_split=5, min_samples_leaf=8, max_features=log2, max_depth=340, criterion=gini, total=  25.4s\n",
      "[CV] n_estimators=600, min_samples_split=9, min_samples_leaf=8, max_features=auto, max_depth=340, criterion=entropy \n",
      "[CV]  n_estimators=600, min_samples_split=9, min_samples_leaf=8, max_features=auto, max_depth=340, criterion=entropy, total=  32.2s\n",
      "[CV] n_estimators=600, min_samples_split=9, min_samples_leaf=8, max_features=auto, max_depth=340, criterion=entropy \n",
      "[CV]  n_estimators=600, min_samples_split=9, min_samples_leaf=8, max_features=auto, max_depth=340, criterion=entropy, total=  32.5s\n",
      "[CV] n_estimators=600, min_samples_split=9, min_samples_leaf=8, max_features=auto, max_depth=340, criterion=entropy \n",
      "[CV]  n_estimators=600, min_samples_split=9, min_samples_leaf=8, max_features=auto, max_depth=340, criterion=entropy, total=  32.6s\n",
      "[CV] n_estimators=1600, min_samples_split=7, min_samples_leaf=4, max_features=log2, max_depth=230, criterion=gini \n",
      "[CV]  n_estimators=1600, min_samples_split=7, min_samples_leaf=4, max_features=log2, max_depth=230, criterion=gini, total= 1.8min\n",
      "[CV] n_estimators=1600, min_samples_split=7, min_samples_leaf=4, max_features=log2, max_depth=230, criterion=gini \n",
      "[CV]  n_estimators=1600, min_samples_split=7, min_samples_leaf=4, max_features=log2, max_depth=230, criterion=gini, total= 1.9min\n",
      "[CV] n_estimators=1600, min_samples_split=7, min_samples_leaf=4, max_features=log2, max_depth=230, criterion=gini \n",
      "[CV]  n_estimators=1600, min_samples_split=7, min_samples_leaf=4, max_features=log2, max_depth=230, criterion=gini, total= 1.9min\n",
      "[CV] n_estimators=2000, min_samples_split=7, min_samples_leaf=1, max_features=sqrt, max_depth=450, criterion=entropy \n",
      "[CV]  n_estimators=2000, min_samples_split=7, min_samples_leaf=1, max_features=sqrt, max_depth=450, criterion=entropy, total= 2.3min\n",
      "[CV] n_estimators=2000, min_samples_split=7, min_samples_leaf=1, max_features=sqrt, max_depth=450, criterion=entropy \n",
      "[CV]  n_estimators=2000, min_samples_split=7, min_samples_leaf=1, max_features=sqrt, max_depth=450, criterion=entropy, total= 2.5min\n",
      "[CV] n_estimators=2000, min_samples_split=7, min_samples_leaf=1, max_features=sqrt, max_depth=450, criterion=entropy \n",
      "[CV]  n_estimators=2000, min_samples_split=7, min_samples_leaf=1, max_features=sqrt, max_depth=450, criterion=entropy, total= 2.4min\n",
      "[CV] n_estimators=1400, min_samples_split=4, min_samples_leaf=6, max_features=log2, max_depth=10, criterion=entropy \n",
      "[CV]  n_estimators=1400, min_samples_split=4, min_samples_leaf=6, max_features=log2, max_depth=10, criterion=entropy, total= 1.1min\n",
      "[CV] n_estimators=1400, min_samples_split=4, min_samples_leaf=6, max_features=log2, max_depth=10, criterion=entropy \n",
      "[CV]  n_estimators=1400, min_samples_split=4, min_samples_leaf=6, max_features=log2, max_depth=10, criterion=entropy, total= 1.1min\n",
      "[CV] n_estimators=1400, min_samples_split=4, min_samples_leaf=6, max_features=log2, max_depth=10, criterion=entropy \n",
      "[CV]  n_estimators=1400, min_samples_split=4, min_samples_leaf=6, max_features=log2, max_depth=10, criterion=entropy, total= 1.1min\n",
      "[CV] n_estimators=600, min_samples_split=5, min_samples_leaf=6, max_features=sqrt, max_depth=120, criterion=gini \n",
      "[CV]  n_estimators=600, min_samples_split=5, min_samples_leaf=6, max_features=sqrt, max_depth=120, criterion=gini, total=  31.8s\n",
      "[CV] n_estimators=600, min_samples_split=5, min_samples_leaf=6, max_features=sqrt, max_depth=120, criterion=gini \n",
      "[CV]  n_estimators=600, min_samples_split=5, min_samples_leaf=6, max_features=sqrt, max_depth=120, criterion=gini, total=  31.9s\n",
      "[CV] n_estimators=600, min_samples_split=5, min_samples_leaf=6, max_features=sqrt, max_depth=120, criterion=gini \n",
      "[CV]  n_estimators=600, min_samples_split=5, min_samples_leaf=6, max_features=sqrt, max_depth=120, criterion=gini, total=  31.9s\n",
      "[CV] n_estimators=1400, min_samples_split=2, min_samples_leaf=2, max_features=sqrt, max_depth=1000, criterion=entropy \n",
      "[CV]  n_estimators=1400, min_samples_split=2, min_samples_leaf=2, max_features=sqrt, max_depth=1000, criterion=entropy, total= 1.6min\n",
      "[CV] n_estimators=1400, min_samples_split=2, min_samples_leaf=2, max_features=sqrt, max_depth=1000, criterion=entropy \n",
      "[CV]  n_estimators=1400, min_samples_split=2, min_samples_leaf=2, max_features=sqrt, max_depth=1000, criterion=entropy, total= 1.6min\n",
      "[CV] n_estimators=1400, min_samples_split=2, min_samples_leaf=2, max_features=sqrt, max_depth=1000, criterion=entropy \n",
      "[CV]  n_estimators=1400, min_samples_split=2, min_samples_leaf=2, max_features=sqrt, max_depth=1000, criterion=entropy, total= 1.6min\n",
      "[CV] n_estimators=1000, min_samples_split=9, min_samples_leaf=4, max_features=log2, max_depth=780, criterion=entropy \n",
      "[CV]  n_estimators=1000, min_samples_split=9, min_samples_leaf=4, max_features=log2, max_depth=780, criterion=entropy, total= 1.2min\n",
      "[CV] n_estimators=1000, min_samples_split=9, min_samples_leaf=4, max_features=log2, max_depth=780, criterion=entropy \n",
      "[CV]  n_estimators=1000, min_samples_split=9, min_samples_leaf=4, max_features=log2, max_depth=780, criterion=entropy, total= 1.2min\n",
      "[CV] n_estimators=1000, min_samples_split=9, min_samples_leaf=4, max_features=log2, max_depth=780, criterion=entropy \n",
      "[CV]  n_estimators=1000, min_samples_split=9, min_samples_leaf=4, max_features=log2, max_depth=780, criterion=entropy, total= 1.2min\n",
      "[CV] n_estimators=1800, min_samples_split=9, min_samples_leaf=6, max_features=log2, max_depth=120, criterion=entropy \n",
      "[CV]  n_estimators=1800, min_samples_split=9, min_samples_leaf=6, max_features=log2, max_depth=120, criterion=entropy, total= 2.2min\n",
      "[CV] n_estimators=1800, min_samples_split=9, min_samples_leaf=6, max_features=log2, max_depth=120, criterion=entropy \n",
      "[CV]  n_estimators=1800, min_samples_split=9, min_samples_leaf=6, max_features=log2, max_depth=120, criterion=entropy, total= 2.1min\n",
      "[CV] n_estimators=1800, min_samples_split=9, min_samples_leaf=6, max_features=log2, max_depth=120, criterion=entropy \n",
      "[CV]  n_estimators=1800, min_samples_split=9, min_samples_leaf=6, max_features=log2, max_depth=120, criterion=entropy, total= 2.1min\n",
      "[CV] n_estimators=400, min_samples_split=4, min_samples_leaf=4, max_features=log2, max_depth=10, criterion=gini \n",
      "[CV]  n_estimators=400, min_samples_split=4, min_samples_leaf=4, max_features=log2, max_depth=10, criterion=gini, total=  18.2s\n",
      "[CV] n_estimators=400, min_samples_split=4, min_samples_leaf=4, max_features=log2, max_depth=10, criterion=gini \n"
     ]
    },
    {
     "name": "stdout",
     "output_type": "stream",
     "text": [
      "[CV]  n_estimators=400, min_samples_split=4, min_samples_leaf=4, max_features=log2, max_depth=10, criterion=gini, total=  18.8s\n",
      "[CV] n_estimators=400, min_samples_split=4, min_samples_leaf=4, max_features=log2, max_depth=10, criterion=gini \n",
      "[CV]  n_estimators=400, min_samples_split=4, min_samples_leaf=4, max_features=log2, max_depth=10, criterion=gini, total=  18.7s\n",
      "[CV] n_estimators=200, min_samples_split=5, min_samples_leaf=2, max_features=auto, max_depth=780, criterion=gini \n",
      "[CV]  n_estimators=200, min_samples_split=5, min_samples_leaf=2, max_features=auto, max_depth=780, criterion=gini, total=  11.6s\n",
      "[CV] n_estimators=200, min_samples_split=5, min_samples_leaf=2, max_features=auto, max_depth=780, criterion=gini \n",
      "[CV]  n_estimators=200, min_samples_split=5, min_samples_leaf=2, max_features=auto, max_depth=780, criterion=gini, total=  11.6s\n",
      "[CV] n_estimators=200, min_samples_split=5, min_samples_leaf=2, max_features=auto, max_depth=780, criterion=gini \n",
      "[CV]  n_estimators=200, min_samples_split=5, min_samples_leaf=2, max_features=auto, max_depth=780, criterion=gini, total=  11.6s\n",
      "[CV] n_estimators=2000, min_samples_split=7, min_samples_leaf=2, max_features=auto, max_depth=1000, criterion=entropy \n",
      "[CV]  n_estimators=2000, min_samples_split=7, min_samples_leaf=2, max_features=auto, max_depth=1000, criterion=entropy, total= 2.2min\n",
      "[CV] n_estimators=2000, min_samples_split=7, min_samples_leaf=2, max_features=auto, max_depth=1000, criterion=entropy \n",
      "[CV]  n_estimators=2000, min_samples_split=7, min_samples_leaf=2, max_features=auto, max_depth=1000, criterion=entropy, total= 7.8min\n",
      "[CV] n_estimators=400, min_samples_split=4, min_samples_leaf=1, max_features=auto, max_depth=890, criterion=entropy \n",
      "[CV]  n_estimators=400, min_samples_split=4, min_samples_leaf=1, max_features=auto, max_depth=890, criterion=entropy, total=  38.2s\n",
      "[CV] n_estimators=400, min_samples_split=4, min_samples_leaf=1, max_features=auto, max_depth=890, criterion=entropy \n",
      "[CV]  n_estimators=400, min_samples_split=4, min_samples_leaf=1, max_features=auto, max_depth=890, criterion=entropy, total=  29.3s\n",
      "[CV] n_estimators=400, min_samples_split=4, min_samples_leaf=1, max_features=auto, max_depth=890, criterion=entropy \n",
      "[CV]  n_estimators=400, min_samples_split=4, min_samples_leaf=1, max_features=auto, max_depth=890, criterion=entropy, total=  29.6s\n",
      "[CV] n_estimators=600, min_samples_split=5, min_samples_leaf=6, max_features=log2, max_depth=670, criterion=entropy \n",
      "[CV]  n_estimators=600, min_samples_split=5, min_samples_leaf=6, max_features=log2, max_depth=670, criterion=entropy, total=  54.5s\n",
      "[CV] n_estimators=600, min_samples_split=5, min_samples_leaf=6, max_features=log2, max_depth=670, criterion=entropy \n",
      "[CV]  n_estimators=600, min_samples_split=5, min_samples_leaf=6, max_features=log2, max_depth=670, criterion=entropy, total=  43.8s\n",
      "[CV] n_estimators=600, min_samples_split=5, min_samples_leaf=6, max_features=log2, max_depth=670, criterion=entropy \n",
      "[CV]  n_estimators=600, min_samples_split=5, min_samples_leaf=6, max_features=log2, max_depth=670, criterion=entropy, total=  48.5s\n",
      "[CV] n_estimators=1800, min_samples_split=2, min_samples_leaf=6, max_features=sqrt, max_depth=10, criterion=entropy \n",
      "[CV]  n_estimators=1800, min_samples_split=2, min_samples_leaf=6, max_features=sqrt, max_depth=10, criterion=entropy, total= 1.2min\n",
      "[CV] n_estimators=1800, min_samples_split=2, min_samples_leaf=6, max_features=sqrt, max_depth=10, criterion=entropy \n",
      "[CV]  n_estimators=1800, min_samples_split=2, min_samples_leaf=6, max_features=sqrt, max_depth=10, criterion=entropy, total= 1.2min\n",
      "[CV] n_estimators=1800, min_samples_split=2, min_samples_leaf=6, max_features=sqrt, max_depth=10, criterion=entropy \n",
      "[CV]  n_estimators=1800, min_samples_split=2, min_samples_leaf=6, max_features=sqrt, max_depth=10, criterion=entropy, total= 1.2min\n",
      "[CV] n_estimators=600, min_samples_split=2, min_samples_leaf=6, max_features=log2, max_depth=670, criterion=gini \n",
      "[CV]  n_estimators=600, min_samples_split=2, min_samples_leaf=6, max_features=log2, max_depth=670, criterion=gini, total=  38.8s\n",
      "[CV] n_estimators=600, min_samples_split=2, min_samples_leaf=6, max_features=log2, max_depth=670, criterion=gini \n",
      "[CV]  n_estimators=600, min_samples_split=2, min_samples_leaf=6, max_features=log2, max_depth=670, criterion=gini, total=  38.5s\n",
      "[CV] n_estimators=600, min_samples_split=2, min_samples_leaf=6, max_features=log2, max_depth=670, criterion=gini \n",
      "[CV]  n_estimators=600, min_samples_split=2, min_samples_leaf=6, max_features=log2, max_depth=670, criterion=gini, total=  38.9s\n",
      "[CV] n_estimators=200, min_samples_split=2, min_samples_leaf=2, max_features=auto, max_depth=780, criterion=gini \n",
      "[CV]  n_estimators=200, min_samples_split=2, min_samples_leaf=2, max_features=auto, max_depth=780, criterion=gini, total=  13.0s\n",
      "[CV] n_estimators=200, min_samples_split=2, min_samples_leaf=2, max_features=auto, max_depth=780, criterion=gini \n",
      "[CV]  n_estimators=200, min_samples_split=2, min_samples_leaf=2, max_features=auto, max_depth=780, criterion=gini, total=  15.0s\n",
      "[CV] n_estimators=200, min_samples_split=2, min_samples_leaf=2, max_features=auto, max_depth=780, criterion=gini \n",
      "[CV]  n_estimators=200, min_samples_split=2, min_samples_leaf=2, max_features=auto, max_depth=780, criterion=gini, total=  14.6s\n",
      "[CV] n_estimators=2000, min_samples_split=4, min_samples_leaf=6, max_features=sqrt, max_depth=450, criterion=entropy \n",
      "[CV]  n_estimators=2000, min_samples_split=4, min_samples_leaf=6, max_features=sqrt, max_depth=450, criterion=entropy, total= 2.1min\n",
      "[CV] n_estimators=2000, min_samples_split=4, min_samples_leaf=6, max_features=sqrt, max_depth=450, criterion=entropy \n",
      "[CV]  n_estimators=2000, min_samples_split=4, min_samples_leaf=6, max_features=sqrt, max_depth=450, criterion=entropy, total= 2.1min\n",
      "[CV] n_estimators=2000, min_samples_split=4, min_samples_leaf=6, max_features=sqrt, max_depth=450, criterion=entropy \n",
      "[CV]  n_estimators=2000, min_samples_split=4, min_samples_leaf=6, max_features=sqrt, max_depth=450, criterion=entropy, total= 2.0min\n",
      "[CV] n_estimators=1200, min_samples_split=4, min_samples_leaf=6, max_features=log2, max_depth=560, criterion=entropy \n",
      "[CV]  n_estimators=1200, min_samples_split=4, min_samples_leaf=6, max_features=log2, max_depth=560, criterion=entropy, total= 1.4min\n",
      "[CV] n_estimators=1200, min_samples_split=4, min_samples_leaf=6, max_features=log2, max_depth=560, criterion=entropy \n",
      "[CV]  n_estimators=1200, min_samples_split=4, min_samples_leaf=6, max_features=log2, max_depth=560, criterion=entropy, total= 1.4min\n",
      "[CV] n_estimators=1200, min_samples_split=4, min_samples_leaf=6, max_features=log2, max_depth=560, criterion=entropy \n",
      "[CV]  n_estimators=1200, min_samples_split=4, min_samples_leaf=6, max_features=log2, max_depth=560, criterion=entropy, total= 1.4min\n",
      "[CV] n_estimators=600, min_samples_split=7, min_samples_leaf=2, max_features=log2, max_depth=120, criterion=gini \n",
      "[CV]  n_estimators=600, min_samples_split=7, min_samples_leaf=2, max_features=log2, max_depth=120, criterion=gini, total=  41.7s\n",
      "[CV] n_estimators=600, min_samples_split=7, min_samples_leaf=2, max_features=log2, max_depth=120, criterion=gini \n",
      "[CV]  n_estimators=600, min_samples_split=7, min_samples_leaf=2, max_features=log2, max_depth=120, criterion=gini, total=  42.0s\n",
      "[CV] n_estimators=600, min_samples_split=7, min_samples_leaf=2, max_features=log2, max_depth=120, criterion=gini \n",
      "[CV]  n_estimators=600, min_samples_split=7, min_samples_leaf=2, max_features=log2, max_depth=120, criterion=gini, total=  41.5s\n",
      "[CV] n_estimators=1600, min_samples_split=4, min_samples_leaf=1, max_features=log2, max_depth=450, criterion=entropy \n",
      "[CV]  n_estimators=1600, min_samples_split=4, min_samples_leaf=1, max_features=log2, max_depth=450, criterion=entropy, total=174.7min\n",
      "[CV] n_estimators=1600, min_samples_split=4, min_samples_leaf=1, max_features=log2, max_depth=450, criterion=entropy \n",
      "[CV]  n_estimators=1600, min_samples_split=4, min_samples_leaf=1, max_features=log2, max_depth=450, criterion=entropy, total= 3.2min\n",
      "[CV] n_estimators=1600, min_samples_split=4, min_samples_leaf=1, max_features=log2, max_depth=450, criterion=entropy \n",
      "[CV]  n_estimators=1600, min_samples_split=4, min_samples_leaf=1, max_features=log2, max_depth=450, criterion=entropy, total= 2.5min\n"
     ]
    },
    {
     "name": "stdout",
     "output_type": "stream",
     "text": [
      "[CV] n_estimators=1600, min_samples_split=7, min_samples_leaf=4, max_features=log2, max_depth=120, criterion=entropy \n",
      "[CV]  n_estimators=1600, min_samples_split=7, min_samples_leaf=4, max_features=log2, max_depth=120, criterion=entropy, total= 2.1min\n",
      "[CV] n_estimators=1600, min_samples_split=7, min_samples_leaf=4, max_features=log2, max_depth=120, criterion=entropy \n",
      "[CV]  n_estimators=1600, min_samples_split=7, min_samples_leaf=4, max_features=log2, max_depth=120, criterion=entropy, total= 2.1min\n",
      "[CV] n_estimators=1600, min_samples_split=7, min_samples_leaf=4, max_features=log2, max_depth=120, criterion=entropy \n",
      "[CV]  n_estimators=1600, min_samples_split=7, min_samples_leaf=4, max_features=log2, max_depth=120, criterion=entropy, total= 2.3min\n",
      "[CV] n_estimators=2000, min_samples_split=9, min_samples_leaf=4, max_features=log2, max_depth=780, criterion=gini \n",
      "[CV]  n_estimators=2000, min_samples_split=9, min_samples_leaf=4, max_features=log2, max_depth=780, criterion=gini, total= 2.3min\n",
      "[CV] n_estimators=2000, min_samples_split=9, min_samples_leaf=4, max_features=log2, max_depth=780, criterion=gini \n",
      "[CV]  n_estimators=2000, min_samples_split=9, min_samples_leaf=4, max_features=log2, max_depth=780, criterion=gini, total= 2.3min\n",
      "[CV] n_estimators=2000, min_samples_split=9, min_samples_leaf=4, max_features=log2, max_depth=780, criterion=gini \n",
      "[CV]  n_estimators=2000, min_samples_split=9, min_samples_leaf=4, max_features=log2, max_depth=780, criterion=gini, total= 2.3min\n",
      "[CV] n_estimators=1600, min_samples_split=4, min_samples_leaf=1, max_features=auto, max_depth=560, criterion=gini \n",
      "[CV]  n_estimators=1600, min_samples_split=4, min_samples_leaf=1, max_features=auto, max_depth=560, criterion=gini, total= 1.7min\n",
      "[CV] n_estimators=1600, min_samples_split=4, min_samples_leaf=1, max_features=auto, max_depth=560, criterion=gini \n",
      "[CV]  n_estimators=1600, min_samples_split=4, min_samples_leaf=1, max_features=auto, max_depth=560, criterion=gini, total= 1.7min\n",
      "[CV] n_estimators=1600, min_samples_split=4, min_samples_leaf=1, max_features=auto, max_depth=560, criterion=gini \n",
      "[CV]  n_estimators=1600, min_samples_split=4, min_samples_leaf=1, max_features=auto, max_depth=560, criterion=gini, total= 1.7min\n",
      "[CV] n_estimators=1800, min_samples_split=7, min_samples_leaf=8, max_features=log2, max_depth=450, criterion=gini \n",
      "[CV]  n_estimators=1800, min_samples_split=7, min_samples_leaf=8, max_features=log2, max_depth=450, criterion=gini, total= 1.9min\n",
      "[CV] n_estimators=1800, min_samples_split=7, min_samples_leaf=8, max_features=log2, max_depth=450, criterion=gini \n",
      "[CV]  n_estimators=1800, min_samples_split=7, min_samples_leaf=8, max_features=log2, max_depth=450, criterion=gini, total= 1.8min\n",
      "[CV] n_estimators=1800, min_samples_split=7, min_samples_leaf=8, max_features=log2, max_depth=450, criterion=gini \n",
      "[CV]  n_estimators=1800, min_samples_split=7, min_samples_leaf=8, max_features=log2, max_depth=450, criterion=gini, total= 1.9min\n",
      "[CV] n_estimators=1000, min_samples_split=7, min_samples_leaf=1, max_features=log2, max_depth=230, criterion=gini \n",
      "[CV]  n_estimators=1000, min_samples_split=7, min_samples_leaf=1, max_features=log2, max_depth=230, criterion=gini, total= 1.2min\n",
      "[CV] n_estimators=1000, min_samples_split=7, min_samples_leaf=1, max_features=log2, max_depth=230, criterion=gini \n",
      "[CV]  n_estimators=1000, min_samples_split=7, min_samples_leaf=1, max_features=log2, max_depth=230, criterion=gini, total= 1.2min\n",
      "[CV] n_estimators=1000, min_samples_split=7, min_samples_leaf=1, max_features=log2, max_depth=230, criterion=gini \n",
      "[CV]  n_estimators=1000, min_samples_split=7, min_samples_leaf=1, max_features=log2, max_depth=230, criterion=gini, total= 1.2min\n",
      "[CV] n_estimators=800, min_samples_split=4, min_samples_leaf=1, max_features=log2, max_depth=560, criterion=gini \n",
      "[CV]  n_estimators=800, min_samples_split=4, min_samples_leaf=1, max_features=log2, max_depth=560, criterion=gini, total=  58.9s\n",
      "[CV] n_estimators=800, min_samples_split=4, min_samples_leaf=1, max_features=log2, max_depth=560, criterion=gini \n",
      "[CV]  n_estimators=800, min_samples_split=4, min_samples_leaf=1, max_features=log2, max_depth=560, criterion=gini, total=  59.1s\n",
      "[CV] n_estimators=800, min_samples_split=4, min_samples_leaf=1, max_features=log2, max_depth=560, criterion=gini \n",
      "[CV]  n_estimators=800, min_samples_split=4, min_samples_leaf=1, max_features=log2, max_depth=560, criterion=gini, total=  58.9s\n",
      "[CV] n_estimators=1600, min_samples_split=9, min_samples_leaf=8, max_features=log2, max_depth=120, criterion=entropy \n",
      "[CV]  n_estimators=1600, min_samples_split=9, min_samples_leaf=8, max_features=log2, max_depth=120, criterion=entropy, total= 1.8min\n",
      "[CV] n_estimators=1600, min_samples_split=9, min_samples_leaf=8, max_features=log2, max_depth=120, criterion=entropy \n",
      "[CV]  n_estimators=1600, min_samples_split=9, min_samples_leaf=8, max_features=log2, max_depth=120, criterion=entropy, total= 1.8min\n",
      "[CV] n_estimators=1600, min_samples_split=9, min_samples_leaf=8, max_features=log2, max_depth=120, criterion=entropy \n",
      "[CV]  n_estimators=1600, min_samples_split=9, min_samples_leaf=8, max_features=log2, max_depth=120, criterion=entropy, total= 7.1min\n",
      "[CV] n_estimators=800, min_samples_split=2, min_samples_leaf=4, max_features=auto, max_depth=1000, criterion=gini \n",
      "[CV]  n_estimators=800, min_samples_split=2, min_samples_leaf=4, max_features=auto, max_depth=1000, criterion=gini, total=  45.8s\n",
      "[CV] n_estimators=800, min_samples_split=2, min_samples_leaf=4, max_features=auto, max_depth=1000, criterion=gini \n",
      "[CV]  n_estimators=800, min_samples_split=2, min_samples_leaf=4, max_features=auto, max_depth=1000, criterion=gini, total=  45.9s\n",
      "[CV] n_estimators=800, min_samples_split=2, min_samples_leaf=4, max_features=auto, max_depth=1000, criterion=gini \n",
      "[CV]  n_estimators=800, min_samples_split=2, min_samples_leaf=4, max_features=auto, max_depth=1000, criterion=gini, total=  45.2s\n",
      "[CV] n_estimators=600, min_samples_split=2, min_samples_leaf=6, max_features=log2, max_depth=670, criterion=entropy \n",
      "[CV]  n_estimators=600, min_samples_split=2, min_samples_leaf=6, max_features=log2, max_depth=670, criterion=entropy, total=  43.6s\n",
      "[CV] n_estimators=600, min_samples_split=2, min_samples_leaf=6, max_features=log2, max_depth=670, criterion=entropy \n",
      "[CV]  n_estimators=600, min_samples_split=2, min_samples_leaf=6, max_features=log2, max_depth=670, criterion=entropy, total=  42.4s\n",
      "[CV] n_estimators=600, min_samples_split=2, min_samples_leaf=6, max_features=log2, max_depth=670, criterion=entropy \n",
      "[CV]  n_estimators=600, min_samples_split=2, min_samples_leaf=6, max_features=log2, max_depth=670, criterion=entropy, total=  41.6s\n",
      "[CV] n_estimators=1400, min_samples_split=7, min_samples_leaf=8, max_features=sqrt, max_depth=340, criterion=entropy \n",
      "[CV]  n_estimators=1400, min_samples_split=7, min_samples_leaf=8, max_features=sqrt, max_depth=340, criterion=entropy, total= 1.3min\n",
      "[CV] n_estimators=1400, min_samples_split=7, min_samples_leaf=8, max_features=sqrt, max_depth=340, criterion=entropy \n",
      "[CV]  n_estimators=1400, min_samples_split=7, min_samples_leaf=8, max_features=sqrt, max_depth=340, criterion=entropy, total= 1.3min\n",
      "[CV] n_estimators=1400, min_samples_split=7, min_samples_leaf=8, max_features=sqrt, max_depth=340, criterion=entropy \n",
      "[CV]  n_estimators=1400, min_samples_split=7, min_samples_leaf=8, max_features=sqrt, max_depth=340, criterion=entropy, total= 1.3min\n",
      "[CV] n_estimators=200, min_samples_split=3, min_samples_leaf=6, max_features=log2, max_depth=560, criterion=entropy \n",
      "[CV]  n_estimators=200, min_samples_split=3, min_samples_leaf=6, max_features=log2, max_depth=560, criterion=entropy, total=  14.1s\n",
      "[CV] n_estimators=200, min_samples_split=3, min_samples_leaf=6, max_features=log2, max_depth=560, criterion=entropy \n",
      "[CV]  n_estimators=200, min_samples_split=3, min_samples_leaf=6, max_features=log2, max_depth=560, criterion=entropy, total=  13.9s\n",
      "[CV] n_estimators=200, min_samples_split=3, min_samples_leaf=6, max_features=log2, max_depth=560, criterion=entropy \n",
      "[CV]  n_estimators=200, min_samples_split=3, min_samples_leaf=6, max_features=log2, max_depth=560, criterion=entropy, total=  13.7s\n",
      "[CV] n_estimators=600, min_samples_split=9, min_samples_leaf=8, max_features=auto, max_depth=230, criterion=gini \n"
     ]
    },
    {
     "name": "stdout",
     "output_type": "stream",
     "text": [
      "[CV]  n_estimators=600, min_samples_split=9, min_samples_leaf=8, max_features=auto, max_depth=230, criterion=gini, total=  30.4s\n",
      "[CV] n_estimators=600, min_samples_split=9, min_samples_leaf=8, max_features=auto, max_depth=230, criterion=gini \n",
      "[CV]  n_estimators=600, min_samples_split=9, min_samples_leaf=8, max_features=auto, max_depth=230, criterion=gini, total=  30.1s\n",
      "[CV] n_estimators=600, min_samples_split=9, min_samples_leaf=8, max_features=auto, max_depth=230, criterion=gini \n",
      "[CV]  n_estimators=600, min_samples_split=9, min_samples_leaf=8, max_features=auto, max_depth=230, criterion=gini, total=  30.1s\n",
      "[CV] n_estimators=2000, min_samples_split=9, min_samples_leaf=6, max_features=log2, max_depth=670, criterion=entropy \n",
      "[CV]  n_estimators=2000, min_samples_split=9, min_samples_leaf=6, max_features=log2, max_depth=670, criterion=entropy, total=26.3min\n",
      "[CV] n_estimators=2000, min_samples_split=9, min_samples_leaf=6, max_features=log2, max_depth=670, criterion=entropy \n",
      "[CV]  n_estimators=2000, min_samples_split=9, min_samples_leaf=6, max_features=log2, max_depth=670, criterion=entropy, total= 2.4min\n",
      "[CV] n_estimators=2000, min_samples_split=9, min_samples_leaf=6, max_features=log2, max_depth=670, criterion=entropy \n",
      "[CV]  n_estimators=2000, min_samples_split=9, min_samples_leaf=6, max_features=log2, max_depth=670, criterion=entropy, total= 2.4min\n",
      "[CV] n_estimators=1800, min_samples_split=3, min_samples_leaf=4, max_features=sqrt, max_depth=560, criterion=gini \n",
      "[CV]  n_estimators=1800, min_samples_split=3, min_samples_leaf=4, max_features=sqrt, max_depth=560, criterion=gini, total= 1.8min\n",
      "[CV] n_estimators=1800, min_samples_split=3, min_samples_leaf=4, max_features=sqrt, max_depth=560, criterion=gini \n",
      "[CV]  n_estimators=1800, min_samples_split=3, min_samples_leaf=4, max_features=sqrt, max_depth=560, criterion=gini, total= 1.7min\n",
      "[CV] n_estimators=1800, min_samples_split=3, min_samples_leaf=4, max_features=sqrt, max_depth=560, criterion=gini \n",
      "[CV]  n_estimators=1800, min_samples_split=3, min_samples_leaf=4, max_features=sqrt, max_depth=560, criterion=gini, total= 1.8min\n",
      "[CV] n_estimators=2000, min_samples_split=7, min_samples_leaf=4, max_features=log2, max_depth=890, criterion=entropy \n",
      "[CV]  n_estimators=2000, min_samples_split=7, min_samples_leaf=4, max_features=log2, max_depth=890, criterion=entropy, total= 9.1min\n",
      "[CV] n_estimators=2000, min_samples_split=7, min_samples_leaf=4, max_features=log2, max_depth=890, criterion=entropy \n",
      "[CV]  n_estimators=2000, min_samples_split=7, min_samples_leaf=4, max_features=log2, max_depth=890, criterion=entropy, total= 2.6min\n",
      "[CV] n_estimators=2000, min_samples_split=7, min_samples_leaf=4, max_features=log2, max_depth=890, criterion=entropy \n",
      "[CV]  n_estimators=2000, min_samples_split=7, min_samples_leaf=4, max_features=log2, max_depth=890, criterion=entropy, total= 2.6min\n",
      "[CV] n_estimators=200, min_samples_split=3, min_samples_leaf=8, max_features=auto, max_depth=670, criterion=gini \n",
      "[CV]  n_estimators=200, min_samples_split=3, min_samples_leaf=8, max_features=auto, max_depth=670, criterion=gini, total=  11.0s\n",
      "[CV] n_estimators=200, min_samples_split=3, min_samples_leaf=8, max_features=auto, max_depth=670, criterion=gini \n",
      "[CV]  n_estimators=200, min_samples_split=3, min_samples_leaf=8, max_features=auto, max_depth=670, criterion=gini, total=  10.3s\n",
      "[CV] n_estimators=200, min_samples_split=3, min_samples_leaf=8, max_features=auto, max_depth=670, criterion=gini \n",
      "[CV]  n_estimators=200, min_samples_split=3, min_samples_leaf=8, max_features=auto, max_depth=670, criterion=gini, total=  10.4s\n",
      "[CV] n_estimators=1800, min_samples_split=5, min_samples_leaf=1, max_features=auto, max_depth=670, criterion=gini \n",
      "[CV]  n_estimators=1800, min_samples_split=5, min_samples_leaf=1, max_features=auto, max_depth=670, criterion=gini, total= 1.9min\n",
      "[CV] n_estimators=1800, min_samples_split=5, min_samples_leaf=1, max_features=auto, max_depth=670, criterion=gini \n",
      "[CV]  n_estimators=1800, min_samples_split=5, min_samples_leaf=1, max_features=auto, max_depth=670, criterion=gini, total= 1.9min\n",
      "[CV] n_estimators=1800, min_samples_split=5, min_samples_leaf=1, max_features=auto, max_depth=670, criterion=gini \n",
      "[CV]  n_estimators=1800, min_samples_split=5, min_samples_leaf=1, max_features=auto, max_depth=670, criterion=gini, total= 1.9min\n",
      "[CV] n_estimators=1000, min_samples_split=7, min_samples_leaf=6, max_features=auto, max_depth=890, criterion=entropy \n",
      "[CV]  n_estimators=1000, min_samples_split=7, min_samples_leaf=6, max_features=auto, max_depth=890, criterion=entropy, total=12.8min\n",
      "[CV] n_estimators=1000, min_samples_split=7, min_samples_leaf=6, max_features=auto, max_depth=890, criterion=entropy \n",
      "[CV]  n_estimators=1000, min_samples_split=7, min_samples_leaf=6, max_features=auto, max_depth=890, criterion=entropy, total= 1.0min\n",
      "[CV] n_estimators=1000, min_samples_split=7, min_samples_leaf=6, max_features=auto, max_depth=890, criterion=entropy \n",
      "[CV]  n_estimators=1000, min_samples_split=7, min_samples_leaf=6, max_features=auto, max_depth=890, criterion=entropy, total= 1.1min\n",
      "[CV] n_estimators=600, min_samples_split=4, min_samples_leaf=6, max_features=auto, max_depth=230, criterion=gini \n",
      "[CV]  n_estimators=600, min_samples_split=4, min_samples_leaf=6, max_features=auto, max_depth=230, criterion=gini, total=  36.5s\n",
      "[CV] n_estimators=600, min_samples_split=4, min_samples_leaf=6, max_features=auto, max_depth=230, criterion=gini \n",
      "[CV]  n_estimators=600, min_samples_split=4, min_samples_leaf=6, max_features=auto, max_depth=230, criterion=gini, total=  35.8s\n",
      "[CV] n_estimators=600, min_samples_split=4, min_samples_leaf=6, max_features=auto, max_depth=230, criterion=gini \n",
      "[CV]  n_estimators=600, min_samples_split=4, min_samples_leaf=6, max_features=auto, max_depth=230, criterion=gini, total=  36.4s\n",
      "[CV] n_estimators=400, min_samples_split=3, min_samples_leaf=1, max_features=auto, max_depth=120, criterion=gini \n",
      "[CV]  n_estimators=400, min_samples_split=3, min_samples_leaf=1, max_features=auto, max_depth=120, criterion=gini, total=  28.5s\n",
      "[CV] n_estimators=400, min_samples_split=3, min_samples_leaf=1, max_features=auto, max_depth=120, criterion=gini \n",
      "[CV]  n_estimators=400, min_samples_split=3, min_samples_leaf=1, max_features=auto, max_depth=120, criterion=gini, total=  28.3s\n",
      "[CV] n_estimators=400, min_samples_split=3, min_samples_leaf=1, max_features=auto, max_depth=120, criterion=gini \n",
      "[CV]  n_estimators=400, min_samples_split=3, min_samples_leaf=1, max_features=auto, max_depth=120, criterion=gini, total=  27.3s\n",
      "[CV] n_estimators=1800, min_samples_split=3, min_samples_leaf=1, max_features=sqrt, max_depth=1000, criterion=entropy \n",
      "[CV]  n_estimators=1800, min_samples_split=3, min_samples_leaf=1, max_features=sqrt, max_depth=1000, criterion=entropy, total= 2.8min\n",
      "[CV] n_estimators=1800, min_samples_split=3, min_samples_leaf=1, max_features=sqrt, max_depth=1000, criterion=entropy \n",
      "[CV]  n_estimators=1800, min_samples_split=3, min_samples_leaf=1, max_features=sqrt, max_depth=1000, criterion=entropy, total= 2.4min\n",
      "[CV] n_estimators=1800, min_samples_split=3, min_samples_leaf=1, max_features=sqrt, max_depth=1000, criterion=entropy \n",
      "[CV]  n_estimators=1800, min_samples_split=3, min_samples_leaf=1, max_features=sqrt, max_depth=1000, criterion=entropy, total= 2.6min\n",
      "[CV] n_estimators=1000, min_samples_split=9, min_samples_leaf=2, max_features=sqrt, max_depth=560, criterion=entropy \n",
      "[CV]  n_estimators=1000, min_samples_split=9, min_samples_leaf=2, max_features=sqrt, max_depth=560, criterion=entropy, total= 1.1min\n",
      "[CV] n_estimators=1000, min_samples_split=9, min_samples_leaf=2, max_features=sqrt, max_depth=560, criterion=entropy \n",
      "[CV]  n_estimators=1000, min_samples_split=9, min_samples_leaf=2, max_features=sqrt, max_depth=560, criterion=entropy, total= 1.1min\n",
      "[CV] n_estimators=1000, min_samples_split=9, min_samples_leaf=2, max_features=sqrt, max_depth=560, criterion=entropy \n",
      "[CV]  n_estimators=1000, min_samples_split=9, min_samples_leaf=2, max_features=sqrt, max_depth=560, criterion=entropy, total= 1.1min\n",
      "[CV] n_estimators=200, min_samples_split=7, min_samples_leaf=4, max_features=log2, max_depth=1000, criterion=gini \n",
      "[CV]  n_estimators=200, min_samples_split=7, min_samples_leaf=4, max_features=log2, max_depth=1000, criterion=gini, total=  13.2s\n",
      "[CV] n_estimators=200, min_samples_split=7, min_samples_leaf=4, max_features=log2, max_depth=1000, criterion=gini \n"
     ]
    },
    {
     "name": "stdout",
     "output_type": "stream",
     "text": [
      "[CV]  n_estimators=200, min_samples_split=7, min_samples_leaf=4, max_features=log2, max_depth=1000, criterion=gini, total=  13.4s\n",
      "[CV] n_estimators=200, min_samples_split=7, min_samples_leaf=4, max_features=log2, max_depth=1000, criterion=gini \n",
      "[CV]  n_estimators=200, min_samples_split=7, min_samples_leaf=4, max_features=log2, max_depth=1000, criterion=gini, total=  13.2s\n",
      "[CV] n_estimators=400, min_samples_split=2, min_samples_leaf=2, max_features=sqrt, max_depth=560, criterion=entropy \n",
      "[CV]  n_estimators=400, min_samples_split=2, min_samples_leaf=2, max_features=sqrt, max_depth=560, criterion=entropy, total=  26.8s\n",
      "[CV] n_estimators=400, min_samples_split=2, min_samples_leaf=2, max_features=sqrt, max_depth=560, criterion=entropy \n",
      "[CV]  n_estimators=400, min_samples_split=2, min_samples_leaf=2, max_features=sqrt, max_depth=560, criterion=entropy, total=  26.8s\n",
      "[CV] n_estimators=400, min_samples_split=2, min_samples_leaf=2, max_features=sqrt, max_depth=560, criterion=entropy \n",
      "[CV]  n_estimators=400, min_samples_split=2, min_samples_leaf=2, max_features=sqrt, max_depth=560, criterion=entropy, total=  28.0s\n",
      "[CV] n_estimators=200, min_samples_split=7, min_samples_leaf=8, max_features=log2, max_depth=670, criterion=gini \n",
      "[CV]  n_estimators=200, min_samples_split=7, min_samples_leaf=8, max_features=log2, max_depth=670, criterion=gini, total=  12.4s\n",
      "[CV] n_estimators=200, min_samples_split=7, min_samples_leaf=8, max_features=log2, max_depth=670, criterion=gini \n",
      "[CV]  n_estimators=200, min_samples_split=7, min_samples_leaf=8, max_features=log2, max_depth=670, criterion=gini, total=  12.1s\n",
      "[CV] n_estimators=200, min_samples_split=7, min_samples_leaf=8, max_features=log2, max_depth=670, criterion=gini \n",
      "[CV]  n_estimators=200, min_samples_split=7, min_samples_leaf=8, max_features=log2, max_depth=670, criterion=gini, total=  12.3s\n",
      "[CV] n_estimators=1800, min_samples_split=4, min_samples_leaf=8, max_features=log2, max_depth=340, criterion=entropy \n",
      "[CV]  n_estimators=1800, min_samples_split=4, min_samples_leaf=8, max_features=log2, max_depth=340, criterion=entropy, total= 2.0min\n",
      "[CV] n_estimators=1800, min_samples_split=4, min_samples_leaf=8, max_features=log2, max_depth=340, criterion=entropy \n",
      "[CV]  n_estimators=1800, min_samples_split=4, min_samples_leaf=8, max_features=log2, max_depth=340, criterion=entropy, total= 2.0min\n",
      "[CV] n_estimators=1800, min_samples_split=4, min_samples_leaf=8, max_features=log2, max_depth=340, criterion=entropy \n",
      "[CV]  n_estimators=1800, min_samples_split=4, min_samples_leaf=8, max_features=log2, max_depth=340, criterion=entropy, total= 2.0min\n",
      "[CV] n_estimators=1000, min_samples_split=9, min_samples_leaf=1, max_features=sqrt, max_depth=1000, criterion=entropy \n",
      "[CV]  n_estimators=1000, min_samples_split=9, min_samples_leaf=1, max_features=sqrt, max_depth=1000, criterion=entropy, total= 1.1min\n",
      "[CV] n_estimators=1000, min_samples_split=9, min_samples_leaf=1, max_features=sqrt, max_depth=1000, criterion=entropy \n",
      "[CV]  n_estimators=1000, min_samples_split=9, min_samples_leaf=1, max_features=sqrt, max_depth=1000, criterion=entropy, total= 1.1min\n",
      "[CV] n_estimators=1000, min_samples_split=9, min_samples_leaf=1, max_features=sqrt, max_depth=1000, criterion=entropy \n",
      "[CV]  n_estimators=1000, min_samples_split=9, min_samples_leaf=1, max_features=sqrt, max_depth=1000, criterion=entropy, total= 1.1min\n",
      "[CV] n_estimators=400, min_samples_split=4, min_samples_leaf=6, max_features=log2, max_depth=120, criterion=entropy \n",
      "[CV]  n_estimators=400, min_samples_split=4, min_samples_leaf=6, max_features=log2, max_depth=120, criterion=entropy, total=  27.8s\n",
      "[CV] n_estimators=400, min_samples_split=4, min_samples_leaf=6, max_features=log2, max_depth=120, criterion=entropy \n",
      "[CV]  n_estimators=400, min_samples_split=4, min_samples_leaf=6, max_features=log2, max_depth=120, criterion=entropy, total=  27.4s\n",
      "[CV] n_estimators=400, min_samples_split=4, min_samples_leaf=6, max_features=log2, max_depth=120, criterion=entropy \n",
      "[CV]  n_estimators=400, min_samples_split=4, min_samples_leaf=6, max_features=log2, max_depth=120, criterion=entropy, total=  28.0s\n",
      "[CV] n_estimators=1800, min_samples_split=7, min_samples_leaf=1, max_features=sqrt, max_depth=670, criterion=entropy \n",
      "[CV]  n_estimators=1800, min_samples_split=7, min_samples_leaf=1, max_features=sqrt, max_depth=670, criterion=entropy, total=23.0min\n",
      "[CV] n_estimators=1800, min_samples_split=7, min_samples_leaf=1, max_features=sqrt, max_depth=670, criterion=entropy \n",
      "[CV]  n_estimators=1800, min_samples_split=7, min_samples_leaf=1, max_features=sqrt, max_depth=670, criterion=entropy, total= 2.1min\n",
      "[CV] n_estimators=1800, min_samples_split=7, min_samples_leaf=1, max_features=sqrt, max_depth=670, criterion=entropy \n",
      "[CV]  n_estimators=1800, min_samples_split=7, min_samples_leaf=1, max_features=sqrt, max_depth=670, criterion=entropy, total= 2.1min\n",
      "[CV] n_estimators=2000, min_samples_split=5, min_samples_leaf=4, max_features=log2, max_depth=230, criterion=gini \n",
      "[CV]  n_estimators=2000, min_samples_split=5, min_samples_leaf=4, max_features=log2, max_depth=230, criterion=gini, total= 2.3min\n",
      "[CV] n_estimators=2000, min_samples_split=5, min_samples_leaf=4, max_features=log2, max_depth=230, criterion=gini \n",
      "[CV]  n_estimators=2000, min_samples_split=5, min_samples_leaf=4, max_features=log2, max_depth=230, criterion=gini, total= 2.3min\n",
      "[CV] n_estimators=2000, min_samples_split=5, min_samples_leaf=4, max_features=log2, max_depth=230, criterion=gini \n",
      "[CV]  n_estimators=2000, min_samples_split=5, min_samples_leaf=4, max_features=log2, max_depth=230, criterion=gini, total= 2.3min\n",
      "[CV] n_estimators=2000, min_samples_split=9, min_samples_leaf=6, max_features=sqrt, max_depth=670, criterion=entropy \n",
      "[CV]  n_estimators=2000, min_samples_split=9, min_samples_leaf=6, max_features=sqrt, max_depth=670, criterion=entropy, total= 2.0min\n",
      "[CV] n_estimators=2000, min_samples_split=9, min_samples_leaf=6, max_features=sqrt, max_depth=670, criterion=entropy \n",
      "[CV]  n_estimators=2000, min_samples_split=9, min_samples_leaf=6, max_features=sqrt, max_depth=670, criterion=entropy, total= 2.0min\n",
      "[CV] n_estimators=2000, min_samples_split=9, min_samples_leaf=6, max_features=sqrt, max_depth=670, criterion=entropy \n",
      "[CV]  n_estimators=2000, min_samples_split=9, min_samples_leaf=6, max_features=sqrt, max_depth=670, criterion=entropy, total= 2.0min\n",
      "[CV] n_estimators=1400, min_samples_split=7, min_samples_leaf=6, max_features=log2, max_depth=230, criterion=entropy \n",
      "[CV]  n_estimators=1400, min_samples_split=7, min_samples_leaf=6, max_features=log2, max_depth=230, criterion=entropy, total= 1.6min\n",
      "[CV] n_estimators=1400, min_samples_split=7, min_samples_leaf=6, max_features=log2, max_depth=230, criterion=entropy \n",
      "[CV]  n_estimators=1400, min_samples_split=7, min_samples_leaf=6, max_features=log2, max_depth=230, criterion=entropy, total= 1.7min\n",
      "[CV] n_estimators=1400, min_samples_split=7, min_samples_leaf=6, max_features=log2, max_depth=230, criterion=entropy \n",
      "[CV]  n_estimators=1400, min_samples_split=7, min_samples_leaf=6, max_features=log2, max_depth=230, criterion=entropy, total= 1.6min\n",
      "[CV] n_estimators=1200, min_samples_split=5, min_samples_leaf=1, max_features=auto, max_depth=560, criterion=entropy \n",
      "[CV]  n_estimators=1200, min_samples_split=5, min_samples_leaf=1, max_features=auto, max_depth=560, criterion=entropy, total= 1.4min\n",
      "[CV] n_estimators=1200, min_samples_split=5, min_samples_leaf=1, max_features=auto, max_depth=560, criterion=entropy \n",
      "[CV]  n_estimators=1200, min_samples_split=5, min_samples_leaf=1, max_features=auto, max_depth=560, criterion=entropy, total=51.6min\n",
      "[CV] n_estimators=1200, min_samples_split=5, min_samples_leaf=1, max_features=auto, max_depth=560, criterion=entropy \n",
      "[CV]  n_estimators=1200, min_samples_split=5, min_samples_leaf=1, max_features=auto, max_depth=560, criterion=entropy, total= 1.5min\n",
      "[CV] n_estimators=2000, min_samples_split=7, min_samples_leaf=2, max_features=sqrt, max_depth=560, criterion=entropy \n",
      "[CV]  n_estimators=2000, min_samples_split=7, min_samples_leaf=2, max_features=sqrt, max_depth=560, criterion=entropy, total= 2.2min\n",
      "[CV] n_estimators=2000, min_samples_split=7, min_samples_leaf=2, max_features=sqrt, max_depth=560, criterion=entropy \n"
     ]
    },
    {
     "name": "stdout",
     "output_type": "stream",
     "text": [
      "[CV]  n_estimators=2000, min_samples_split=7, min_samples_leaf=2, max_features=sqrt, max_depth=560, criterion=entropy, total= 2.3min\n",
      "[CV] n_estimators=2000, min_samples_split=7, min_samples_leaf=2, max_features=sqrt, max_depth=560, criterion=entropy \n",
      "[CV]  n_estimators=2000, min_samples_split=7, min_samples_leaf=2, max_features=sqrt, max_depth=560, criterion=entropy, total= 2.2min\n",
      "[CV] n_estimators=400, min_samples_split=7, min_samples_leaf=2, max_features=log2, max_depth=10, criterion=gini \n",
      "[CV]  n_estimators=400, min_samples_split=7, min_samples_leaf=2, max_features=log2, max_depth=10, criterion=gini, total=  20.0s\n",
      "[CV] n_estimators=400, min_samples_split=7, min_samples_leaf=2, max_features=log2, max_depth=10, criterion=gini \n",
      "[CV]  n_estimators=400, min_samples_split=7, min_samples_leaf=2, max_features=log2, max_depth=10, criterion=gini, total=  18.6s\n",
      "[CV] n_estimators=400, min_samples_split=7, min_samples_leaf=2, max_features=log2, max_depth=10, criterion=gini \n",
      "[CV]  n_estimators=400, min_samples_split=7, min_samples_leaf=2, max_features=log2, max_depth=10, criterion=gini, total=  18.7s\n",
      "[CV] n_estimators=1600, min_samples_split=5, min_samples_leaf=1, max_features=sqrt, max_depth=230, criterion=entropy \n",
      "[CV]  n_estimators=1600, min_samples_split=5, min_samples_leaf=1, max_features=sqrt, max_depth=230, criterion=entropy, total= 1.9min\n",
      "[CV] n_estimators=1600, min_samples_split=5, min_samples_leaf=1, max_features=sqrt, max_depth=230, criterion=entropy \n",
      "[CV]  n_estimators=1600, min_samples_split=5, min_samples_leaf=1, max_features=sqrt, max_depth=230, criterion=entropy, total= 1.9min\n",
      "[CV] n_estimators=1600, min_samples_split=5, min_samples_leaf=1, max_features=sqrt, max_depth=230, criterion=entropy \n",
      "[CV]  n_estimators=1600, min_samples_split=5, min_samples_leaf=1, max_features=sqrt, max_depth=230, criterion=entropy, total= 1.9min\n",
      "[CV] n_estimators=2000, min_samples_split=2, min_samples_leaf=4, max_features=sqrt, max_depth=10, criterion=entropy \n",
      "[CV]  n_estimators=2000, min_samples_split=2, min_samples_leaf=4, max_features=sqrt, max_depth=10, criterion=entropy, total= 1.3min\n",
      "[CV] n_estimators=2000, min_samples_split=2, min_samples_leaf=4, max_features=sqrt, max_depth=10, criterion=entropy \n",
      "[CV]  n_estimators=2000, min_samples_split=2, min_samples_leaf=4, max_features=sqrt, max_depth=10, criterion=entropy, total= 1.3min\n",
      "[CV] n_estimators=2000, min_samples_split=2, min_samples_leaf=4, max_features=sqrt, max_depth=10, criterion=entropy \n",
      "[CV]  n_estimators=2000, min_samples_split=2, min_samples_leaf=4, max_features=sqrt, max_depth=10, criterion=entropy, total= 1.3min\n",
      "[CV] n_estimators=1600, min_samples_split=4, min_samples_leaf=2, max_features=auto, max_depth=1000, criterion=gini \n",
      "[CV]  n_estimators=1600, min_samples_split=4, min_samples_leaf=2, max_features=auto, max_depth=1000, criterion=gini, total= 1.6min\n",
      "[CV] n_estimators=1600, min_samples_split=4, min_samples_leaf=2, max_features=auto, max_depth=1000, criterion=gini \n",
      "[CV]  n_estimators=1600, min_samples_split=4, min_samples_leaf=2, max_features=auto, max_depth=1000, criterion=gini, total= 1.6min\n",
      "[CV] n_estimators=1600, min_samples_split=4, min_samples_leaf=2, max_features=auto, max_depth=1000, criterion=gini \n",
      "[CV]  n_estimators=1600, min_samples_split=4, min_samples_leaf=2, max_features=auto, max_depth=1000, criterion=gini, total= 1.7min\n",
      "[CV] n_estimators=200, min_samples_split=4, min_samples_leaf=4, max_features=auto, max_depth=120, criterion=entropy \n",
      "[CV]  n_estimators=200, min_samples_split=4, min_samples_leaf=4, max_features=auto, max_depth=120, criterion=entropy, total=  12.2s\n",
      "[CV] n_estimators=200, min_samples_split=4, min_samples_leaf=4, max_features=auto, max_depth=120, criterion=entropy \n",
      "[CV]  n_estimators=200, min_samples_split=4, min_samples_leaf=4, max_features=auto, max_depth=120, criterion=entropy, total=  12.3s\n",
      "[CV] n_estimators=200, min_samples_split=4, min_samples_leaf=4, max_features=auto, max_depth=120, criterion=entropy \n",
      "[CV]  n_estimators=200, min_samples_split=4, min_samples_leaf=4, max_features=auto, max_depth=120, criterion=entropy, total=  11.9s\n",
      "[CV] n_estimators=600, min_samples_split=7, min_samples_leaf=6, max_features=log2, max_depth=890, criterion=entropy \n",
      "[CV]  n_estimators=600, min_samples_split=7, min_samples_leaf=6, max_features=log2, max_depth=890, criterion=entropy, total=  42.3s\n",
      "[CV] n_estimators=600, min_samples_split=7, min_samples_leaf=6, max_features=log2, max_depth=890, criterion=entropy \n",
      "[CV]  n_estimators=600, min_samples_split=7, min_samples_leaf=6, max_features=log2, max_depth=890, criterion=entropy, total=  42.1s\n",
      "[CV] n_estimators=600, min_samples_split=7, min_samples_leaf=6, max_features=log2, max_depth=890, criterion=entropy \n",
      "[CV]  n_estimators=600, min_samples_split=7, min_samples_leaf=6, max_features=log2, max_depth=890, criterion=entropy, total=  41.9s\n",
      "[CV] n_estimators=200, min_samples_split=5, min_samples_leaf=1, max_features=auto, max_depth=340, criterion=gini \n",
      "[CV]  n_estimators=200, min_samples_split=5, min_samples_leaf=1, max_features=auto, max_depth=340, criterion=gini, total=  12.0s\n",
      "[CV] n_estimators=200, min_samples_split=5, min_samples_leaf=1, max_features=auto, max_depth=340, criterion=gini \n",
      "[CV]  n_estimators=200, min_samples_split=5, min_samples_leaf=1, max_features=auto, max_depth=340, criterion=gini, total=  12.0s\n",
      "[CV] n_estimators=200, min_samples_split=5, min_samples_leaf=1, max_features=auto, max_depth=340, criterion=gini \n",
      "[CV]  n_estimators=200, min_samples_split=5, min_samples_leaf=1, max_features=auto, max_depth=340, criterion=gini, total=  11.8s\n",
      "[CV] n_estimators=1600, min_samples_split=3, min_samples_leaf=8, max_features=sqrt, max_depth=670, criterion=gini \n",
      "[CV]  n_estimators=1600, min_samples_split=3, min_samples_leaf=8, max_features=sqrt, max_depth=670, criterion=gini, total= 1.3min\n",
      "[CV] n_estimators=1600, min_samples_split=3, min_samples_leaf=8, max_features=sqrt, max_depth=670, criterion=gini \n",
      "[CV]  n_estimators=1600, min_samples_split=3, min_samples_leaf=8, max_features=sqrt, max_depth=670, criterion=gini, total= 1.6min\n",
      "[CV] n_estimators=1600, min_samples_split=3, min_samples_leaf=8, max_features=sqrt, max_depth=670, criterion=gini \n",
      "[CV]  n_estimators=1600, min_samples_split=3, min_samples_leaf=8, max_features=sqrt, max_depth=670, criterion=gini, total= 1.4min\n",
      "[CV] n_estimators=1600, min_samples_split=4, min_samples_leaf=2, max_features=log2, max_depth=230, criterion=gini \n",
      "[CV]  n_estimators=1600, min_samples_split=4, min_samples_leaf=2, max_features=log2, max_depth=230, criterion=gini, total= 2.0min\n",
      "[CV] n_estimators=1600, min_samples_split=4, min_samples_leaf=2, max_features=log2, max_depth=230, criterion=gini \n",
      "[CV]  n_estimators=1600, min_samples_split=4, min_samples_leaf=2, max_features=log2, max_depth=230, criterion=gini, total= 2.0min\n",
      "[CV] n_estimators=1600, min_samples_split=4, min_samples_leaf=2, max_features=log2, max_depth=230, criterion=gini \n",
      "[CV]  n_estimators=1600, min_samples_split=4, min_samples_leaf=2, max_features=log2, max_depth=230, criterion=gini, total= 2.0min\n"
     ]
    },
    {
     "name": "stderr",
     "output_type": "stream",
     "text": [
      "[Parallel(n_jobs=1)]: Done 300 out of 300 | elapsed: 1071.4min finished\n"
     ]
    },
    {
     "data": {
      "text/plain": [
       "RandomizedSearchCV(cv=3, error_score='raise-deprecating',\n",
       "          estimator=RandomForestClassifier(bootstrap=True, class_weight=None, criterion='gini',\n",
       "            max_depth=None, max_features='auto', max_leaf_nodes=None,\n",
       "            min_impurity_decrease=0.0, min_impurity_split=None,\n",
       "            min_samples_leaf=1, min_samples_split=2,\n",
       "            min_weight_fraction_leaf=0.0, n_estimators='warn', n_jobs=None,\n",
       "            oob_score=False, random_state=None, verbose=0,\n",
       "            warm_start=False),\n",
       "          fit_params=None, iid='warn', n_iter=100, n_jobs=None,\n",
       "          param_distributions={'n_estimators': [200, 400, 600, 800, 1000, 1200, 1400, 1600, 1800, 2000], 'max_features': ['auto', 'sqrt', 'log2'], 'max_depth': [10, 120, 230, 340, 450, 560, 670, 780, 890, 1000], 'min_samples_split': [2, 3, 4, 5, 7, 9], 'min_samples_leaf': [1, 2, 4, 6, 8], 'criterion': ['entropy', 'gini']},\n",
       "          pre_dispatch='2*n_jobs', random_state=100, refit=True,\n",
       "          return_train_score='warn', scoring=None, verbose=2)"
      ]
     },
     "execution_count": 42,
     "metadata": {},
     "output_type": "execute_result"
    }
   ],
   "source": [
    "rf = RandomForestClassifier()\n",
    "rf_randomcv = RandomizedSearchCV(estimator=rf, param_distributions=random_grid, n_iter=100, cv=3, verbose=2,\n",
    "                               random_state=100)\n",
    "### fit the randomized model\n",
    "rf_randomcv.fit(X_train,y_train)"
   ]
  },
  {
   "cell_type": "code",
   "execution_count": 43,
   "metadata": {},
   "outputs": [
    {
     "data": {
      "text/plain": [
       "{'n_estimators': 1200,\n",
       " 'min_samples_split': 9,\n",
       " 'min_samples_leaf': 8,\n",
       " 'max_features': 'log2',\n",
       " 'max_depth': 230,\n",
       " 'criterion': 'gini'}"
      ]
     },
     "execution_count": 43,
     "metadata": {},
     "output_type": "execute_result"
    }
   ],
   "source": [
    "rf_randomcv.best_params_"
   ]
  },
  {
   "cell_type": "code",
   "execution_count": 44,
   "metadata": {},
   "outputs": [
    {
     "data": {
      "text/plain": [
       "0.8463691866190248"
      ]
     },
     "execution_count": 44,
     "metadata": {},
     "output_type": "execute_result"
    }
   ],
   "source": [
    "rf_randomcv.best_score_"
   ]
  },
  {
   "cell_type": "code",
   "execution_count": 45,
   "metadata": {},
   "outputs": [
    {
     "data": {
      "text/plain": [
       "RandomForestClassifier(bootstrap=True, class_weight=None, criterion='gini',\n",
       "            max_depth=230, max_features='log2', max_leaf_nodes=None,\n",
       "            min_impurity_decrease=0.0, min_impurity_split=None,\n",
       "            min_samples_leaf=8, min_samples_split=9,\n",
       "            min_weight_fraction_leaf=0.0, n_estimators=1200, n_jobs=None,\n",
       "            oob_score=False, random_state=None, verbose=0,\n",
       "            warm_start=False)"
      ]
     },
     "execution_count": 45,
     "metadata": {},
     "output_type": "execute_result"
    }
   ],
   "source": [
    "rf_randomcv.best_estimator_"
   ]
  },
  {
   "cell_type": "code",
   "execution_count": 46,
   "metadata": {},
   "outputs": [
    {
     "data": {
      "text/plain": [
       "RandomForestClassifier(bootstrap=True, class_weight=None, criterion='gini',\n",
       "            max_depth=230, max_features='log2', max_leaf_nodes=None,\n",
       "            min_impurity_decrease=0.0, min_impurity_split=None,\n",
       "            min_samples_leaf=8, min_samples_split=9,\n",
       "            min_weight_fraction_leaf=0.0, n_estimators=1200, n_jobs=None,\n",
       "            oob_score=False, random_state=None, verbose=0,\n",
       "            warm_start=False)"
      ]
     },
     "execution_count": 46,
     "metadata": {},
     "output_type": "execute_result"
    }
   ],
   "source": [
    "rf = RandomForestClassifier(bootstrap=True, class_weight=None, criterion='gini',\n",
    "            max_depth=230, max_features='log2', max_leaf_nodes=None,\n",
    "            min_impurity_decrease=0.0, min_impurity_split=None,\n",
    "            min_samples_leaf=8, min_samples_split=9,\n",
    "            min_weight_fraction_leaf=0.0, n_estimators=1200, n_jobs=None,\n",
    "            oob_score=False, random_state=None, verbose=0,\n",
    "            warm_start=False)\n",
    "rf.fit(X_train,y_train)"
   ]
  },
  {
   "cell_type": "code",
   "execution_count": 47,
   "metadata": {},
   "outputs": [],
   "source": [
    "pred_rf = rf.predict(X_test)"
   ]
  },
  {
   "cell_type": "code",
   "execution_count": 48,
   "metadata": {},
   "outputs": [
    {
     "name": "stdout",
     "output_type": "stream",
     "text": [
      "Train Score 0.86 & Test Score 0.85\n"
     ]
    }
   ],
   "source": [
    "print(\"Train Score {:.2f} & Test Score {:.2f}\".format(rf.score(X_train, y_train), rf.score(X_test, y_test)))"
   ]
  },
  {
   "cell_type": "markdown",
   "metadata": {},
   "source": [
    "### 3. XGBOOST"
   ]
  },
  {
   "cell_type": "code",
   "execution_count": 21,
   "metadata": {},
   "outputs": [
    {
     "data": {
      "text/plain": [
       "XGBClassifier(base_score=0.5, booster='gbtree', colsample_bylevel=1,\n",
       "       colsample_bynode=1, colsample_bytree=1, gamma=0, gpu_id=-1,\n",
       "       importance_type='gain', interaction_constraints='',\n",
       "       learning_rate=0.300000012, max_delta_step=0, max_depth=6,\n",
       "       min_child_weight=1, missing=nan, monotone_constraints='()',\n",
       "       n_estimators=100, n_jobs=0, num_parallel_tree=1,\n",
       "       objective='multi:softprob', random_state=0, reg_alpha=0,\n",
       "       reg_lambda=1, scale_pos_weight=None, subsample=1,\n",
       "       tree_method='exact', validate_parameters=1, verbosity=None)"
      ]
     },
     "execution_count": 21,
     "metadata": {},
     "output_type": "execute_result"
    }
   ],
   "source": [
    "reg_xgb = xgboost.XGBClassifier(objective='multi:softprob')\n",
    "reg_xgb.fit(X_train, y_train)"
   ]
  },
  {
   "cell_type": "code",
   "execution_count": 22,
   "metadata": {},
   "outputs": [],
   "source": [
    "# predicting X_test\n",
    "y_pred_xgb = reg_xgb.predict(X_test)"
   ]
  },
  {
   "cell_type": "code",
   "execution_count": 23,
   "metadata": {},
   "outputs": [
    {
     "name": "stdout",
     "output_type": "stream",
     "text": [
      "Train Score 0.86 & Test Score 0.85\n"
     ]
    }
   ],
   "source": [
    "print(\"Train Score {:.2f} & Test Score {:.2f}\".format(reg_xgb.score(X_train,y_train),reg_xgb.score(X_test,y_test)))"
   ]
  },
  {
   "cell_type": "code",
   "execution_count": 24,
   "metadata": {
    "scrolled": true
   },
   "outputs": [
    {
     "data": {
      "text/plain": [
       "0.8466689173981544"
      ]
     },
     "execution_count": 24,
     "metadata": {},
     "output_type": "execute_result"
    }
   ],
   "source": [
    "accuracy_score(y_test, y_pred_xgb)"
   ]
  },
  {
   "cell_type": "markdown",
   "metadata": {},
   "source": [
    "### Manual Parameters"
   ]
  },
  {
   "cell_type": "code",
   "execution_count": 33,
   "metadata": {},
   "outputs": [
    {
     "data": {
      "text/plain": [
       "XGBClassifier(base_score=0.5, booster='gbtree', colsample_bylevel=1,\n",
       "       colsample_bynode=1, colsample_bytree=0.5, gamma=0.4, gpu_id=-1,\n",
       "       importance_type='gain', interaction_constraints='',\n",
       "       learning_rate=0.1, max_delta_step=0, max_depth=6,\n",
       "       min_child_weight=7, missing=nan, monotone_constraints='()',\n",
       "       n_estimators=100, n_jobs=0, num_parallel_tree=1,\n",
       "       objective='multi:softprob', random_state=0, reg_alpha=0,\n",
       "       reg_lambda=1, scale_pos_weight=None, subsample=1,\n",
       "       tree_method='exact', validate_parameters=1, verbosity=None)"
      ]
     },
     "execution_count": 33,
     "metadata": {},
     "output_type": "execute_result"
    }
   ],
   "source": [
    "reg_xgb = xgboost.XGBClassifier(objective='multi:softprob', min_child_weight=7, max_depth=6, learning_rate=0.1, gamma=0.4, colsample_bytree=0.5,)\n",
    "reg_xgb.fit(X_train, y_train)"
   ]
  },
  {
   "cell_type": "code",
   "execution_count": 34,
   "metadata": {},
   "outputs": [],
   "source": [
    "# predicting X_test\n",
    "y_pred_xgb = reg_xgb.predict(X_test)"
   ]
  },
  {
   "cell_type": "code",
   "execution_count": 35,
   "metadata": {},
   "outputs": [
    {
     "name": "stdout",
     "output_type": "stream",
     "text": [
      "Train Score 0.85 & Test Score 0.85\n"
     ]
    }
   ],
   "source": [
    "print(\"Train Score {:.2f} & Test Score {:.2f}\".format(reg_xgb.score(X_train,y_train),reg_xgb.score(X_test,y_test)))"
   ]
  },
  {
   "cell_type": "markdown",
   "metadata": {},
   "source": [
    "### 6. KNN"
   ]
  },
  {
   "cell_type": "code",
   "execution_count": 25,
   "metadata": {},
   "outputs": [
    {
     "data": {
      "text/plain": [
       "KNeighborsClassifier(algorithm='auto', leaf_size=30, metric='minkowski',\n",
       "           metric_params=None, n_jobs=None, n_neighbors=7, p=2,\n",
       "           weights='uniform')"
      ]
     },
     "execution_count": 25,
     "metadata": {},
     "output_type": "execute_result"
    }
   ],
   "source": [
    "from sklearn.neighbors import KNeighborsClassifier\n",
    "KNN = KNeighborsClassifier(n_neighbors=7)\n",
    "KNN.fit(X_train,y_train)"
   ]
  },
  {
   "cell_type": "code",
   "execution_count": 26,
   "metadata": {},
   "outputs": [
    {
     "data": {
      "text/plain": [
       "array([0, 0, 0, ..., 0, 0, 0], dtype=int64)"
      ]
     },
     "execution_count": 26,
     "metadata": {},
     "output_type": "execute_result"
    }
   ],
   "source": [
    "KNN.predict(X_test)"
   ]
  },
  {
   "cell_type": "code",
   "execution_count": 27,
   "metadata": {},
   "outputs": [
    {
     "name": "stdout",
     "output_type": "stream",
     "text": [
      "Train Score 0.85 & Test Score 0.83\n"
     ]
    }
   ],
   "source": [
    "print(\"Train Score {:.2f} & Test Score {:.2f}\".format(KNN.score(X_train,y_train), KNN.score(X_test,y_test)))"
   ]
  },
  {
   "cell_type": "markdown",
   "metadata": {},
   "source": [
    "### 7. Naive Bayes classifier"
   ]
  },
  {
   "cell_type": "code",
   "execution_count": 28,
   "metadata": {},
   "outputs": [],
   "source": [
    "# training a Naive Bayes classifier \n",
    "from sklearn.naive_bayes import GaussianNB \n",
    "gnb = GaussianNB().fit(X_train, y_train) "
   ]
  },
  {
   "cell_type": "code",
   "execution_count": 29,
   "metadata": {},
   "outputs": [],
   "source": [
    "gnb_predictions = gnb.predict(X_test)"
   ]
  },
  {
   "cell_type": "code",
   "execution_count": 30,
   "metadata": {},
   "outputs": [
    {
     "name": "stdout",
     "output_type": "stream",
     "text": [
      "Train Score 0.82 & Test Score 0.82\n"
     ]
    }
   ],
   "source": [
    "print(\"Train Score {:.2f} & Test Score {:.2f}\".format(gnb.score(X_train,y_train), gnb.score(X_test,y_test)))"
   ]
  },
  {
   "cell_type": "markdown",
   "metadata": {},
   "source": [
    "### TPOT"
   ]
  },
  {
   "cell_type": "code",
   "execution_count": 35,
   "metadata": {
    "scrolled": true
   },
   "outputs": [
    {
     "data": {
      "application/vnd.jupyter.widget-view+json": {
       "model_id": "",
       "version_major": 2,
       "version_minor": 0
      },
      "text/plain": [
       "HBox(children=(IntProgress(value=0, description='Optimization Progress', max=150, style=ProgressStyle(descript…"
      ]
     },
     "metadata": {},
     "output_type": "display_data"
    },
    {
     "name": "stdout",
     "output_type": "stream",
     "text": [
      "Generation 1 - Current best internal CV score: 0.8460878218013008\n",
      "Generation 2 - Current best internal CV score: 0.8460878218013008\n",
      "\n",
      "Best pipeline: RandomForestClassifier(input_matrix, bootstrap=True, criterion=gini, max_features=0.9500000000000001, min_samples_leaf=12, min_samples_split=16, n_estimators=100)\n"
     ]
    },
    {
     "data": {
      "text/plain": [
       "TPOTClassifier(config_dict=None, crossover_rate=0.1, cv=5,\n",
       "        disable_update_check=False, early_stop=None, generations=2,\n",
       "        max_eval_time_mins=5, max_time_mins=None, memory=None,\n",
       "        mutation_rate=0.9, n_jobs=1, offspring_size=None,\n",
       "        periodic_checkpoint_folder=None, population_size=50,\n",
       "        random_state=None, scoring=None, subsample=1.0, template=None,\n",
       "        use_dask=False, verbosity=2, warm_start=False)"
      ]
     },
     "execution_count": 35,
     "metadata": {},
     "output_type": "execute_result"
    }
   ],
   "source": [
    "from tpot import TPOTClassifier\n",
    "tpot = TPOTClassifier(generations=2, population_size=50, verbosity=2)\n",
    "tpot.fit(X_train, y_train)"
   ]
  },
  {
   "cell_type": "code",
   "execution_count": 36,
   "metadata": {},
   "outputs": [],
   "source": [
    "tpot_predictions = tpot.predict(X_test)"
   ]
  },
  {
   "cell_type": "code",
   "execution_count": 37,
   "metadata": {},
   "outputs": [
    {
     "name": "stdout",
     "output_type": "stream",
     "text": [
      "Train Score 0.86 & Test Score 0.85\n"
     ]
    }
   ],
   "source": [
    "print(\"Train Score {:.2f} & Test Score {:.2f}\".format(tpot.score(X_train,y_train), tpot.score(X_test,y_test)))"
   ]
  },
  {
   "cell_type": "markdown",
   "metadata": {},
   "source": [
    "### Submission"
   ]
  },
  {
   "cell_type": "code",
   "execution_count": 38,
   "metadata": {},
   "outputs": [],
   "source": [
    "# predicting test\n",
    "y_pred_test = tpot.predict(test)"
   ]
  },
  {
   "cell_type": "code",
   "execution_count": 39,
   "metadata": {},
   "outputs": [],
   "source": [
    "submission = pd.DataFrame({'ID': test_original['ID'], 'Crop_Damage': y_pred_test})\n",
    "submission.to_csv('Agriculture.csv', index=False)"
   ]
  },
  {
   "cell_type": "code",
   "execution_count": null,
   "metadata": {},
   "outputs": [],
   "source": []
  }
 ],
 "metadata": {
  "kernelspec": {
   "display_name": "Python 3",
   "language": "python",
   "name": "python3"
  },
  "language_info": {
   "codemirror_mode": {
    "name": "ipython",
    "version": 3
   },
   "file_extension": ".py",
   "mimetype": "text/x-python",
   "name": "python",
   "nbconvert_exporter": "python",
   "pygments_lexer": "ipython3",
   "version": "3.7.3"
  }
 },
 "nbformat": 4,
 "nbformat_minor": 2
}
